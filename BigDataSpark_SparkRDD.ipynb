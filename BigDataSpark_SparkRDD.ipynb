{
 "cells": [
  {
   "cell_type": "code",
   "execution_count": 3,
   "metadata": {
    "colab": {},
    "colab_type": "code",
    "executionInfo": {
     "elapsed": 2717,
     "status": "ok",
     "timestamp": 1592921996722,
     "user": {
      "displayName": "Kaushik B",
      "photoUrl": "https://lh3.googleusercontent.com/a-/AOh14Gj9b1zsclt5cgGjbVjcm4VuoI0pqcVpK-30JLst=s64",
      "userId": "07146570031648308753"
     },
     "user_tz": -330
    },
    "id": "Oil3udEXhfSH"
   },
   "outputs": [],
   "source": [
    "#Getting the Data Files\n",
    "\n",
    "import urllib\n",
    "f = urllib.request.urlretrieve (\"http://kdd.ics.uci.edu/databases/kddcup99/kddcup.data_10_percent.gz\", \"kddcup.data_10_percent.gz\")"
   ]
  },
  {
   "cell_type": "code",
   "execution_count": 5,
   "metadata": {
    "colab": {
     "base_uri": "https://localhost:8080/",
     "height": 408
    },
    "colab_type": "code",
    "executionInfo": {
     "elapsed": 46211,
     "status": "ok",
     "timestamp": 1592922340492,
     "user": {
      "displayName": "Kaushik B",
      "photoUrl": "https://lh3.googleusercontent.com/a-/AOh14Gj9b1zsclt5cgGjbVjcm4VuoI0pqcVpK-30JLst=s64",
      "userId": "07146570031648308753"
     },
     "user_tz": -330
    },
    "id": "gxXM9i31kN-V",
    "outputId": "1680f1c5-1e21-4ba5-b9bc-4448cc0fe973"
   },
   "outputs": [
    {
     "name": "stdout",
     "output_type": "stream",
     "text": [
      "\r",
      "0% [Working]\r",
      "            \r",
      "Get:1 http://security.ubuntu.com/ubuntu bionic-security InRelease [88.7 kB]\n",
      "\r",
      "0% [Waiting for headers] [1 InRelease 14.2 kB/88.7 kB 16%] [Connected to cloud.\r",
      "                                                                               \r",
      "Hit:2 http://ppa.launchpad.net/graphics-drivers/ppa/ubuntu bionic InRelease\n",
      "\r",
      "0% [Waiting for headers] [1 InRelease 88.7 kB/88.7 kB 100%] [Connected to cloud\r",
      "                                                                               \r",
      "Hit:3 http://archive.ubuntu.com/ubuntu bionic InRelease\n",
      "\r",
      "                                                                               \r",
      "Get:4 http://archive.ubuntu.com/ubuntu bionic-updates InRelease [88.7 kB]\n",
      "\r",
      "                                                                               \r",
      "Get:5 http://ppa.launchpad.net/marutter/c2d4u3.5/ubuntu bionic InRelease [15.4 kB]\n",
      "\r",
      "0% [4 InRelease 47.5 kB/88.7 kB 54%] [Waiting for headers] [Connected to develo\r",
      "0% [2 InRelease gpgv 21.3 kB] [4 InRelease 47.5 kB/88.7 kB 54%] [Waiting for he\r",
      "                                                                               \r",
      "Get:6 https://cloud.r-project.org/bin/linux/ubuntu bionic-cran35/ InRelease [3,626 B]\n",
      "\r",
      "0% [2 InRelease gpgv 21.3 kB] [4 InRelease 56.2 kB/88.7 kB 63%] [6 InRelease 3,\r",
      "0% [2 InRelease gpgv 21.3 kB] [4 InRelease 59.1 kB/88.7 kB 67%] [Waiting for he\r",
      "                                                                               \r",
      "0% [2 InRelease gpgv 21.3 kB] [Waiting for headers] [Waiting for headers]\r",
      "                                                                         \r",
      "Get:7 http://archive.ubuntu.com/ubuntu bionic-backports InRelease [74.6 kB]\n",
      "\r",
      "0% [2 InRelease gpgv 21.3 kB] [7 InRelease 14.2 kB/74.6 kB 19%] [Waiting for he\r",
      "                                                                               \r",
      "0% [2 InRelease gpgv 21.3 kB] [Waiting for headers]\r",
      "                                                   \r",
      "Ign:8 https://developer.download.nvidia.com/compute/cuda/repos/ubuntu1804/x86_64  InRelease\n",
      "\r",
      "0% [2 InRelease gpgv 21.3 kB] [Waiting for headers]\r",
      "                                                   \r",
      "0% [Waiting for headers]\r",
      "0% [3 InRelease gpgv 242 kB] [Waiting for headers]\r",
      "                                                  \r",
      "Ign:9 https://developer.download.nvidia.com/compute/machine-learning/repos/ubuntu1804/x86_64  InRelease\n",
      "\r",
      "                                                  \r",
      "0% [3 InRelease gpgv 242 kB]\r",
      "                            \r",
      "Get:10 https://developer.download.nvidia.com/compute/cuda/repos/ubuntu1804/x86_64  Release [697 B]\n",
      "\r",
      "0% [3 InRelease gpgv 242 kB] [10 Release 697 B/697 B 100%]\r",
      "                                                          \r",
      "0% [3 InRelease gpgv 242 kB]\r",
      "                            \r",
      "Get:11 https://developer.download.nvidia.com/compute/machine-learning/repos/ubuntu1804/x86_64  Release [564 B]\n",
      "\r",
      "0% [3 InRelease gpgv 242 kB]\r",
      "                            \r",
      "Get:12 https://developer.download.nvidia.com/compute/cuda/repos/ubuntu1804/x86_64  Release.gpg [801 B]\n",
      "Get:13 https://developer.download.nvidia.com/compute/machine-learning/repos/ubuntu1804/x86_64  Release.gpg [833 B]\n",
      "Get:14 http://security.ubuntu.com/ubuntu bionic-security/main amd64 Packages [961 kB]\n",
      "Get:15 http://ppa.launchpad.net/marutter/c2d4u3.5/ubuntu bionic/main Sources [1,840 kB]\n",
      "Get:16 http://ppa.launchpad.net/marutter/c2d4u3.5/ubuntu bionic/main amd64 Packages [888 kB]\n",
      "Get:17 http://archive.ubuntu.com/ubuntu bionic-updates/universe amd64 Packages [1,397 kB]\n",
      "Get:18 http://archive.ubuntu.com/ubuntu bionic-updates/main amd64 Packages [1,254 kB]\n",
      "Ign:19 https://developer.download.nvidia.com/compute/cuda/repos/ubuntu1804/x86_64  Packages\n",
      "Get:19 https://developer.download.nvidia.com/compute/cuda/repos/ubuntu1804/x86_64  Packages [151 kB]\n",
      "Get:20 https://developer.download.nvidia.com/compute/machine-learning/repos/ubuntu1804/x86_64  Packages [38.7 kB]\n",
      "Fetched 6,803 kB in 2s (3,226 kB/s)\n",
      "Reading package lists... Done\n"
     ]
    }
   ],
   "source": [
    "!apt-get update\n",
    "!apt-get install openjdk-8-jdk-headless -qq > /dev/null\n",
    "!wget -q http://apache.osuosl.org/spark/spark-2.4.5/spark-2.4.5-bin-hadoop2.7.tgz\n",
    "!tar xf spark-2.4.5-bin-hadoop2.7.tgz\n",
    "!pip install -q findspark"
   ]
  },
  {
   "cell_type": "code",
   "execution_count": 6,
   "metadata": {
    "colab": {},
    "colab_type": "code",
    "executionInfo": {
     "elapsed": 1238,
     "status": "ok",
     "timestamp": 1592922366755,
     "user": {
      "displayName": "Kaushik B",
      "photoUrl": "https://lh3.googleusercontent.com/a-/AOh14Gj9b1zsclt5cgGjbVjcm4VuoI0pqcVpK-30JLst=s64",
      "userId": "07146570031648308753"
     },
     "user_tz": -330
    },
    "id": "n2gGCmkHkh2C"
   },
   "outputs": [],
   "source": [
    "import os\n",
    "os.environ[\"JAVA_HOME\"] = \"/usr/lib/jvm/java-8-openjdk-amd64\"\n",
    "#os.environ[\"SPARK_HOME\"] = \"/content/spark-2.4.0-bin-hadoop2.7\"\n",
    "#os.environ[\"SPARK_HOME\"] = \"/content/spark-2.4.3-bin-hadoop2.7\"\n",
    "#os.environ[\"SPARK_HOME\"] = \"/content/spark-2.4.4-bin-hadoop2.7\"\n",
    "os.environ[\"SPARK_HOME\"] = \"/content/spark-2.4.5-bin-hadoop2.7\""
   ]
  },
  {
   "cell_type": "code",
   "execution_count": 7,
   "metadata": {
    "colab": {},
    "colab_type": "code",
    "executionInfo": {
     "elapsed": 6398,
     "status": "ok",
     "timestamp": 1592922389801,
     "user": {
      "displayName": "Kaushik B",
      "photoUrl": "https://lh3.googleusercontent.com/a-/AOh14Gj9b1zsclt5cgGjbVjcm4VuoI0pqcVpK-30JLst=s64",
      "userId": "07146570031648308753"
     },
     "user_tz": -330
    },
    "id": "yM7E9VwoknYl"
   },
   "outputs": [],
   "source": [
    "import findspark\n",
    "findspark.init()\n",
    "from pyspark.sql import SparkSession\n",
    "spark = SparkSession.builder.master(\"local[*]\").getOrCreate()"
   ]
  },
  {
   "cell_type": "code",
   "execution_count": 8,
   "metadata": {
    "colab": {
     "base_uri": "https://localhost:8080/",
     "height": 193
    },
    "colab_type": "code",
    "executionInfo": {
     "elapsed": 1492,
     "status": "ok",
     "timestamp": 1592922495879,
     "user": {
      "displayName": "Kaushik B",
      "photoUrl": "https://lh3.googleusercontent.com/a-/AOh14Gj9b1zsclt5cgGjbVjcm4VuoI0pqcVpK-30JLst=s64",
      "userId": "07146570031648308753"
     },
     "user_tz": -330
    },
    "id": "XuJcA9L_lDc4",
    "outputId": "3724cb8b-97e6-4c4f-c671-3769166f8493"
   },
   "outputs": [
    {
     "data": {
      "text/html": [
       "\n",
       "        <div>\n",
       "            <p><b>SparkContext</b></p>\n",
       "\n",
       "            <p><a href=\"http://bc9740cad1e8:4040\">Spark UI</a></p>\n",
       "\n",
       "            <dl>\n",
       "              <dt>Version</dt>\n",
       "                <dd><code>v2.4.5</code></dd>\n",
       "              <dt>Master</dt>\n",
       "                <dd><code>local[*]</code></dd>\n",
       "              <dt>AppName</dt>\n",
       "                <dd><code>pyspark-shell</code></dd>\n",
       "            </dl>\n",
       "        </div>\n",
       "        "
      ],
      "text/plain": [
       "<SparkContext master=local[*] appName=pyspark-shell>"
      ]
     },
     "execution_count": 8,
     "metadata": {
      "tags": []
     },
     "output_type": "execute_result"
    }
   ],
   "source": [
    "sc = spark.sparkContext\n",
    "sc"
   ]
  },
  {
   "cell_type": "code",
   "execution_count": 9,
   "metadata": {
    "colab": {},
    "colab_type": "code",
    "executionInfo": {
     "elapsed": 2024,
     "status": "ok",
     "timestamp": 1592922510966,
     "user": {
      "displayName": "Kaushik B",
      "photoUrl": "https://lh3.googleusercontent.com/a-/AOh14Gj9b1zsclt5cgGjbVjcm4VuoI0pqcVpK-30JLst=s64",
      "userId": "07146570031648308753"
     },
     "user_tz": -330
    },
    "id": "prGojwytjDTg"
   },
   "outputs": [],
   "source": [
    "#Creating a RDD from a File\n",
    "\n",
    "data_file = \"./kddcup.data_10_percent.gz\"\n",
    "raw_data = sc.textFile(data_file)"
   ]
  },
  {
   "cell_type": "code",
   "execution_count": 11,
   "metadata": {
    "colab": {
     "base_uri": "https://localhost:8080/",
     "height": 34
    },
    "colab_type": "code",
    "executionInfo": {
     "elapsed": 2364,
     "status": "ok",
     "timestamp": 1592922610156,
     "user": {
      "displayName": "Kaushik B",
      "photoUrl": "https://lh3.googleusercontent.com/a-/AOh14Gj9b1zsclt5cgGjbVjcm4VuoI0pqcVpK-30JLst=s64",
      "userId": "07146570031648308753"
     },
     "user_tz": -330
    },
    "id": "LgKxpPTylMd2",
    "outputId": "091c6ad4-36fe-4425-93d6-500f4093112a"
   },
   "outputs": [
    {
     "data": {
      "text/plain": [
       "494021"
      ]
     },
     "execution_count": 11,
     "metadata": {
      "tags": []
     },
     "output_type": "execute_result"
    }
   ],
   "source": [
    "raw_data.count()"
   ]
  },
  {
   "cell_type": "code",
   "execution_count": 12,
   "metadata": {
    "colab": {
     "base_uri": "https://localhost:8080/",
     "height": 122
    },
    "colab_type": "code",
    "executionInfo": {
     "elapsed": 1181,
     "status": "ok",
     "timestamp": 1592922616676,
     "user": {
      "displayName": "Kaushik B",
      "photoUrl": "https://lh3.googleusercontent.com/a-/AOh14Gj9b1zsclt5cgGjbVjcm4VuoI0pqcVpK-30JLst=s64",
      "userId": "07146570031648308753"
     },
     "user_tz": -330
    },
    "id": "LMht4OUEliFL",
    "outputId": "6fe78b14-2775-4c40-e366-2ea9405a00fd"
   },
   "outputs": [
    {
     "data": {
      "text/plain": [
       "['0,tcp,http,SF,181,5450,0,0,0,0,0,1,0,0,0,0,0,0,0,0,0,0,8,8,0.00,0.00,0.00,0.00,1.00,0.00,0.00,9,9,1.00,0.00,0.11,0.00,0.00,0.00,0.00,0.00,normal.',\n",
       " '0,tcp,http,SF,239,486,0,0,0,0,0,1,0,0,0,0,0,0,0,0,0,0,8,8,0.00,0.00,0.00,0.00,1.00,0.00,0.00,19,19,1.00,0.00,0.05,0.00,0.00,0.00,0.00,0.00,normal.',\n",
       " '0,tcp,http,SF,235,1337,0,0,0,0,0,1,0,0,0,0,0,0,0,0,0,0,8,8,0.00,0.00,0.00,0.00,1.00,0.00,0.00,29,29,1.00,0.00,0.03,0.00,0.00,0.00,0.00,0.00,normal.',\n",
       " '0,tcp,http,SF,219,1337,0,0,0,0,0,1,0,0,0,0,0,0,0,0,0,0,6,6,0.00,0.00,0.00,0.00,1.00,0.00,0.00,39,39,1.00,0.00,0.03,0.00,0.00,0.00,0.00,0.00,normal.',\n",
       " '0,tcp,http,SF,217,2032,0,0,0,0,0,1,0,0,0,0,0,0,0,0,0,0,6,6,0.00,0.00,0.00,0.00,1.00,0.00,0.00,49,49,1.00,0.00,0.02,0.00,0.00,0.00,0.00,0.00,normal.']"
      ]
     },
     "execution_count": 12,
     "metadata": {
      "tags": []
     },
     "output_type": "execute_result"
    }
   ],
   "source": [
    "raw_data.take(5)"
   ]
  },
  {
   "cell_type": "code",
   "execution_count": 13,
   "metadata": {
    "colab": {},
    "colab_type": "code",
    "executionInfo": {
     "elapsed": 1498,
     "status": "ok",
     "timestamp": 1592922702928,
     "user": {
      "displayName": "Kaushik B",
      "photoUrl": "https://lh3.googleusercontent.com/a-/AOh14Gj9b1zsclt5cgGjbVjcm4VuoI0pqcVpK-30JLst=s64",
      "userId": "07146570031648308753"
     },
     "user_tz": -330
    },
    "id": "ADr4dylql3BN"
   },
   "outputs": [],
   "source": [
    "a = range(100)\n",
    "    \n",
    "data = sc.parallelize(a)"
   ]
  },
  {
   "cell_type": "code",
   "execution_count": 14,
   "metadata": {
    "colab": {
     "base_uri": "https://localhost:8080/",
     "height": 34
    },
    "colab_type": "code",
    "executionInfo": {
     "elapsed": 1151,
     "status": "ok",
     "timestamp": 1592922799620,
     "user": {
      "displayName": "Kaushik B",
      "photoUrl": "https://lh3.googleusercontent.com/a-/AOh14Gj9b1zsclt5cgGjbVjcm4VuoI0pqcVpK-30JLst=s64",
      "userId": "07146570031648308753"
     },
     "user_tz": -330
    },
    "id": "ZF8gmDjMmPFn",
    "outputId": "81503b2f-e83d-4365-b162-ac2c441dc924"
   },
   "outputs": [
    {
     "data": {
      "text/plain": [
       "100"
      ]
     },
     "execution_count": 14,
     "metadata": {
      "tags": []
     },
     "output_type": "execute_result"
    }
   ],
   "source": [
    "data.count()"
   ]
  },
  {
   "cell_type": "code",
   "execution_count": 15,
   "metadata": {
    "colab": {
     "base_uri": "https://localhost:8080/",
     "height": 34
    },
    "colab_type": "code",
    "executionInfo": {
     "elapsed": 1885,
     "status": "ok",
     "timestamp": 1592922875986,
     "user": {
      "displayName": "Kaushik B",
      "photoUrl": "https://lh3.googleusercontent.com/a-/AOh14Gj9b1zsclt5cgGjbVjcm4VuoI0pqcVpK-30JLst=s64",
      "userId": "07146570031648308753"
     },
     "user_tz": -330
    },
    "id": "N437-v6wmhIw",
    "outputId": "bfca5bb8-8ffc-44aa-cab2-35a3e41eccaa"
   },
   "outputs": [
    {
     "data": {
      "text/plain": [
       "[0, 1, 2, 3, 4]"
      ]
     },
     "execution_count": 15,
     "metadata": {
      "tags": []
     },
     "output_type": "execute_result"
    }
   ],
   "source": [
    "data.take(5)"
   ]
  },
  {
   "cell_type": "code",
   "execution_count": 16,
   "metadata": {
    "colab": {},
    "colab_type": "code",
    "executionInfo": {
     "elapsed": 1760,
     "status": "ok",
     "timestamp": 1592923082709,
     "user": {
      "displayName": "Kaushik B",
      "photoUrl": "https://lh3.googleusercontent.com/a-/AOh14Gj9b1zsclt5cgGjbVjcm4VuoI0pqcVpK-30JLst=s64",
      "userId": "07146570031648308753"
     },
     "user_tz": -330
    },
    "id": "xaEGo1g2nFU9"
   },
   "outputs": [],
   "source": [
    "#The filter Transformation\n",
    "\n",
    "normal_raw_data = raw_data.filter(lambda x: 'normal.' in x)"
   ]
  },
  {
   "cell_type": "code",
   "execution_count": 19,
   "metadata": {
    "colab": {
     "base_uri": "https://localhost:8080/",
     "height": 51
    },
    "colab_type": "code",
    "executionInfo": {
     "elapsed": 2207,
     "status": "ok",
     "timestamp": 1592923439595,
     "user": {
      "displayName": "Kaushik B",
      "photoUrl": "https://lh3.googleusercontent.com/a-/AOh14Gj9b1zsclt5cgGjbVjcm4VuoI0pqcVpK-30JLst=s64",
      "userId": "07146570031648308753"
     },
     "user_tz": -330
    },
    "id": "Q9f_whN2nVp5",
    "outputId": "8f0776de-04e5-4989-a286-0ca9cd123443"
   },
   "outputs": [
    {
     "name": "stdout",
     "output_type": "stream",
     "text": [
      "There are 97278 'normal' interactions\n",
      "Count completed in 1.154 seconds\n"
     ]
    }
   ],
   "source": [
    " from time import time\n",
    "t0 = time()\n",
    "normal_count = normal_raw_data.count()\n",
    "tt = time() - t0\n",
    "print(\"There are {} 'normal' interactions\".format(normal_count))\n",
    "print(\"Count completed in {} seconds\".format(round(tt,3)))"
   ]
  },
  {
   "cell_type": "code",
   "execution_count": 21,
   "metadata": {
    "colab": {
     "base_uri": "https://localhost:8080/",
     "height": 748
    },
    "colab_type": "code",
    "executionInfo": {
     "elapsed": 1563,
     "status": "ok",
     "timestamp": 1592923995723,
     "user": {
      "displayName": "Kaushik B",
      "photoUrl": "https://lh3.googleusercontent.com/a-/AOh14Gj9b1zsclt5cgGjbVjcm4VuoI0pqcVpK-30JLst=s64",
      "userId": "07146570031648308753"
     },
     "user_tz": -330
    },
    "id": "yYdaYhZ4qbLk",
    "outputId": "b7e7c9be-88d6-49d6-9e50-9863b76a0282"
   },
   "outputs": [
    {
     "name": "stdout",
     "output_type": "stream",
     "text": [
      "Parse completed in 0.08 seconds\n",
      "['0',\n",
      " 'tcp',\n",
      " 'http',\n",
      " 'SF',\n",
      " '181',\n",
      " '5450',\n",
      " '0',\n",
      " '0',\n",
      " '0',\n",
      " '0',\n",
      " '0',\n",
      " '1',\n",
      " '0',\n",
      " '0',\n",
      " '0',\n",
      " '0',\n",
      " '0',\n",
      " '0',\n",
      " '0',\n",
      " '0',\n",
      " '0',\n",
      " '0',\n",
      " '8',\n",
      " '8',\n",
      " '0.00',\n",
      " '0.00',\n",
      " '0.00',\n",
      " '0.00',\n",
      " '1.00',\n",
      " '0.00',\n",
      " '0.00',\n",
      " '9',\n",
      " '9',\n",
      " '1.00',\n",
      " '0.00',\n",
      " '0.11',\n",
      " '0.00',\n",
      " '0.00',\n",
      " '0.00',\n",
      " '0.00',\n",
      " '0.00',\n",
      " 'normal.']\n"
     ]
    }
   ],
   "source": [
    "  # The map Transformation\n",
    "  \n",
    "  from pprint import pprint\n",
    "  csv_data = raw_data.map(lambda x: x.split(\",\"))\n",
    "  t0 = time()\n",
    "  head_rows = csv_data.take(5)\n",
    "  tt = time() - t0\n",
    "  print(\"Parse completed in {} seconds\".format(round(tt,3)))\n",
    "  pprint(head_rows[0])"
   ]
  },
  {
   "cell_type": "code",
   "execution_count": 23,
   "metadata": {
    "colab": {
     "base_uri": "https://localhost:8080/",
     "height": 34
    },
    "colab_type": "code",
    "executionInfo": {
     "elapsed": 3151,
     "status": "ok",
     "timestamp": 1592924086769,
     "user": {
      "displayName": "Kaushik B",
      "photoUrl": "https://lh3.googleusercontent.com/a-/AOh14Gj9b1zsclt5cgGjbVjcm4VuoI0pqcVpK-30JLst=s64",
      "userId": "07146570031648308753"
     },
     "user_tz": -330
    },
    "id": "SZ_ypQKvrDlV",
    "outputId": "f6eb6f73-28b7-4d8f-b1b4-40f03446389b"
   },
   "outputs": [
    {
     "name": "stdout",
     "output_type": "stream",
     "text": [
      "Parse completed in 1.989 seconds\n"
     ]
    }
   ],
   "source": [
    "    t0 = time()\n",
    "    head_rows = csv_data.take(100000)\n",
    "    tt = time() - t0\n",
    "    print(\"Parse completed in {} seconds\".format(round(tt,3)))"
   ]
  },
  {
   "cell_type": "code",
   "execution_count": 24,
   "metadata": {
    "colab": {
     "base_uri": "https://localhost:8080/",
     "height": 748
    },
    "colab_type": "code",
    "executionInfo": {
     "elapsed": 1695,
     "status": "ok",
     "timestamp": 1592924265029,
     "user": {
      "displayName": "Kaushik B",
      "photoUrl": "https://lh3.googleusercontent.com/a-/AOh14Gj9b1zsclt5cgGjbVjcm4VuoI0pqcVpK-30JLst=s64",
      "userId": "07146570031648308753"
     },
     "user_tz": -330
    },
    "id": "A-FKbZWdrRRi",
    "outputId": "35d54c25-a69a-409b-91fe-44c79aea0f03"
   },
   "outputs": [
    {
     "name": "stdout",
     "output_type": "stream",
     "text": [
      "('normal.',\n",
      " ['0',\n",
      "  'tcp',\n",
      "  'http',\n",
      "  'SF',\n",
      "  '181',\n",
      "  '5450',\n",
      "  '0',\n",
      "  '0',\n",
      "  '0',\n",
      "  '0',\n",
      "  '0',\n",
      "  '1',\n",
      "  '0',\n",
      "  '0',\n",
      "  '0',\n",
      "  '0',\n",
      "  '0',\n",
      "  '0',\n",
      "  '0',\n",
      "  '0',\n",
      "  '0',\n",
      "  '0',\n",
      "  '8',\n",
      "  '8',\n",
      "  '0.00',\n",
      "  '0.00',\n",
      "  '0.00',\n",
      "  '0.00',\n",
      "  '1.00',\n",
      "  '0.00',\n",
      "  '0.00',\n",
      "  '9',\n",
      "  '9',\n",
      "  '1.00',\n",
      "  '0.00',\n",
      "  '0.11',\n",
      "  '0.00',\n",
      "  '0.00',\n",
      "  '0.00',\n",
      "  '0.00',\n",
      "  '0.00',\n",
      "  'normal.'])\n"
     ]
    }
   ],
   "source": [
    "# Using map with Predefined Functions\n",
    "\n",
    "def parse_interaction(line):\n",
    "    elems = line.split(\",\")\n",
    "    tag = elems[41]\n",
    "    return (tag, elems)\n",
    "\n",
    "key_csv_data = raw_data.map(parse_interaction)\n",
    "head_rows = key_csv_data.take(5)\n",
    "pprint(head_rows[0])"
   ]
  },
  {
   "cell_type": "code",
   "execution_count": 27,
   "metadata": {
    "colab": {
     "base_uri": "https://localhost:8080/",
     "height": 34
    },
    "colab_type": "code",
    "executionInfo": {
     "elapsed": 5479,
     "status": "ok",
     "timestamp": 1592924701653,
     "user": {
      "displayName": "Kaushik B",
      "photoUrl": "https://lh3.googleusercontent.com/a-/AOh14Gj9b1zsclt5cgGjbVjcm4VuoI0pqcVpK-30JLst=s64",
      "userId": "07146570031648308753"
     },
     "user_tz": -330
    },
    "id": "isilC39AtOTH",
    "outputId": "d1a96144-c579-4133-d075-51888eed1435"
   },
   "outputs": [
    {
     "name": "stdout",
     "output_type": "stream",
     "text": [
      "Data collected in 4.28 seconds\n"
     ]
    }
   ],
   "source": [
    "# The collect Action\n",
    "\n",
    "t0 = time()\n",
    "all_raw_data = raw_data.collect()\n",
    "tt = time() - t0\n",
    "print(\"Data collected in {} seconds\".format(round(tt,3)))"
   ]
  },
  {
   "cell_type": "code",
   "execution_count": 32,
   "metadata": {
    "colab": {
     "base_uri": "https://localhost:8080/",
     "height": 51
    },
    "colab_type": "code",
    "executionInfo": {
     "elapsed": 6099,
     "status": "ok",
     "timestamp": 1592927177269,
     "user": {
      "displayName": "Kaushik B",
      "photoUrl": "https://lh3.googleusercontent.com/a-/AOh14Gj9b1zsclt5cgGjbVjcm4VuoI0pqcVpK-30JLst=s64",
      "userId": "07146570031648308753"
     },
     "user_tz": -330
    },
    "id": "u58w-5TXt2uT",
    "outputId": "1a425e28-dc9b-4e06-c154-86177096d173"
   },
   "outputs": [
    {
     "name": "stdout",
     "output_type": "stream",
     "text": [
      "Data collected in 3.377 seconds\n",
      "There are 97278 'normal' interactions\n"
     ]
    }
   ],
   "source": [
    "# All the above steps in a single one \n",
    "\n",
    "# get data from file\n",
    "data_file = \"./kddcup.data_10_percent.gz\"\n",
    "raw_data = sc.textFile(data_file)\n",
    "\n",
    "# parse into key-value pairs\n",
    "key_csv_data = raw_data.map(parse_interaction)\n",
    "\n",
    "# filter normal key interactions\n",
    "normal_key_interactions = key_csv_data.filter(lambda x: x[0] == \"normal.\")\n",
    "\n",
    "# collect all\n",
    "t0 = time()\n",
    "all_normal = normal_key_interactions.collect()\n",
    "tt = time() - t0\n",
    "normal_count = len(all_normal)\n",
    "print(\"Data collected in {} seconds\".format(round(tt,3)))\n",
    "print(\"There are {} 'normal' interactions\".format(normal_count))"
   ]
  },
  {
   "cell_type": "code",
   "execution_count": 33,
   "metadata": {
    "colab": {
     "base_uri": "https://localhost:8080/",
     "height": 34
    },
    "colab_type": "code",
    "executionInfo": {
     "elapsed": 5985,
     "status": "ok",
     "timestamp": 1592927185768,
     "user": {
      "displayName": "Kaushik B",
      "photoUrl": "https://lh3.googleusercontent.com/a-/AOh14Gj9b1zsclt5cgGjbVjcm4VuoI0pqcVpK-30JLst=s64",
      "userId": "07146570031648308753"
     },
     "user_tz": -330
    },
    "id": "ZuB-xz3h2EyM",
    "outputId": "fa5ab044-ff8e-4597-9187-dc3bb581aed5"
   },
   "outputs": [
    {
     "name": "stdout",
     "output_type": "stream",
     "text": [
      "Sample size is 49493 of 494021\n"
     ]
    }
   ],
   "source": [
    "# The sample Transformation\n",
    "\n",
    "raw_data_sample = raw_data.sample(False, 0.1, 1234)\n",
    "sample_size = raw_data_sample.count()\n",
    "total_size = raw_data.count()\n",
    "print(\"Sample size is {} of {}\".format(sample_size, total_size))"
   ]
  },
  {
   "cell_type": "code",
   "execution_count": 35,
   "metadata": {
    "colab": {
     "base_uri": "https://localhost:8080/",
     "height": 51
    },
    "colab_type": "code",
    "executionInfo": {
     "elapsed": 2582,
     "status": "ok",
     "timestamp": 1592927434703,
     "user": {
      "displayName": "Kaushik B",
      "photoUrl": "https://lh3.googleusercontent.com/a-/AOh14Gj9b1zsclt5cgGjbVjcm4VuoI0pqcVpK-30JLst=s64",
      "userId": "07146570031648308753"
     },
     "user_tz": -330
    },
    "id": "YpmWv4fW3z5c",
    "outputId": "b0b81377-1795-4522-bb1c-a34630d7cab4"
   },
   "outputs": [
    {
     "name": "stdout",
     "output_type": "stream",
     "text": [
      "The ratio of 'normal' interactions is 0.195\n",
      "Count done in 1.267 seconds\n"
     ]
    }
   ],
   "source": [
    "from time import time\n",
    "\n",
    "# transformations to be applied\n",
    "raw_data_sample_items = raw_data_sample.map(lambda x: x.split(\",\"))\n",
    "sample_normal_tags = raw_data_sample_items.filter(lambda x: \"normal.\" in x)\n",
    "\n",
    "# actions + time\n",
    "t0 = time()\n",
    "sample_normal_tags_count = sample_normal_tags.count()\n",
    "tt = time() - t0\n",
    "\n",
    "sample_normal_ratio = sample_normal_tags_count / float(sample_size)\n",
    "print(\"The ratio of 'normal' interactions is {}\".format(round(sample_normal_ratio,3))) \n",
    "print(\"Count done in {} seconds\".format(round(tt,3)))"
   ]
  },
  {
   "cell_type": "code",
   "execution_count": 37,
   "metadata": {
    "colab": {
     "base_uri": "https://localhost:8080/",
     "height": 51
    },
    "colab_type": "code",
    "executionInfo": {
     "elapsed": 3247,
     "status": "ok",
     "timestamp": 1592927490870,
     "user": {
      "displayName": "Kaushik B",
      "photoUrl": "https://lh3.googleusercontent.com/a-/AOh14Gj9b1zsclt5cgGjbVjcm4VuoI0pqcVpK-30JLst=s64",
      "userId": "07146570031648308753"
     },
     "user_tz": -330
    },
    "id": "NImIB5eu4BO0",
    "outputId": "3517db57-3cf3-4400-856d-5446b8228f78"
   },
   "outputs": [
    {
     "name": "stdout",
     "output_type": "stream",
     "text": [
      "The ratio of 'normal' interactions is 0.197\n",
      "Count done in 2.076 seconds\n"
     ]
    }
   ],
   "source": [
    "# transformations to be applied\n",
    "raw_data_items = raw_data.map(lambda x: x.split(\",\"))\n",
    "normal_tags = raw_data_items.filter(lambda x: \"normal.\" in x)\n",
    "\n",
    "# actions + time\n",
    "t0 = time()\n",
    "normal_tags_count = normal_tags.count()\n",
    "tt = time() - t0\n",
    "\n",
    "normal_ratio = normal_tags_count / float(total_size)\n",
    "print(\"The ratio of 'normal' interactions is {}\".format(round(normal_ratio,3))) \n",
    "print(\"Count done in {} seconds\".format(round(tt,3)))"
   ]
  },
  {
   "cell_type": "code",
   "execution_count": 38,
   "metadata": {
    "colab": {
     "base_uri": "https://localhost:8080/",
     "height": 51
    },
    "colab_type": "code",
    "executionInfo": {
     "elapsed": 5264,
     "status": "ok",
     "timestamp": 1592927548576,
     "user": {
      "displayName": "Kaushik B",
      "photoUrl": "https://lh3.googleusercontent.com/a-/AOh14Gj9b1zsclt5cgGjbVjcm4VuoI0pqcVpK-30JLst=s64",
      "userId": "07146570031648308753"
     },
     "user_tz": -330
    },
    "id": "Jnh9AAoP4Mbv",
    "outputId": "6bd31d09-6074-42c5-d12a-367b5b448615"
   },
   "outputs": [
    {
     "name": "stdout",
     "output_type": "stream",
     "text": [
      "The ratio of 'normal' interactions is 0.1967175\n",
      "Count done in 3.962 seconds\n"
     ]
    }
   ],
   "source": [
    "# The takeSample Action\n",
    "\n",
    "t0 = time()\n",
    "raw_data_sample = raw_data.takeSample(False, 400000, 1234)\n",
    "normal_data_sample = [x.split(\",\") for x in raw_data_sample if \"normal.\" in x]\n",
    "tt = time() - t0\n",
    "\n",
    "normal_sample_size = len(normal_data_sample)\n",
    "\n",
    "normal_ratio = normal_sample_size / 400000.0\n",
    "print(\"The ratio of 'normal' interactions is {}\".format(normal_ratio))\n",
    "print(\"Count done in {} seconds\".format(round(tt,3)))"
   ]
  },
  {
   "cell_type": "code",
   "execution_count": 39,
   "metadata": {
    "colab": {},
    "colab_type": "code",
    "executionInfo": {
     "elapsed": 1301,
     "status": "ok",
     "timestamp": 1592927617151,
     "user": {
      "displayName": "Kaushik B",
      "photoUrl": "https://lh3.googleusercontent.com/a-/AOh14Gj9b1zsclt5cgGjbVjcm4VuoI0pqcVpK-30JLst=s64",
      "userId": "07146570031648308753"
     },
     "user_tz": -330
    },
    "id": "rSVSVEwK4hl1"
   },
   "outputs": [],
   "source": [
    "# Getting Attack Interactions Using substract\n",
    "\n",
    "attack_raw_data = raw_data.subtract(normal_raw_data)"
   ]
  },
  {
   "cell_type": "code",
   "execution_count": 41,
   "metadata": {
    "colab": {
     "base_uri": "https://localhost:8080/",
     "height": 34
    },
    "colab_type": "code",
    "executionInfo": {
     "elapsed": 2463,
     "status": "ok",
     "timestamp": 1592927671974,
     "user": {
      "displayName": "Kaushik B",
      "photoUrl": "https://lh3.googleusercontent.com/a-/AOh14Gj9b1zsclt5cgGjbVjcm4VuoI0pqcVpK-30JLst=s64",
      "userId": "07146570031648308753"
     },
     "user_tz": -330
    },
    "id": "6rcEgWSF4rUn",
    "outputId": "28d373b1-1536-4f1c-e2bb-9fffa4c872d7"
   },
   "outputs": [
    {
     "name": "stdout",
     "output_type": "stream",
     "text": [
      "All count in 1.12 secs\n"
     ]
    }
   ],
   "source": [
    "from time import time\n",
    "\n",
    "# count all\n",
    "t0 = time()\n",
    "raw_data_count = raw_data.count()\n",
    "tt = time() - t0\n",
    "print(\"All count in {} secs\".format(round(tt,3)))"
   ]
  },
  {
   "cell_type": "code",
   "execution_count": 43,
   "metadata": {
    "colab": {
     "base_uri": "https://localhost:8080/",
     "height": 34
    },
    "colab_type": "code",
    "executionInfo": {
     "elapsed": 1968,
     "status": "ok",
     "timestamp": 1592927711639,
     "user": {
      "displayName": "Kaushik B",
      "photoUrl": "https://lh3.googleusercontent.com/a-/AOh14Gj9b1zsclt5cgGjbVjcm4VuoI0pqcVpK-30JLst=s64",
      "userId": "07146570031648308753"
     },
     "user_tz": -330
    },
    "id": "xEvIu12T47aC",
    "outputId": "90055f1e-fa8d-425a-af53-f49d3a57e2dc"
   },
   "outputs": [
    {
     "name": "stdout",
     "output_type": "stream",
     "text": [
      "Normal count in 1.118 secs\n"
     ]
    }
   ],
   "source": [
    "# count normal\n",
    "t0 = time()\n",
    "normal_raw_data_count = normal_raw_data.count()\n",
    "tt = time() - t0\n",
    "print(\"Normal count in {} secs\".format(round(tt,3)))"
   ]
  },
  {
   "cell_type": "code",
   "execution_count": 44,
   "metadata": {
    "colab": {
     "base_uri": "https://localhost:8080/",
     "height": 34
    },
    "colab_type": "code",
    "executionInfo": {
     "elapsed": 7880,
     "status": "ok",
     "timestamp": 1592927748091,
     "user": {
      "displayName": "Kaushik B",
      "photoUrl": "https://lh3.googleusercontent.com/a-/AOh14Gj9b1zsclt5cgGjbVjcm4VuoI0pqcVpK-30JLst=s64",
      "userId": "07146570031648308753"
     },
     "user_tz": -330
    },
    "id": "xvIu5c7V5CuO",
    "outputId": "844eb532-f1d2-43ce-ca2f-f15a16fe9b2c"
   },
   "outputs": [
    {
     "name": "stdout",
     "output_type": "stream",
     "text": [
      "Attack count in 6.462 secs\n"
     ]
    }
   ],
   "source": [
    "# count attacks\n",
    "t0 = time()\n",
    "attack_raw_data_count = attack_raw_data.count()\n",
    "tt = time() - t0\n",
    "print(\"Attack count in {} secs\".format(round(tt,3)))"
   ]
  },
  {
   "cell_type": "code",
   "execution_count": 45,
   "metadata": {
    "colab": {
     "base_uri": "https://localhost:8080/",
     "height": 34
    },
    "colab_type": "code",
    "executionInfo": {
     "elapsed": 1180,
     "status": "ok",
     "timestamp": 1592927791341,
     "user": {
      "displayName": "Kaushik B",
      "photoUrl": "https://lh3.googleusercontent.com/a-/AOh14Gj9b1zsclt5cgGjbVjcm4VuoI0pqcVpK-30JLst=s64",
      "userId": "07146570031648308753"
     },
     "user_tz": -330
    },
    "id": "u7mTWS7s5Nh0",
    "outputId": "ff8eb555-fe63-46ef-b481-234a9e44e9fb"
   },
   "outputs": [
    {
     "name": "stdout",
     "output_type": "stream",
     "text": [
      "There are 97278 normal interactions and 396743 attacks, from a total of 494021 interactions\n"
     ]
    }
   ],
   "source": [
    "print(\"There are {} normal interactions and {} attacks, \\\n",
    "from a total of {} interactions\".format(normal_raw_data_count,attack_raw_data_count,raw_data_count))"
   ]
  },
  {
   "cell_type": "code",
   "execution_count": 46,
   "metadata": {
    "colab": {
     "base_uri": "https://localhost:8080/",
     "height": 34
    },
    "colab_type": "code",
    "executionInfo": {
     "elapsed": 3705,
     "status": "ok",
     "timestamp": 1592927842352,
     "user": {
      "displayName": "Kaushik B",
      "photoUrl": "https://lh3.googleusercontent.com/a-/AOh14Gj9b1zsclt5cgGjbVjcm4VuoI0pqcVpK-30JLst=s64",
      "userId": "07146570031648308753"
     },
     "user_tz": -330
    },
    "id": "46BPNoMG5Yze",
    "outputId": "766a2110-1ef2-496d-ea40-e2c2038f7b71"
   },
   "outputs": [
    {
     "data": {
      "text/plain": [
       "['tcp', 'udp', 'icmp']"
      ]
     },
     "execution_count": 46,
     "metadata": {
      "tags": []
     },
     "output_type": "execute_result"
    }
   ],
   "source": [
    "# Protocol and Service Combinations Using cartesian\n",
    "csv_data = raw_data.map(lambda x: x.split(\",\"))\n",
    "protocols = csv_data.map(lambda x: x[1]).distinct()\n",
    "protocols.collect()"
   ]
  },
  {
   "cell_type": "code",
   "execution_count": 47,
   "metadata": {
    "colab": {
     "base_uri": "https://localhost:8080/",
     "height": 1000
    },
    "colab_type": "code",
    "executionInfo": {
     "elapsed": 3736,
     "status": "ok",
     "timestamp": 1592927866176,
     "user": {
      "displayName": "Kaushik B",
      "photoUrl": "https://lh3.googleusercontent.com/a-/AOh14Gj9b1zsclt5cgGjbVjcm4VuoI0pqcVpK-30JLst=s64",
      "userId": "07146570031648308753"
     },
     "user_tz": -330
    },
    "id": "8m0Uyk0I5jAS",
    "outputId": "9d5feda9-a2e9-4b48-afda-5db906666020"
   },
   "outputs": [
    {
     "data": {
      "text/plain": [
       "['http',\n",
       " 'smtp',\n",
       " 'finger',\n",
       " 'domain_u',\n",
       " 'auth',\n",
       " 'telnet',\n",
       " 'ftp',\n",
       " 'eco_i',\n",
       " 'ntp_u',\n",
       " 'ecr_i',\n",
       " 'other',\n",
       " 'private',\n",
       " 'pop_3',\n",
       " 'ftp_data',\n",
       " 'rje',\n",
       " 'time',\n",
       " 'mtp',\n",
       " 'link',\n",
       " 'remote_job',\n",
       " 'gopher',\n",
       " 'ssh',\n",
       " 'name',\n",
       " 'whois',\n",
       " 'domain',\n",
       " 'login',\n",
       " 'imap4',\n",
       " 'daytime',\n",
       " 'ctf',\n",
       " 'nntp',\n",
       " 'shell',\n",
       " 'IRC',\n",
       " 'nnsp',\n",
       " 'http_443',\n",
       " 'exec',\n",
       " 'printer',\n",
       " 'efs',\n",
       " 'courier',\n",
       " 'uucp',\n",
       " 'klogin',\n",
       " 'kshell',\n",
       " 'echo',\n",
       " 'discard',\n",
       " 'systat',\n",
       " 'supdup',\n",
       " 'iso_tsap',\n",
       " 'hostnames',\n",
       " 'csnet_ns',\n",
       " 'pop_2',\n",
       " 'sunrpc',\n",
       " 'uucp_path',\n",
       " 'netbios_ns',\n",
       " 'netbios_ssn',\n",
       " 'netbios_dgm',\n",
       " 'sql_net',\n",
       " 'vmnet',\n",
       " 'bgp',\n",
       " 'Z39_50',\n",
       " 'ldap',\n",
       " 'netstat',\n",
       " 'urh_i',\n",
       " 'X11',\n",
       " 'urp_i',\n",
       " 'pm_dump',\n",
       " 'tftp_u',\n",
       " 'tim_i',\n",
       " 'red_i']"
      ]
     },
     "execution_count": 47,
     "metadata": {
      "tags": []
     },
     "output_type": "execute_result"
    }
   ],
   "source": [
    "services = csv_data.map(lambda x: x[2]).distinct()\n",
    "services.collect()"
   ]
  },
  {
   "cell_type": "code",
   "execution_count": 48,
   "metadata": {
    "colab": {
     "base_uri": "https://localhost:8080/",
     "height": 34
    },
    "colab_type": "code",
    "executionInfo": {
     "elapsed": 1436,
     "status": "ok",
     "timestamp": 1592927894615,
     "user": {
      "displayName": "Kaushik B",
      "photoUrl": "https://lh3.googleusercontent.com/a-/AOh14Gj9b1zsclt5cgGjbVjcm4VuoI0pqcVpK-30JLst=s64",
      "userId": "07146570031648308753"
     },
     "user_tz": -330
    },
    "id": "3g6Qm6T15mfn",
    "outputId": "43c009b2-21ca-45d3-b424-3560e1dad5e1"
   },
   "outputs": [
    {
     "name": "stdout",
     "output_type": "stream",
     "text": [
      "There are 198 combinations of protocol X service\n"
     ]
    }
   ],
   "source": [
    "product = protocols.cartesian(services).collect()\n",
    "print(\"There are {} combinations of protocol X service\".format(len(product)))"
   ]
  },
  {
   "cell_type": "code",
   "execution_count": 49,
   "metadata": {
    "colab": {},
    "colab_type": "code",
    "executionInfo": {
     "elapsed": 3598,
     "status": "ok",
     "timestamp": 1592927950278,
     "user": {
      "displayName": "Kaushik B",
      "photoUrl": "https://lh3.googleusercontent.com/a-/AOh14Gj9b1zsclt5cgGjbVjcm4VuoI0pqcVpK-30JLst=s64",
      "userId": "07146570031648308753"
     },
     "user_tz": -330
    },
    "id": "F6YnSOWn50Su"
   },
   "outputs": [],
   "source": [
    "# Inspecting Interaction Duration by Tag\n",
    "\n",
    "# parse data\n",
    "csv_data = raw_data.map(lambda x: x.split(\",\"))\n",
    "\n",
    "# separate into different RDDs\n",
    "normal_csv_data = csv_data.filter(lambda x: x[41]==\"normal.\")\n",
    "attack_csv_data = csv_data.filter(lambda x: x[41]!=\"normal.\")"
   ]
  },
  {
   "cell_type": "code",
   "execution_count": 51,
   "metadata": {
    "colab": {},
    "colab_type": "code",
    "executionInfo": {
     "elapsed": 2219,
     "status": "ok",
     "timestamp": 1592927990359,
     "user": {
      "displayName": "Kaushik B",
      "photoUrl": "https://lh3.googleusercontent.com/a-/AOh14Gj9b1zsclt5cgGjbVjcm4VuoI0pqcVpK-30JLst=s64",
      "userId": "07146570031648308753"
     },
     "user_tz": -330
    },
    "id": "1gIc5K0q577S"
   },
   "outputs": [],
   "source": [
    "normal_duration_data = normal_csv_data.map(lambda x: int(x[0]))\n",
    "attack_duration_data = attack_csv_data.map(lambda x: int(x[0]))"
   ]
  },
  {
   "cell_type": "code",
   "execution_count": 52,
   "metadata": {
    "colab": {
     "base_uri": "https://localhost:8080/",
     "height": 51
    },
    "colab_type": "code",
    "executionInfo": {
     "elapsed": 6701,
     "status": "ok",
     "timestamp": 1592928061828,
     "user": {
      "displayName": "Kaushik B",
      "photoUrl": "https://lh3.googleusercontent.com/a-/AOh14Gj9b1zsclt5cgGjbVjcm4VuoI0pqcVpK-30JLst=s64",
      "userId": "07146570031648308753"
     },
     "user_tz": -330
    },
    "id": "2BGSvuTS6Kcq",
    "outputId": "631b8ab6-0f8d-49ae-e065-f8db65397396"
   },
   "outputs": [
    {
     "name": "stdout",
     "output_type": "stream",
     "text": [
      "Total duration for 'normal' interactions is 21075991\n",
      "Total duration for 'attack' interactions is 2626792\n"
     ]
    }
   ],
   "source": [
    "total_normal_duration = normal_duration_data.reduce(lambda x, y: x + y)\n",
    "total_attack_duration = attack_duration_data.reduce(lambda x, y: x + y)\n",
    "\n",
    "print(\"Total duration for 'normal' interactions is {}\".format(total_normal_duration))\n",
    "print(\"Total duration for 'attack' interactions is {}\".format(total_attack_duration))"
   ]
  },
  {
   "cell_type": "code",
   "execution_count": 53,
   "metadata": {
    "colab": {
     "base_uri": "https://localhost:8080/",
     "height": 51
    },
    "colab_type": "code",
    "executionInfo": {
     "elapsed": 6104,
     "status": "ok",
     "timestamp": 1592928187961,
     "user": {
      "displayName": "Kaushik B",
      "photoUrl": "https://lh3.googleusercontent.com/a-/AOh14Gj9b1zsclt5cgGjbVjcm4VuoI0pqcVpK-30JLst=s64",
      "userId": "07146570031648308753"
     },
     "user_tz": -330
    },
    "id": "XSEeMaeP6dEv",
    "outputId": "b94518dd-5b6d-4d78-8a71-9c5608dd53c7"
   },
   "outputs": [
    {
     "name": "stdout",
     "output_type": "stream",
     "text": [
      "Mean duration for 'normal' interactions is 216.657\n",
      "Mean duration for 'attack' interactions is 6.621\n"
     ]
    }
   ],
   "source": [
    "normal_count = normal_duration_data.count()\n",
    "attack_count = attack_duration_data.count()\n",
    "\n",
    "print(\"Mean duration for 'normal' interactions is {}\".format(round(total_normal_duration/float(normal_count),3)))\n",
    "print(\"Mean duration for 'attack' interactions is {}\".format(round(total_attack_duration/float(attack_count),3)))"
   ]
  },
  {
   "cell_type": "code",
   "execution_count": 54,
   "metadata": {
    "colab": {
     "base_uri": "https://localhost:8080/",
     "height": 34
    },
    "colab_type": "code",
    "executionInfo": {
     "elapsed": 3959,
     "status": "ok",
     "timestamp": 1592928246733,
     "user": {
      "displayName": "Kaushik B",
      "photoUrl": "https://lh3.googleusercontent.com/a-/AOh14Gj9b1zsclt5cgGjbVjcm4VuoI0pqcVpK-30JLst=s64",
      "userId": "07146570031648308753"
     },
     "user_tz": -330
    },
    "id": "m7f416mB6K8S",
    "outputId": "cbb45b89-b404-47e0-9376-3e5eb34d29b2"
   },
   "outputs": [
    {
     "name": "stdout",
     "output_type": "stream",
     "text": [
      "Mean duration for 'normal' interactions is 216.657\n"
     ]
    }
   ],
   "source": [
    "# A Better Way, Using aggregate\n",
    "\n",
    "normal_sum_count = normal_duration_data.aggregate(\n",
    "    (0,0), # the initial value\n",
    "    (lambda acc, value: (acc[0] + value, acc[1] + 1)), # combine val/acc\n",
    "    (lambda acc1, acc2: (acc1[0] + acc2[0], acc1[1] + acc2[1]))\n",
    ")\n",
    "\n",
    "print(\"Mean duration for 'normal' interactions is {}\".format(round(normal_sum_count[0]/float(normal_sum_count[1]),3)))\n"
   ]
  },
  {
   "cell_type": "code",
   "execution_count": 55,
   "metadata": {
    "colab": {
     "base_uri": "https://localhost:8080/",
     "height": 34
    },
    "colab_type": "code",
    "executionInfo": {
     "elapsed": 3539,
     "status": "ok",
     "timestamp": 1592928334214,
     "user": {
      "displayName": "Kaushik B",
      "photoUrl": "https://lh3.googleusercontent.com/a-/AOh14Gj9b1zsclt5cgGjbVjcm4VuoI0pqcVpK-30JLst=s64",
      "userId": "07146570031648308753"
     },
     "user_tz": -330
    },
    "id": "_jxwtbSg7PjK",
    "outputId": "118b88d0-411a-43d1-d276-9d3cc8e15f31"
   },
   "outputs": [
    {
     "name": "stdout",
     "output_type": "stream",
     "text": [
      "Mean duration for 'attack' interactions is 6.621\n"
     ]
    }
   ],
   "source": [
    "attack_sum_count = attack_duration_data.aggregate(\n",
    "    (0,0), # the initial value\n",
    "    (lambda acc, value: (acc[0] + value, acc[1] + 1)), # combine value with acc\n",
    "    (lambda acc1, acc2: (acc1[0] + acc2[0], acc1[1] + acc2[1])) # combine accumulators\n",
    ")\n",
    "\n",
    "print(\"Mean duration for 'attack' interactions is {}\".format(round(attack_sum_count[0]/float(attack_sum_count[1]),3)))"
   ]
  },
  {
   "cell_type": "code",
   "execution_count": 57,
   "metadata": {
    "colab": {},
    "colab_type": "code",
    "executionInfo": {
     "elapsed": 1361,
     "status": "ok",
     "timestamp": 1592929178608,
     "user": {
      "displayName": "Kaushik B",
      "photoUrl": "https://lh3.googleusercontent.com/a-/AOh14Gj9b1zsclt5cgGjbVjcm4VuoI0pqcVpK-30JLst=s64",
      "userId": "07146570031648308753"
     },
     "user_tz": -330
    },
    "id": "ijYO1Uig8fMn"
   },
   "outputs": [],
   "source": [
    "# Working with Key/Value Pair RDDs\n",
    "\n",
    "raw_data.map(lambda x: x.split(\",\"))\n",
    "key_value_data = csv_data.map(lambda x: (x[41], x)) # x[41] contains the network interaction tag"
   ]
  },
  {
   "cell_type": "code",
   "execution_count": 58,
   "metadata": {
    "colab": {
     "base_uri": "https://localhost:8080/",
     "height": 748
    },
    "colab_type": "code",
    "executionInfo": {
     "elapsed": 1601,
     "status": "ok",
     "timestamp": 1592929184096,
     "user": {
      "displayName": "Kaushik B",
      "photoUrl": "https://lh3.googleusercontent.com/a-/AOh14Gj9b1zsclt5cgGjbVjcm4VuoI0pqcVpK-30JLst=s64",
      "userId": "07146570031648308753"
     },
     "user_tz": -330
    },
    "id": "GaKxUaAw-lem",
    "outputId": "10703806-4ac3-4b39-9015-e04fa49c24e9"
   },
   "outputs": [
    {
     "data": {
      "text/plain": [
       "[('normal.',\n",
       "  ['0',\n",
       "   'tcp',\n",
       "   'http',\n",
       "   'SF',\n",
       "   '181',\n",
       "   '5450',\n",
       "   '0',\n",
       "   '0',\n",
       "   '0',\n",
       "   '0',\n",
       "   '0',\n",
       "   '1',\n",
       "   '0',\n",
       "   '0',\n",
       "   '0',\n",
       "   '0',\n",
       "   '0',\n",
       "   '0',\n",
       "   '0',\n",
       "   '0',\n",
       "   '0',\n",
       "   '0',\n",
       "   '8',\n",
       "   '8',\n",
       "   '0.00',\n",
       "   '0.00',\n",
       "   '0.00',\n",
       "   '0.00',\n",
       "   '1.00',\n",
       "   '0.00',\n",
       "   '0.00',\n",
       "   '9',\n",
       "   '9',\n",
       "   '1.00',\n",
       "   '0.00',\n",
       "   '0.11',\n",
       "   '0.00',\n",
       "   '0.00',\n",
       "   '0.00',\n",
       "   '0.00',\n",
       "   '0.00',\n",
       "   'normal.'])]"
      ]
     },
     "execution_count": 58,
     "metadata": {
      "tags": []
     },
     "output_type": "execute_result"
    }
   ],
   "source": [
    " key_value_data.take(1)"
   ]
  },
  {
   "cell_type": "code",
   "execution_count": 59,
   "metadata": {
    "colab": {
     "base_uri": "https://localhost:8080/",
     "height": 408
    },
    "colab_type": "code",
    "executionInfo": {
     "elapsed": 4285,
     "status": "ok",
     "timestamp": 1592929224228,
     "user": {
      "displayName": "Kaushik B",
      "photoUrl": "https://lh3.googleusercontent.com/a-/AOh14Gj9b1zsclt5cgGjbVjcm4VuoI0pqcVpK-30JLst=s64",
      "userId": "07146570031648308753"
     },
     "user_tz": -330
    },
    "id": "6je-8L3X-poV",
    "outputId": "31cb1cf0-58de-4367-babe-f010e333da3d"
   },
   "outputs": [
    {
     "data": {
      "text/plain": [
       "[('normal.', 21075991.0),\n",
       " ('buffer_overflow.', 2751.0),\n",
       " ('loadmodule.', 326.0),\n",
       " ('perl.', 124.0),\n",
       " ('neptune.', 0.0),\n",
       " ('smurf.', 0.0),\n",
       " ('guess_passwd.', 144.0),\n",
       " ('pod.', 0.0),\n",
       " ('teardrop.', 0.0),\n",
       " ('portsweep.', 1991911.0),\n",
       " ('ipsweep.', 43.0),\n",
       " ('land.', 0.0),\n",
       " ('ftp_write.', 259.0),\n",
       " ('back.', 284.0),\n",
       " ('imap.', 72.0),\n",
       " ('satan.', 64.0),\n",
       " ('phf.', 18.0),\n",
       " ('nmap.', 0.0),\n",
       " ('multihop.', 1288.0),\n",
       " ('warezmaster.', 301.0),\n",
       " ('warezclient.', 627563.0),\n",
       " ('spy.', 636.0),\n",
       " ('rootkit.', 1008.0)]"
      ]
     },
     "execution_count": 59,
     "metadata": {
      "tags": []
     },
     "output_type": "execute_result"
    }
   ],
   "source": [
    "# Data Aggregations with Key/Value Pair RDDs\n",
    "\n",
    "key_value_duration = csv_data.map(lambda x: (x[41], float(x[0]))) \n",
    "durations_by_key = key_value_duration.reduceByKey(lambda x, y: x + y)\n",
    "\n",
    "durations_by_key.collect()"
   ]
  },
  {
   "cell_type": "code",
   "execution_count": 61,
   "metadata": {
    "colab": {
     "base_uri": "https://localhost:8080/",
     "height": 408
    },
    "colab_type": "code",
    "executionInfo": {
     "elapsed": 3913,
     "status": "ok",
     "timestamp": 1592929472290,
     "user": {
      "displayName": "Kaushik B",
      "photoUrl": "https://lh3.googleusercontent.com/a-/AOh14Gj9b1zsclt5cgGjbVjcm4VuoI0pqcVpK-30JLst=s64",
      "userId": "07146570031648308753"
     },
     "user_tz": -330
    },
    "id": "AdsFkMcm_ngg",
    "outputId": "cb15f6d9-7c2e-481d-e261-232293423c98"
   },
   "outputs": [
    {
     "data": {
      "text/plain": [
       "{'back.': (284.0, 2203),\n",
       " 'buffer_overflow.': (2751.0, 30),\n",
       " 'ftp_write.': (259.0, 8),\n",
       " 'guess_passwd.': (144.0, 53),\n",
       " 'imap.': (72.0, 12),\n",
       " 'ipsweep.': (43.0, 1247),\n",
       " 'land.': (0.0, 21),\n",
       " 'loadmodule.': (326.0, 9),\n",
       " 'multihop.': (1288.0, 7),\n",
       " 'neptune.': (0.0, 107201),\n",
       " 'nmap.': (0.0, 231),\n",
       " 'normal.': (21075991.0, 97278),\n",
       " 'perl.': (124.0, 3),\n",
       " 'phf.': (18.0, 4),\n",
       " 'pod.': (0.0, 264),\n",
       " 'portsweep.': (1991911.0, 1040),\n",
       " 'rootkit.': (1008.0, 10),\n",
       " 'satan.': (64.0, 1589),\n",
       " 'smurf.': (0.0, 280790),\n",
       " 'spy.': (636.0, 2),\n",
       " 'teardrop.': (0.0, 979),\n",
       " 'warezclient.': (627563.0, 1020),\n",
       " 'warezmaster.': (301.0, 20)}"
      ]
     },
     "execution_count": 61,
     "metadata": {
      "tags": []
     },
     "output_type": "execute_result"
    }
   ],
   "source": [
    "# Using combineByKey\n",
    "sum_counts = key_value_duration.combineByKey(\n",
    "    (lambda x: (x, 1)), # the initial value, with value x and count 1\n",
    "    (lambda acc, value: (acc[0]+value, acc[1]+1)), # how to combine a pair value with the accumulator: sum value, and increment count\n",
    "    (lambda acc1, acc2: (acc1[0]+acc2[0], acc1[1]+acc2[1])) # combine accumulators\n",
    ")\n",
    "\n",
    "sum_counts.collectAsMap()"
   ]
  }
 ],
 "metadata": {
  "colab": {
   "authorship_tag": "ABX9TyPdZN06FMExgos78QTvU4yq",
   "collapsed_sections": [],
   "name": "C20032_SparkRDDAssignment.ipynb",
   "provenance": []
  },
  "kernelspec": {
   "display_name": "Python 3",
   "language": "python",
   "name": "python3"
  },
  "language_info": {
   "codemirror_mode": {
    "name": "ipython",
    "version": 3
   },
   "file_extension": ".py",
   "mimetype": "text/x-python",
   "name": "python",
   "nbconvert_exporter": "python",
   "pygments_lexer": "ipython3",
   "version": "3.7.4"
  }
 },
 "nbformat": 4,
 "nbformat_minor": 1
}
