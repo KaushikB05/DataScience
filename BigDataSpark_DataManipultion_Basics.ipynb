{
 "cells": [
  {
   "cell_type": "markdown",
   "metadata": {
    "colab_type": "text",
    "id": "D88IBg_5xd_C"
   },
   "source": [
    "# Data Frame Assignment <br>\n",
    "Analytics Vidhya https://www.analyticsvidhya.com/blog/2016/10/spark-dataframe-and-operations/ <br>\n",
    "Data Bricks https://docs.databricks.com/spark/latest/data-sources/read-csv.html"
   ]
  },
  {
   "cell_type": "markdown",
   "metadata": {
    "colab_type": "text",
    "id": "CqKj7HNWx6d6"
   },
   "source": [
    "# Initialise"
   ]
  },
  {
   "cell_type": "code",
   "execution_count": 2,
   "metadata": {
    "colab": {
     "base_uri": "https://localhost:8080/",
     "height": 442
    },
    "colab_type": "code",
    "executionInfo": {
     "elapsed": 57292,
     "status": "ok",
     "timestamp": 1593054841493,
     "user": {
      "displayName": "Kaushik B",
      "photoUrl": "https://lh3.googleusercontent.com/a-/AOh14Gj9b1zsclt5cgGjbVjcm4VuoI0pqcVpK-30JLst=s64",
      "userId": "07146570031648308753"
     },
     "user_tz": -330
    },
    "id": "tR__62XBx-By",
    "outputId": "e8bd93db-917a-47d4-a686-48760859654b"
   },
   "outputs": [
    {
     "name": "stdout",
     "output_type": "stream",
     "text": [
      "\r",
      "0% [Working]\r",
      "            \r",
      "Hit:1 http://ppa.launchpad.net/graphics-drivers/ppa/ubuntu bionic InRelease\n",
      "\r",
      "0% [Connecting to archive.ubuntu.com (91.189.88.152)] [Waiting for headers] [Co\r",
      "                                                                               \r",
      "Hit:2 http://archive.ubuntu.com/ubuntu bionic InRelease\n",
      "\r",
      "                                                                               \r",
      "Get:3 http://archive.ubuntu.com/ubuntu bionic-updates InRelease [88.7 kB]\n",
      "\r",
      "                                                                               \r",
      "Get:4 http://security.ubuntu.com/ubuntu bionic-security InRelease [88.7 kB]\n",
      "\r",
      "                                                                               \r",
      "Get:5 http://ppa.launchpad.net/marutter/c2d4u3.5/ubuntu bionic InRelease [15.4 kB]\n",
      "\r",
      "0% [3 InRelease 15.6 kB/88.7 kB 18%] [Waiting for headers] [Waiting for headers\r",
      "0% [1 InRelease gpgv 21.3 kB] [3 InRelease 15.6 kB/88.7 kB 18%] [Waiting for he\r",
      "                                                                               \r",
      "Get:6 https://cloud.r-project.org/bin/linux/ubuntu bionic-cran35/ InRelease [3,626 B]\n",
      "\r",
      "0% [1 InRelease gpgv 21.3 kB] [3 InRelease 15.6 kB/88.7 kB 18%] [6 InRelease 3,\r",
      "0% [1 InRelease gpgv 21.3 kB] [3 InRelease 15.6 kB/88.7 kB 18%] [Waiting for he\r",
      "                                                                               \r",
      "0% [1 InRelease gpgv 21.3 kB] [Waiting for headers] [Waiting for headers]\r",
      "                                                                         \r",
      "Get:7 http://archive.ubuntu.com/ubuntu bionic-backports InRelease [74.6 kB]\n",
      "Ign:8 https://developer.download.nvidia.com/compute/cuda/repos/ubuntu1804/x86_64  InRelease\n",
      "Ign:9 https://developer.download.nvidia.com/compute/machine-learning/repos/ubuntu1804/x86_64  InRelease\n",
      "Get:10 https://developer.download.nvidia.com/compute/cuda/repos/ubuntu1804/x86_64  Release [697 B]\n",
      "Get:11 https://developer.download.nvidia.com/compute/machine-learning/repos/ubuntu1804/x86_64  Release [564 B]\n",
      "Get:12 https://developer.download.nvidia.com/compute/cuda/repos/ubuntu1804/x86_64  Release.gpg [836 B]\n",
      "Get:13 https://developer.download.nvidia.com/compute/machine-learning/repos/ubuntu1804/x86_64  Release.gpg [833 B]\n",
      "Get:14 http://security.ubuntu.com/ubuntu bionic-security/main amd64 Packages [961 kB]\n",
      "Get:15 http://ppa.launchpad.net/marutter/c2d4u3.5/ubuntu bionic/main Sources [1,841 kB]\n",
      "Get:16 http://ppa.launchpad.net/marutter/c2d4u3.5/ubuntu bionic/main amd64 Packages [888 kB]\n",
      "Get:17 http://archive.ubuntu.com/ubuntu bionic-updates/universe amd64 Packages [1,398 kB]\n",
      "Get:18 http://archive.ubuntu.com/ubuntu bionic-updates/restricted amd64 Packages [87.2 kB]\n",
      "Get:19 http://archive.ubuntu.com/ubuntu bionic-updates/multiverse amd64 Packages [20.7 kB]\n",
      "Get:20 http://archive.ubuntu.com/ubuntu bionic-updates/main amd64 Packages [1,270 kB]\n",
      "Ign:21 https://developer.download.nvidia.com/compute/cuda/repos/ubuntu1804/x86_64  Packages\n",
      "Get:22 https://developer.download.nvidia.com/compute/machine-learning/repos/ubuntu1804/x86_64  Packages [38.7 kB]\n",
      "Get:21 https://developer.download.nvidia.com/compute/cuda/repos/ubuntu1804/x86_64  Packages [185 kB]\n",
      "Fetched 6,963 kB in 2s (2,983 kB/s)\n",
      "Reading package lists... Done\n"
     ]
    }
   ],
   "source": [
    "!apt-get update\n",
    "!apt-get install openjdk-8-jdk-headless -qq > /dev/null\n",
    "#!wget -q http://apache.osuosl.org/spark/spark-2.4.0/spark-2.4.0-bin-hadoop2.7.tgz\n",
    "#wget -q http://apache.osuosl.org/spark/spark-2.4.4/spark-2.4.4-bin-hadoop2.7.tgz\n",
    "!wget -q http://apache.osuosl.org/spark/spark-2.4.5/spark-2.4.5-bin-hadoop2.7.tgz\n",
    "\n",
    "#!tar xf spark-2.4.0-bin-hadoop2.7.tgz\n",
    "#!tar xf spark-2.4.4-bin-hadoop2.7.tgz\n",
    "!tar xf spark-2.4.5-bin-hadoop2.7.tgz\n",
    "!pip install -q findspark"
   ]
  },
  {
   "cell_type": "code",
   "execution_count": 3,
   "metadata": {
    "colab": {},
    "colab_type": "code",
    "executionInfo": {
     "elapsed": 1314,
     "status": "ok",
     "timestamp": 1593054925241,
     "user": {
      "displayName": "Kaushik B",
      "photoUrl": "https://lh3.googleusercontent.com/a-/AOh14Gj9b1zsclt5cgGjbVjcm4VuoI0pqcVpK-30JLst=s64",
      "userId": "07146570031648308753"
     },
     "user_tz": -330
    },
    "id": "PqWkuZiQyMT0"
   },
   "outputs": [],
   "source": [
    "import os\n",
    "os.environ[\"JAVA_HOME\"] = \"/usr/lib/jvm/java-8-openjdk-amd64\"\n",
    "#os.environ[\"SPARK_HOME\"] = \"/content/spark-2.4.0-bin-hadoop2.7\"\n",
    "#os.environ[\"SPARK_HOME\"] = \"/content/spark-2.4.4-bin-hadoop2.7\"\n",
    "os.environ[\"SPARK_HOME\"] = \"/content/spark-2.4.5-bin-hadoop2.7\""
   ]
  },
  {
   "cell_type": "code",
   "execution_count": 4,
   "metadata": {
    "colab": {},
    "colab_type": "code",
    "executionInfo": {
     "elapsed": 5339,
     "status": "ok",
     "timestamp": 1593054933996,
     "user": {
      "displayName": "Kaushik B",
      "photoUrl": "https://lh3.googleusercontent.com/a-/AOh14Gj9b1zsclt5cgGjbVjcm4VuoI0pqcVpK-30JLst=s64",
      "userId": "07146570031648308753"
     },
     "user_tz": -330
    },
    "id": "G963gOZKyQuQ"
   },
   "outputs": [],
   "source": [
    "import findspark\n",
    "findspark.init()\n",
    "from pyspark.sql import SparkSession\n",
    "spark = SparkSession.builder.master(\"local[*]\").getOrCreate()"
   ]
  },
  {
   "cell_type": "code",
   "execution_count": 5,
   "metadata": {
    "colab": {
     "base_uri": "https://localhost:8080/",
     "height": 193
    },
    "colab_type": "code",
    "executionInfo": {
     "elapsed": 1240,
     "status": "ok",
     "timestamp": 1593054938558,
     "user": {
      "displayName": "Kaushik B",
      "photoUrl": "https://lh3.googleusercontent.com/a-/AOh14Gj9b1zsclt5cgGjbVjcm4VuoI0pqcVpK-30JLst=s64",
      "userId": "07146570031648308753"
     },
     "user_tz": -330
    },
    "id": "n9j6ioLa0bJm",
    "outputId": "a307d1bd-efa5-4745-c671-b823399b3acf"
   },
   "outputs": [
    {
     "data": {
      "text/html": [
       "\n",
       "        <div>\n",
       "            <p><b>SparkContext</b></p>\n",
       "\n",
       "            <p><a href=\"http://21fd6107dd9d:4040\">Spark UI</a></p>\n",
       "\n",
       "            <dl>\n",
       "              <dt>Version</dt>\n",
       "                <dd><code>v2.4.5</code></dd>\n",
       "              <dt>Master</dt>\n",
       "                <dd><code>local[*]</code></dd>\n",
       "              <dt>AppName</dt>\n",
       "                <dd><code>pyspark-shell</code></dd>\n",
       "            </dl>\n",
       "        </div>\n",
       "        "
      ],
      "text/plain": [
       "<SparkContext master=local[*] appName=pyspark-shell>"
      ]
     },
     "execution_count": 5,
     "metadata": {
      "tags": []
     },
     "output_type": "execute_result"
    }
   ],
   "source": [
    "sc = spark.sparkContext\n",
    "sc"
   ]
  },
  {
   "cell_type": "code",
   "execution_count": 6,
   "metadata": {
    "colab": {},
    "colab_type": "code",
    "executionInfo": {
     "elapsed": 1634,
     "status": "ok",
     "timestamp": 1593054945591,
     "user": {
      "displayName": "Kaushik B",
      "photoUrl": "https://lh3.googleusercontent.com/a-/AOh14Gj9b1zsclt5cgGjbVjcm4VuoI0pqcVpK-30JLst=s64",
      "userId": "07146570031648308753"
     },
     "user_tz": -330
    },
    "id": "cnTgqI9P0Rwq"
   },
   "outputs": [],
   "source": [
    "from pyspark.sql import SQLContext\n",
    "sqlContext = SQLContext(sc)"
   ]
  },
  {
   "cell_type": "markdown",
   "metadata": {
    "colab_type": "text",
    "id": "9-BaFcn_0rTK"
   },
   "source": [
    "# Data Load"
   ]
  },
  {
   "cell_type": "code",
   "execution_count": 7,
   "metadata": {
    "colab": {
     "base_uri": "https://localhost:8080/",
     "height": 615
    },
    "colab_type": "code",
    "executionInfo": {
     "elapsed": 8935,
     "status": "ok",
     "timestamp": 1593054962238,
     "user": {
      "displayName": "Kaushik B",
      "photoUrl": "https://lh3.googleusercontent.com/a-/AOh14Gj9b1zsclt5cgGjbVjcm4VuoI0pqcVpK-30JLst=s64",
      "userId": "07146570031648308753"
     },
     "user_tz": -330
    },
    "id": "nBsW0ItGEKmv",
    "outputId": "6690ceee-6c3a-4291-b0f5-b414c3819d5b"
   },
   "outputs": [
    {
     "name": "stdout",
     "output_type": "stream",
     "text": [
      "--2020-06-25 03:15:56--  https://drive.google.com/uc?export=download&id=1o-WzYvxfIXxvghazTLu3iuNqFE9IxGbw\n",
      "Resolving drive.google.com (drive.google.com)... 108.177.96.101, 108.177.96.113, 108.177.96.100, ...\n",
      "Connecting to drive.google.com (drive.google.com)|108.177.96.101|:443... connected.\n",
      "HTTP request sent, awaiting response... 302 Moved Temporarily\n",
      "Location: https://doc-08-64-docs.googleusercontent.com/docs/securesc/ha0ro937gcuc7l7deffksulhg5h7mbp1/jmtjr5v0aa7rs2l2ber15bf3n9fsp70u/1593054900000/09813844288236605605/*/1o-WzYvxfIXxvghazTLu3iuNqFE9IxGbw?e=download [following]\n",
      "Warning: wildcards not supported in HTTP.\n",
      "--2020-06-25 03:15:57--  https://doc-08-64-docs.googleusercontent.com/docs/securesc/ha0ro937gcuc7l7deffksulhg5h7mbp1/jmtjr5v0aa7rs2l2ber15bf3n9fsp70u/1593054900000/09813844288236605605/*/1o-WzYvxfIXxvghazTLu3iuNqFE9IxGbw?e=download\n",
      "Resolving doc-08-64-docs.googleusercontent.com (doc-08-64-docs.googleusercontent.com)... 108.177.126.132, 2a00:1450:4013:c01::84\n",
      "Connecting to doc-08-64-docs.googleusercontent.com (doc-08-64-docs.googleusercontent.com)|108.177.126.132|:443... connected.\n",
      "HTTP request sent, awaiting response... 200 OK\n",
      "Length: unspecified [application/x-zip-compressed]\n",
      "Saving to: ‘BDSDF_train.zip’\n",
      "\n",
      "BDSDF_train.zip         [ <=>                ]   4.50M  22.6MB/s    in 0.2s    \n",
      "\n",
      "2020-06-25 03:15:57 (22.6 MB/s) - ‘BDSDF_train.zip’ saved [4720668]\n",
      "\n",
      "--2020-06-25 03:15:59--  https://drive.google.com/uc?export=download&id=1UF5HGE3NGtQ9goeSvhsTnMMTUZiv7fhE\n",
      "Resolving drive.google.com (drive.google.com)... 108.177.96.100, 108.177.96.101, 108.177.96.139, ...\n",
      "Connecting to drive.google.com (drive.google.com)|108.177.96.100|:443... connected.\n",
      "HTTP request sent, awaiting response... 302 Moved Temporarily\n",
      "Location: https://doc-0k-64-docs.googleusercontent.com/docs/securesc/ha0ro937gcuc7l7deffksulhg5h7mbp1/h8q7q28sg3n17ngbie6mkamk0i7e83tm/1593054900000/09813844288236605605/*/1UF5HGE3NGtQ9goeSvhsTnMMTUZiv7fhE?e=download [following]\n",
      "Warning: wildcards not supported in HTTP.\n",
      "--2020-06-25 03:16:01--  https://doc-0k-64-docs.googleusercontent.com/docs/securesc/ha0ro937gcuc7l7deffksulhg5h7mbp1/h8q7q28sg3n17ngbie6mkamk0i7e83tm/1593054900000/09813844288236605605/*/1UF5HGE3NGtQ9goeSvhsTnMMTUZiv7fhE?e=download\n",
      "Resolving doc-0k-64-docs.googleusercontent.com (doc-0k-64-docs.googleusercontent.com)... 108.177.126.132, 2a00:1450:4013:c01::84\n",
      "Connecting to doc-0k-64-docs.googleusercontent.com (doc-0k-64-docs.googleusercontent.com)|108.177.126.132|:443... connected.\n",
      "HTTP request sent, awaiting response... 200 OK\n",
      "Length: 1827545 (1.7M) [application/x-zip-compressed]\n",
      "Saving to: ‘BDSDF_test.zip’\n",
      "\n",
      "BDSDF_test.zip      100%[===================>]   1.74M  --.-KB/s    in 0.01s   \n",
      "\n",
      "2020-06-25 03:16:01 (155 MB/s) - ‘BDSDF_test.zip’ saved [1827545/1827545]\n",
      "\n"
     ]
    }
   ],
   "source": [
    "#https://drive.google.com/file/d/1o-WzYvxfIXxvghazTLu3iuNqFE9IxGbw/view?usp=sharing\n",
    "!wget -O BDSDF_train.zip 'https://drive.google.com/uc?export=download&id=1o-WzYvxfIXxvghazTLu3iuNqFE9IxGbw'\n",
    "#https://drive.google.com/file/d/1UF5HGE3NGtQ9goeSvhsTnMMTUZiv7fhE/view?usp=sharing\n",
    "!wget -O BDSDF_test.zip 'https://drive.google.com/uc?export=download&id=1UF5HGE3NGtQ9goeSvhsTnMMTUZiv7fhE'"
   ]
  },
  {
   "cell_type": "code",
   "execution_count": 8,
   "metadata": {
    "colab": {
     "base_uri": "https://localhost:8080/",
     "height": 170
    },
    "colab_type": "code",
    "executionInfo": {
     "elapsed": 4024,
     "status": "ok",
     "timestamp": 1593054972030,
     "user": {
      "displayName": "Kaushik B",
      "photoUrl": "https://lh3.googleusercontent.com/a-/AOh14Gj9b1zsclt5cgGjbVjcm4VuoI0pqcVpK-30JLst=s64",
      "userId": "07146570031648308753"
     },
     "user_tz": -330
    },
    "id": "JzGT3fVZ0v8A",
    "outputId": "3baf3502-305c-4d15-b574-0ce6bc184f72"
   },
   "outputs": [
    {
     "name": "stdout",
     "output_type": "stream",
     "text": [
      "total 233504\n",
      "drwxr-xr-x  1 root root      4096 Jun 25 03:15 .\n",
      "drwxr-xr-x  1 root root      4096 Jun 25 02:58 ..\n",
      "-rw-r--r--  1 root root   1827545 Jun 25 03:16 BDSDF_test.zip\n",
      "-rw-r--r--  1 root root   4720668 Jun 25 03:15 BDSDF_train.zip\n",
      "drwxr-xr-x  1 root root      4096 Jun 19 16:15 .config\n",
      "drwxr-xr-x  1 root root      4096 Jun 17 16:18 sample_data\n",
      "drwxr-xr-x 13 1000 1000      4096 Feb  2 19:47 spark-2.4.5-bin-hadoop2.7\n",
      "-rw-r--r--  1 root root 232530699 Feb  2 20:27 spark-2.4.5-bin-hadoop2.7.tgz\n"
     ]
    }
   ],
   "source": [
    "!ls -al"
   ]
  },
  {
   "cell_type": "code",
   "execution_count": null,
   "metadata": {
    "colab": {},
    "colab_type": "code",
    "id": "8MGw2LhC1jne"
   },
   "outputs": [],
   "source": [
    "#!rm *.zip\n",
    "#!rm *.csv"
   ]
  },
  {
   "cell_type": "code",
   "execution_count": null,
   "metadata": {
    "colab": {},
    "colab_type": "code",
    "id": "6DuSQgjd11Ng"
   },
   "outputs": [],
   "source": [
    "#from google.colab import files\n",
    "#datafile = files.upload()"
   ]
  },
  {
   "cell_type": "code",
   "execution_count": 9,
   "metadata": {
    "colab": {
     "base_uri": "https://localhost:8080/",
     "height": 85
    },
    "colab_type": "code",
    "executionInfo": {
     "elapsed": 6567,
     "status": "ok",
     "timestamp": 1593054983214,
     "user": {
      "displayName": "Kaushik B",
      "photoUrl": "https://lh3.googleusercontent.com/a-/AOh14Gj9b1zsclt5cgGjbVjcm4VuoI0pqcVpK-30JLst=s64",
      "userId": "07146570031648308753"
     },
     "user_tz": -330
    },
    "id": "kTj1XzwS2dyO",
    "outputId": "11dd6516-55fb-440f-c561-483857ae07a9"
   },
   "outputs": [
    {
     "name": "stdout",
     "output_type": "stream",
     "text": [
      "Archive:  BDSDF_test.zip\n",
      "  inflating: test.csv                \n",
      "Archive:  BDSDF_train.zip\n",
      "  inflating: train.csv               \n"
     ]
    }
   ],
   "source": [
    "!unzip BDSDF_test.zip\n",
    "!unzip BDSDF_train.zip"
   ]
  },
  {
   "cell_type": "code",
   "execution_count": 10,
   "metadata": {
    "colab": {},
    "colab_type": "code",
    "executionInfo": {
     "elapsed": 7999,
     "status": "ok",
     "timestamp": 1593054993758,
     "user": {
      "displayName": "Kaushik B",
      "photoUrl": "https://lh3.googleusercontent.com/a-/AOh14Gj9b1zsclt5cgGjbVjcm4VuoI0pqcVpK-30JLst=s64",
      "userId": "07146570031648308753"
     },
     "user_tz": -330
    },
    "id": "9x_LDSdC3arm"
   },
   "outputs": [],
   "source": [
    "test = sqlContext.read.format(\"csv\").option(\"header\", \"true\").option(\"inferSchema\", \"true\").load(\"./test.csv\")"
   ]
  },
  {
   "cell_type": "code",
   "execution_count": 11,
   "metadata": {
    "colab": {},
    "colab_type": "code",
    "executionInfo": {
     "elapsed": 4219,
     "status": "ok",
     "timestamp": 1593055001829,
     "user": {
      "displayName": "Kaushik B",
      "photoUrl": "https://lh3.googleusercontent.com/a-/AOh14Gj9b1zsclt5cgGjbVjcm4VuoI0pqcVpK-30JLst=s64",
      "userId": "07146570031648308753"
     },
     "user_tz": -330
    },
    "id": "GvZzuJpq39am"
   },
   "outputs": [],
   "source": [
    "train = sqlContext.read.format(\"csv\").option(\"header\", \"true\").option(\"inferSchema\", \"true\").load(\"./train.csv\")"
   ]
  },
  {
   "cell_type": "code",
   "execution_count": 12,
   "metadata": {
    "colab": {
     "base_uri": "https://localhost:8080/",
     "height": 255
    },
    "colab_type": "code",
    "executionInfo": {
     "elapsed": 1506,
     "status": "ok",
     "timestamp": 1593055006754,
     "user": {
      "displayName": "Kaushik B",
      "photoUrl": "https://lh3.googleusercontent.com/a-/AOh14Gj9b1zsclt5cgGjbVjcm4VuoI0pqcVpK-30JLst=s64",
      "userId": "07146570031648308753"
     },
     "user_tz": -330
    },
    "id": "hpZKGSZP4IMw",
    "outputId": "afbd0c6b-64f8-4b8d-cbe0-b8491575f6ed"
   },
   "outputs": [
    {
     "name": "stdout",
     "output_type": "stream",
     "text": [
      "root\n",
      " |-- User_ID: integer (nullable = true)\n",
      " |-- Product_ID: string (nullable = true)\n",
      " |-- Gender: string (nullable = true)\n",
      " |-- Age: string (nullable = true)\n",
      " |-- Occupation: integer (nullable = true)\n",
      " |-- City_Category: string (nullable = true)\n",
      " |-- Stay_In_Current_City_Years: string (nullable = true)\n",
      " |-- Marital_Status: integer (nullable = true)\n",
      " |-- Product_Category_1: integer (nullable = true)\n",
      " |-- Product_Category_2: integer (nullable = true)\n",
      " |-- Product_Category_3: integer (nullable = true)\n",
      " |-- Purchase: integer (nullable = true)\n",
      "\n"
     ]
    }
   ],
   "source": [
    "train.printSchema()\n",
    "#test.printSchema()"
   ]
  },
  {
   "cell_type": "code",
   "execution_count": 13,
   "metadata": {
    "colab": {
     "base_uri": "https://localhost:8080/",
     "height": 411
    },
    "colab_type": "code",
    "executionInfo": {
     "elapsed": 6308,
     "status": "ok",
     "timestamp": 1593055018438,
     "user": {
      "displayName": "Kaushik B",
      "photoUrl": "https://lh3.googleusercontent.com/a-/AOh14Gj9b1zsclt5cgGjbVjcm4VuoI0pqcVpK-30JLst=s64",
      "userId": "07146570031648308753"
     },
     "user_tz": -330
    },
    "id": "_Rmz3MN7DA8Q",
    "outputId": "29e04982-5a5f-4835-b810-9a8f3f4ba243"
   },
   "outputs": [
    {
     "name": "stdout",
     "output_type": "stream",
     "text": [
      "/bin/bash: -c: line 0: syntax error near unexpected token `newline'\n",
      "/bin/bash: -c: line 0: `wget http://search.maven.org/remotecontent?filepath=org/apache/commons/commons-csv/1.1/commons-csv-1.1.jar -O commons-csv-1.1.jar<br/>    '\n",
      "--2020-06-25 03:16:57--  http://search.maven.org/remotecontent?filepath=com/databricks/spark-csv_2.10/1.0.0/spark-csv_2.10-1.0.0.jar\n",
      "Resolving search.maven.org (search.maven.org)... 3.227.158.232, 18.234.11.249\n",
      "Connecting to search.maven.org (search.maven.org)|3.227.158.232|:80... connected.\n",
      "HTTP request sent, awaiting response... 301 Moved Permanently\n",
      "Location: https://repo1.maven.org:443/fromsearch?filepath=com/databricks/spark-csv_2.10/1.0.0/spark-csv_2.10-1.0.0.jar [following]\n",
      "--2020-06-25 03:16:57--  https://repo1.maven.org/fromsearch?filepath=com/databricks/spark-csv_2.10/1.0.0/spark-csv_2.10-1.0.0.jar\n",
      "Resolving repo1.maven.org (repo1.maven.org)... 151.101.36.209\n",
      "Connecting to repo1.maven.org (repo1.maven.org)|151.101.36.209|:443... connected.\n",
      "HTTP request sent, awaiting response... 301 Moved Permanently\n",
      "Location: https://repo1.maven.org/maven2/com/databricks/spark-csv_2.10/1.0.0/spark-csv_2.10-1.0.0.jar [following]\n",
      "--2020-06-25 03:16:57--  https://repo1.maven.org/maven2/com/databricks/spark-csv_2.10/1.0.0/spark-csv_2.10-1.0.0.jar\n",
      "Reusing existing connection to repo1.maven.org:443.\n",
      "HTTP request sent, awaiting response... 200 OK\n",
      "Length: 45114 (44K) [application/java-archive]\n",
      "Saving to: ‘spark-csv_2.10-1.0.0.jar’\n",
      "\n",
      "spark-csv_2.10-1.0. 100%[===================>]  44.06K  --.-KB/s    in 0.009s  \n",
      "\n",
      "2020-06-25 03:16:57 (5.06 MB/s) - ‘spark-csv_2.10-1.0.0.jar’ saved [45114/45114]\n",
      "\n"
     ]
    }
   ],
   "source": [
    "!wget http://search.maven.org/remotecontent?filepath=org/apache/commons/commons-csv/1.1/commons-csv-1.1.jar -O commons-csv-1.1.jar<br/>    \n",
    "!wget http://search.maven.org/remotecontent?filepath=com/databricks/spark-csv_2.10/1.0.0/spark-csv_2.10-1.0.0.jar -O spark-csv_2.10-1.0.0.jar"
   ]
  },
  {
   "cell_type": "code",
   "execution_count": 14,
   "metadata": {
    "colab": {
     "base_uri": "https://localhost:8080/",
     "height": 411
    },
    "colab_type": "code",
    "executionInfo": {
     "elapsed": 8259,
     "status": "ok",
     "timestamp": 1593055033739,
     "user": {
      "displayName": "Kaushik B",
      "photoUrl": "https://lh3.googleusercontent.com/a-/AOh14Gj9b1zsclt5cgGjbVjcm4VuoI0pqcVpK-30JLst=s64",
      "userId": "07146570031648308753"
     },
     "user_tz": -330
    },
    "id": "dQdw60CVFnYD",
    "outputId": "b5bedf29-88e8-4036-ef97-1fd50a12c1aa"
   },
   "outputs": [
    {
     "name": "stdout",
     "output_type": "stream",
     "text": [
      "/bin/bash: -c: line 0: syntax error near unexpected token `newline'\n",
      "/bin/bash: -c: line 0: `wget http://search.maven.org/remotecontent?filepath=org/apache/commons/commons-csv/1.1/commons-csv-1.1.jar -O commons-csv-1.1.jar<br/>    '\n",
      "--2020-06-25 03:17:11--  http://search.maven.org/remotecontent?filepath=com/databricks/spark-csv_2.10/1.0.0/spark-csv_2.10-1.0.0.jar\n",
      "Resolving search.maven.org (search.maven.org)... 3.227.158.232, 18.234.11.249\n",
      "Connecting to search.maven.org (search.maven.org)|3.227.158.232|:80... connected.\n",
      "HTTP request sent, awaiting response... 301 Moved Permanently\n",
      "Location: https://repo1.maven.org:443/fromsearch?filepath=com/databricks/spark-csv_2.10/1.0.0/spark-csv_2.10-1.0.0.jar [following]\n",
      "--2020-06-25 03:17:12--  https://repo1.maven.org/fromsearch?filepath=com/databricks/spark-csv_2.10/1.0.0/spark-csv_2.10-1.0.0.jar\n",
      "Resolving repo1.maven.org (repo1.maven.org)... 151.101.36.209\n",
      "Connecting to repo1.maven.org (repo1.maven.org)|151.101.36.209|:443... connected.\n",
      "HTTP request sent, awaiting response... 301 Moved Permanently\n",
      "Location: https://repo1.maven.org/maven2/com/databricks/spark-csv_2.10/1.0.0/spark-csv_2.10-1.0.0.jar [following]\n",
      "--2020-06-25 03:17:12--  https://repo1.maven.org/maven2/com/databricks/spark-csv_2.10/1.0.0/spark-csv_2.10-1.0.0.jar\n",
      "Reusing existing connection to repo1.maven.org:443.\n",
      "HTTP request sent, awaiting response... 200 OK\n",
      "Length: 45114 (44K) [application/java-archive]\n",
      "Saving to: ‘spark-csv_2.10-1.0.0.jar’\n",
      "\n",
      "spark-csv_2.10-1.0. 100%[===================>]  44.06K  --.-KB/s    in 0.007s  \n",
      "\n",
      "2020-06-25 03:17:12 (5.77 MB/s) - ‘spark-csv_2.10-1.0.0.jar’ saved [45114/45114]\n",
      "\n"
     ]
    }
   ],
   "source": [
    "!wget http://search.maven.org/remotecontent?filepath=org/apache/commons/commons-csv/1.1/commons-csv-1.1.jar -O commons-csv-1.1.jar<br/>    \n",
    "!wget http://search.maven.org/remotecontent?filepath=com/databricks/spark-csv_2.10/1.0.0/spark-csv_2.10-1.0.0.jar -O spark-csv_2.10-1.0.0.jar"
   ]
  },
  {
   "cell_type": "code",
   "execution_count": 15,
   "metadata": {
    "colab": {
     "base_uri": "https://localhost:8080/",
     "height": 255
    },
    "colab_type": "code",
    "executionInfo": {
     "elapsed": 1305,
     "status": "ok",
     "timestamp": 1593055039110,
     "user": {
      "displayName": "Kaushik B",
      "photoUrl": "https://lh3.googleusercontent.com/a-/AOh14Gj9b1zsclt5cgGjbVjcm4VuoI0pqcVpK-30JLst=s64",
      "userId": "07146570031648308753"
     },
     "user_tz": -330
    },
    "id": "8ZbpRcWtF_Q0",
    "outputId": "5d8a0a4f-4ba2-4200-c53a-945e77a29f96"
   },
   "outputs": [
    {
     "name": "stdout",
     "output_type": "stream",
     "text": [
      "root\n",
      " |-- User_ID: integer (nullable = true)\n",
      " |-- Product_ID: string (nullable = true)\n",
      " |-- Gender: string (nullable = true)\n",
      " |-- Age: string (nullable = true)\n",
      " |-- Occupation: integer (nullable = true)\n",
      " |-- City_Category: string (nullable = true)\n",
      " |-- Stay_In_Current_City_Years: string (nullable = true)\n",
      " |-- Marital_Status: integer (nullable = true)\n",
      " |-- Product_Category_1: integer (nullable = true)\n",
      " |-- Product_Category_2: integer (nullable = true)\n",
      " |-- Product_Category_3: integer (nullable = true)\n",
      " |-- Purchase: integer (nullable = true)\n",
      "\n"
     ]
    }
   ],
   "source": [
    "train.printSchema()"
   ]
  },
  {
   "cell_type": "code",
   "execution_count": 16,
   "metadata": {
    "colab": {
     "base_uri": "https://localhost:8080/",
     "height": 122
    },
    "colab_type": "code",
    "executionInfo": {
     "elapsed": 1563,
     "status": "ok",
     "timestamp": 1593055045462,
     "user": {
      "displayName": "Kaushik B",
      "photoUrl": "https://lh3.googleusercontent.com/a-/AOh14Gj9b1zsclt5cgGjbVjcm4VuoI0pqcVpK-30JLst=s64",
      "userId": "07146570031648308753"
     },
     "user_tz": -330
    },
    "id": "LngFfHFeGQgz",
    "outputId": "dcbb7026-c7ed-421b-f0f9-2d5a30e0a98b"
   },
   "outputs": [
    {
     "data": {
      "text/plain": [
       "[Row(User_ID=1000001, Product_ID='P00069042', Gender='F', Age='0-17', Occupation=10, City_Category='A', Stay_In_Current_City_Years='2', Marital_Status=0, Product_Category_1=3, Product_Category_2=None, Product_Category_3=None, Purchase=8370),\n",
       " Row(User_ID=1000001, Product_ID='P00248942', Gender='F', Age='0-17', Occupation=10, City_Category='A', Stay_In_Current_City_Years='2', Marital_Status=0, Product_Category_1=1, Product_Category_2=6, Product_Category_3=14, Purchase=15200),\n",
       " Row(User_ID=1000001, Product_ID='P00087842', Gender='F', Age='0-17', Occupation=10, City_Category='A', Stay_In_Current_City_Years='2', Marital_Status=0, Product_Category_1=12, Product_Category_2=None, Product_Category_3=None, Purchase=1422),\n",
       " Row(User_ID=1000001, Product_ID='P00085442', Gender='F', Age='0-17', Occupation=10, City_Category='A', Stay_In_Current_City_Years='2', Marital_Status=0, Product_Category_1=12, Product_Category_2=14, Product_Category_3=None, Purchase=1057),\n",
       " Row(User_ID=1000002, Product_ID='P00285442', Gender='M', Age='55+', Occupation=16, City_Category='C', Stay_In_Current_City_Years='4+', Marital_Status=0, Product_Category_1=8, Product_Category_2=None, Product_Category_3=None, Purchase=7969)]"
      ]
     },
     "execution_count": 16,
     "metadata": {
      "tags": []
     },
     "output_type": "execute_result"
    }
   ],
   "source": [
    "train.head(5)"
   ]
  },
  {
   "cell_type": "code",
   "execution_count": 17,
   "metadata": {
    "colab": {
     "base_uri": "https://localhost:8080/",
     "height": 173
    },
    "colab_type": "code",
    "executionInfo": {
     "elapsed": 1492,
     "status": "ok",
     "timestamp": 1593055049175,
     "user": {
      "displayName": "Kaushik B",
      "photoUrl": "https://lh3.googleusercontent.com/a-/AOh14Gj9b1zsclt5cgGjbVjcm4VuoI0pqcVpK-30JLst=s64",
      "userId": "07146570031648308753"
     },
     "user_tz": -330
    },
    "id": "NUrcMoKOGTYX",
    "outputId": "c8ac0cfd-2fda-42a2-b2a7-3964bebb419c"
   },
   "outputs": [
    {
     "name": "stdout",
     "output_type": "stream",
     "text": [
      "+-------+----------+------+----+----------+-------------+--------------------------+--------------+------------------+------------------+------------------+--------+\n",
      "|User_ID|Product_ID|Gender| Age|Occupation|City_Category|Stay_In_Current_City_Years|Marital_Status|Product_Category_1|Product_Category_2|Product_Category_3|Purchase|\n",
      "+-------+----------+------+----+----------+-------------+--------------------------+--------------+------------------+------------------+------------------+--------+\n",
      "|1000001| P00069042|     F|0-17|        10|            A|                         2|             0|                 3|              null|              null|    8370|\n",
      "|1000001| P00248942|     F|0-17|        10|            A|                         2|             0|                 1|                 6|                14|   15200|\n",
      "+-------+----------+------+----+----------+-------------+--------------------------+--------------+------------------+------------------+------------------+--------+\n",
      "only showing top 2 rows\n",
      "\n"
     ]
    }
   ],
   "source": [
    "train.show(2,truncate= True)"
   ]
  },
  {
   "cell_type": "code",
   "execution_count": 18,
   "metadata": {
    "colab": {
     "base_uri": "https://localhost:8080/",
     "height": 34
    },
    "colab_type": "code",
    "executionInfo": {
     "elapsed": 2938,
     "status": "ok",
     "timestamp": 1593055054292,
     "user": {
      "displayName": "Kaushik B",
      "photoUrl": "https://lh3.googleusercontent.com/a-/AOh14Gj9b1zsclt5cgGjbVjcm4VuoI0pqcVpK-30JLst=s64",
      "userId": "07146570031648308753"
     },
     "user_tz": -330
    },
    "id": "sKsMMRBddOfa",
    "outputId": "f8ecfff8-f098-409a-919d-9ce3000c9d4b"
   },
   "outputs": [
    {
     "data": {
      "text/plain": [
       "(550068, 233599)"
      ]
     },
     "execution_count": 18,
     "metadata": {
      "tags": []
     },
     "output_type": "execute_result"
    }
   ],
   "source": [
    "train.count(),test.count()"
   ]
  },
  {
   "cell_type": "code",
   "execution_count": 19,
   "metadata": {
    "colab": {
     "base_uri": "https://localhost:8080/",
     "height": 238
    },
    "colab_type": "code",
    "executionInfo": {
     "elapsed": 1417,
     "status": "ok",
     "timestamp": 1593055073312,
     "user": {
      "displayName": "Kaushik B",
      "photoUrl": "https://lh3.googleusercontent.com/a-/AOh14Gj9b1zsclt5cgGjbVjcm4VuoI0pqcVpK-30JLst=s64",
      "userId": "07146570031648308753"
     },
     "user_tz": -330
    },
    "id": "3YGVCZ2Fe0ME",
    "outputId": "1ec9be46-4c3a-4f28-f0ba-b22891c60d24"
   },
   "outputs": [
    {
     "data": {
      "text/plain": [
       "(12,\n",
       " ['User_ID',\n",
       "  'Product_ID',\n",
       "  'Gender',\n",
       "  'Age',\n",
       "  'Occupation',\n",
       "  'City_Category',\n",
       "  'Stay_In_Current_City_Years',\n",
       "  'Marital_Status',\n",
       "  'Product_Category_1',\n",
       "  'Product_Category_2',\n",
       "  'Product_Category_3',\n",
       "  'Purchase'])"
      ]
     },
     "execution_count": 19,
     "metadata": {
      "tags": []
     },
     "output_type": "execute_result"
    }
   ],
   "source": [
    "# columns are similar to pandas dataframe\n",
    "len(train.columns), train.columns"
   ]
  },
  {
   "cell_type": "code",
   "execution_count": 20,
   "metadata": {
    "colab": {
     "base_uri": "https://localhost:8080/",
     "height": 221
    },
    "colab_type": "code",
    "executionInfo": {
     "elapsed": 1465,
     "status": "ok",
     "timestamp": 1593055090182,
     "user": {
      "displayName": "Kaushik B",
      "photoUrl": "https://lh3.googleusercontent.com/a-/AOh14Gj9b1zsclt5cgGjbVjcm4VuoI0pqcVpK-30JLst=s64",
      "userId": "07146570031648308753"
     },
     "user_tz": -330
    },
    "id": "Rxtmko6Pe4XZ",
    "outputId": "fe8f434f-67ae-4086-f7b9-b525cd2a64af"
   },
   "outputs": [
    {
     "data": {
      "text/plain": [
       "(11,\n",
       " ['User_ID',\n",
       "  'Product_ID',\n",
       "  'Gender',\n",
       "  'Age',\n",
       "  'Occupation',\n",
       "  'City_Category',\n",
       "  'Stay_In_Current_City_Years',\n",
       "  'Marital_Status',\n",
       "  'Product_Category_1',\n",
       "  'Product_Category_2',\n",
       "  'Product_Category_3'])"
      ]
     },
     "execution_count": 20,
     "metadata": {
      "tags": []
     },
     "output_type": "execute_result"
    }
   ],
   "source": [
    "len(test.columns), test.columns"
   ]
  },
  {
   "cell_type": "code",
   "execution_count": 21,
   "metadata": {
    "colab": {
     "base_uri": "https://localhost:8080/",
     "height": 207
    },
    "colab_type": "code",
    "executionInfo": {
     "elapsed": 16175,
     "status": "ok",
     "timestamp": 1593055118826,
     "user": {
      "displayName": "Kaushik B",
      "photoUrl": "https://lh3.googleusercontent.com/a-/AOh14Gj9b1zsclt5cgGjbVjcm4VuoI0pqcVpK-30JLst=s64",
      "userId": "07146570031648308753"
     },
     "user_tz": -330
    },
    "id": "EqkoScT7e7tl",
    "outputId": "2faac100-0c81-46cb-c64f-14766a1d016e"
   },
   "outputs": [
    {
     "name": "stdout",
     "output_type": "stream",
     "text": [
      "+-------+------------------+----------+------+------+-----------------+-------------+--------------------------+-------------------+------------------+------------------+------------------+-----------------+\n",
      "|summary|           User_ID|Product_ID|Gender|   Age|       Occupation|City_Category|Stay_In_Current_City_Years|     Marital_Status|Product_Category_1|Product_Category_2|Product_Category_3|         Purchase|\n",
      "+-------+------------------+----------+------+------+-----------------+-------------+--------------------------+-------------------+------------------+------------------+------------------+-----------------+\n",
      "|  count|            550068|    550068|550068|550068|           550068|       550068|                    550068|             550068|            550068|            376430|            166821|           550068|\n",
      "|   mean|1003028.8424013031|      null|  null|  null|8.076706879876669|         null|         1.468494139793958|0.40965298835780306| 5.404270017525106| 9.842329251122386|12.668243206790512|9263.968712959126|\n",
      "| stddev|1727.5915855313747|      null|  null|  null|6.522660487341741|         null|        0.9890866807573103| 0.4917701263173315| 3.936211369201365| 5.086589648693497| 4.125337631575274|5023.065393820575|\n",
      "|    min|           1000001| P00000142|     F|  0-17|                0|            A|                         0|                  0|                 1|                 2|                 3|               12|\n",
      "|    max|           1006040|  P0099942|     M|   55+|               20|            C|                        4+|                  1|                20|                18|                18|            23961|\n",
      "+-------+------------------+----------+------+------+-----------------+-------------+--------------------------+-------------------+------------------+------------------+------------------+-----------------+\n",
      "\n"
     ]
    }
   ],
   "source": [
    "# describe - summary statistics - if we dont specify any column name it will show for all columns\n",
    "\n",
    "train.describe().show()"
   ]
  },
  {
   "cell_type": "code",
   "execution_count": 22,
   "metadata": {
    "colab": {
     "base_uri": "https://localhost:8080/",
     "height": 204
    },
    "colab_type": "code",
    "executionInfo": {
     "elapsed": 1209,
     "status": "ok",
     "timestamp": 1593055143230,
     "user": {
      "displayName": "Kaushik B",
      "photoUrl": "https://lh3.googleusercontent.com/a-/AOh14Gj9b1zsclt5cgGjbVjcm4VuoI0pqcVpK-30JLst=s64",
      "userId": "07146570031648308753"
     },
     "user_tz": -330
    },
    "id": "uwaORN8gfBza",
    "outputId": "2ca16ad2-3b46-4d0c-d9eb-33e0aa839993"
   },
   "outputs": [
    {
     "name": "stdout",
     "output_type": "stream",
     "text": [
      "+-------+----+\n",
      "|User_ID| Age|\n",
      "+-------+----+\n",
      "|1000001|0-17|\n",
      "|1000001|0-17|\n",
      "|1000001|0-17|\n",
      "|1000001|0-17|\n",
      "|1000002| 55+|\n",
      "+-------+----+\n",
      "only showing top 5 rows\n",
      "\n"
     ]
    }
   ],
   "source": [
    "# select - operation for subsetting dataframe -column names are passed in as param separated by comma\n",
    "\n",
    "train.select('User_ID','Age').show(5)"
   ]
  },
  {
   "cell_type": "code",
   "execution_count": 23,
   "metadata": {
    "colab": {
     "base_uri": "https://localhost:8080/",
     "height": 34
    },
    "colab_type": "code",
    "executionInfo": {
     "elapsed": 7088,
     "status": "ok",
     "timestamp": 1593055167532,
     "user": {
      "displayName": "Kaushik B",
      "photoUrl": "https://lh3.googleusercontent.com/a-/AOh14Gj9b1zsclt5cgGjbVjcm4VuoI0pqcVpK-30JLst=s64",
      "userId": "07146570031648308753"
     },
     "user_tz": -330
    },
    "id": "Skk6sfYNfCAL",
    "outputId": "d9bce277-eef4-4622-b179-5c4ebbcf9410"
   },
   "outputs": [
    {
     "data": {
      "text/plain": [
       "(3631, 3491)"
      ]
     },
     "execution_count": 23,
     "metadata": {
      "tags": []
     },
     "output_type": "execute_result"
    }
   ],
   "source": [
    "# distinct - used to calculate no. of distinct rows\n",
    "train.select('Product_ID').distinct().count(),test.select('Product_ID').distinct().count()"
   ]
  },
  {
   "cell_type": "code",
   "execution_count": 24,
   "metadata": {
    "colab": {
     "base_uri": "https://localhost:8080/",
     "height": 34
    },
    "colab_type": "code",
    "executionInfo": {
     "elapsed": 5919,
     "status": "ok",
     "timestamp": 1593055184118,
     "user": {
      "displayName": "Kaushik B",
      "photoUrl": "https://lh3.googleusercontent.com/a-/AOh14Gj9b1zsclt5cgGjbVjcm4VuoI0pqcVpK-30JLst=s64",
      "userId": "07146570031648308753"
     },
     "user_tz": -330
    },
    "id": "6QY0xe-PfCNR",
    "outputId": "fdde22c9-8b4e-4b12-c8a8-b864042a9a2e"
   },
   "outputs": [
    {
     "data": {
      "text/plain": [
       "46"
      ]
     },
     "execution_count": 24,
     "metadata": {
      "tags": []
     },
     "output_type": "execute_result"
    }
   ],
   "source": [
    "# subtract - to remove some subset of rows form original one\n",
    "diff_cat_in_train_test=test.select('Product_ID').subtract(train.select('Product_ID'))\n",
    "diff_cat_in_train_test.distinct().count()  # For distict count"
   ]
  },
  {
   "cell_type": "code",
   "execution_count": 25,
   "metadata": {
    "colab": {
     "base_uri": "https://localhost:8080/",
     "height": 221
    },
    "colab_type": "code",
    "executionInfo": {
     "elapsed": 3734,
     "status": "ok",
     "timestamp": 1593055199057,
     "user": {
      "displayName": "Kaushik B",
      "photoUrl": "https://lh3.googleusercontent.com/a-/AOh14Gj9b1zsclt5cgGjbVjcm4VuoI0pqcVpK-30JLst=s64",
      "userId": "07146570031648308753"
     },
     "user_tz": -330
    },
    "id": "JOK0VJ8MfCSY",
    "outputId": "1543eeab-6a50-4a5b-c411-c705f31dc252"
   },
   "outputs": [
    {
     "name": "stdout",
     "output_type": "stream",
     "text": [
      "+----------+-----+------+\n",
      "|Age_Gender|    F|     M|\n",
      "+----------+-----+------+\n",
      "|      0-17| 5083| 10019|\n",
      "|     46-50|13199| 32502|\n",
      "|     18-25|24628| 75032|\n",
      "|     36-45|27170| 82843|\n",
      "|       55+| 5083| 16421|\n",
      "|     51-55| 9894| 28607|\n",
      "|     26-35|50752|168835|\n",
      "+----------+-----+------+\n",
      "\n"
     ]
    }
   ],
   "source": [
    "# crosstab - to calculate pairwise frequency\n",
    "\n",
    "train.crosstab('Age', 'Gender').show()"
   ]
  },
  {
   "cell_type": "code",
   "execution_count": 27,
   "metadata": {
    "colab": {
     "base_uri": "https://localhost:8080/",
     "height": 340
    },
    "colab_type": "code",
    "executionInfo": {
     "elapsed": 2756,
     "status": "ok",
     "timestamp": 1593055245155,
     "user": {
      "displayName": "Kaushik B",
      "photoUrl": "https://lh3.googleusercontent.com/a-/AOh14Gj9b1zsclt5cgGjbVjcm4VuoI0pqcVpK-30JLst=s64",
      "userId": "07146570031648308753"
     },
     "user_tz": -330
    },
    "id": "WQm4pVi9fCc8",
    "outputId": "f7df9660-cd47-47bf-fc08-fc29bff5cc51"
   },
   "outputs": [
    {
     "name": "stdout",
     "output_type": "stream",
     "text": [
      "+-----+------+\n",
      "|  Age|Gender|\n",
      "+-----+------+\n",
      "|51-55|     F|\n",
      "|18-25|     M|\n",
      "| 0-17|     F|\n",
      "|46-50|     M|\n",
      "|18-25|     F|\n",
      "|  55+|     M|\n",
      "|  55+|     F|\n",
      "|36-45|     M|\n",
      "|26-35|     F|\n",
      "| 0-17|     M|\n",
      "|36-45|     F|\n",
      "|51-55|     M|\n",
      "|26-35|     M|\n",
      "|46-50|     F|\n",
      "+-----+------+\n",
      "\n"
     ]
    }
   ],
   "source": [
    "# dropduplicates\n",
    "train.select('Age','Gender').dropDuplicates().show()"
   ]
  },
  {
   "cell_type": "code",
   "execution_count": 28,
   "metadata": {
    "colab": {
     "base_uri": "https://localhost:8080/",
     "height": 34
    },
    "colab_type": "code",
    "executionInfo": {
     "elapsed": 3124,
     "status": "ok",
     "timestamp": 1593055267878,
     "user": {
      "displayName": "Kaushik B",
      "photoUrl": "https://lh3.googleusercontent.com/a-/AOh14Gj9b1zsclt5cgGjbVjcm4VuoI0pqcVpK-30JLst=s64",
      "userId": "07146570031648308753"
     },
     "user_tz": -330
    },
    "id": "emATuTrWfClg",
    "outputId": "b87a71a4-419a-48db-d176-c0ab3743642b"
   },
   "outputs": [
    {
     "data": {
      "text/plain": [
       "166821"
      ]
     },
     "execution_count": 28,
     "metadata": {
      "tags": []
     },
     "output_type": "execute_result"
    }
   ],
   "source": [
    "# dropna - drops row for null values - how, thresh, subset\n",
    "\n",
    "train.dropna().count()"
   ]
  },
  {
   "cell_type": "code",
   "execution_count": 29,
   "metadata": {
    "colab": {
     "base_uri": "https://localhost:8080/",
     "height": 173
    },
    "colab_type": "code",
    "executionInfo": {
     "elapsed": 1584,
     "status": "ok",
     "timestamp": 1593055282408,
     "user": {
      "displayName": "Kaushik B",
      "photoUrl": "https://lh3.googleusercontent.com/a-/AOh14Gj9b1zsclt5cgGjbVjcm4VuoI0pqcVpK-30JLst=s64",
      "userId": "07146570031648308753"
     },
     "user_tz": -330
    },
    "id": "DClHLyIzfCvq",
    "outputId": "b2571ef6-2ba2-4c51-abad-e3dd0fc1905c"
   },
   "outputs": [
    {
     "name": "stdout",
     "output_type": "stream",
     "text": [
      "+-------+----------+------+----+----------+-------------+--------------------------+--------------+------------------+------------------+------------------+--------+\n",
      "|User_ID|Product_ID|Gender| Age|Occupation|City_Category|Stay_In_Current_City_Years|Marital_Status|Product_Category_1|Product_Category_2|Product_Category_3|Purchase|\n",
      "+-------+----------+------+----+----------+-------------+--------------------------+--------------+------------------+------------------+------------------+--------+\n",
      "|1000001| P00069042|     F|0-17|        10|            A|                         2|             0|                 3|                -1|                -1|    8370|\n",
      "|1000001| P00248942|     F|0-17|        10|            A|                         2|             0|                 1|                 6|                14|   15200|\n",
      "+-------+----------+------+----+----------+-------------+--------------------------+--------------+------------------+------------------+------------------+--------+\n",
      "only showing top 2 rows\n",
      "\n"
     ]
    }
   ],
   "source": [
    "train.fillna(-1).show(2)"
   ]
  },
  {
   "cell_type": "code",
   "execution_count": 30,
   "metadata": {
    "colab": {
     "base_uri": "https://localhost:8080/",
     "height": 34
    },
    "colab_type": "code",
    "executionInfo": {
     "elapsed": 2631,
     "status": "ok",
     "timestamp": 1593055296764,
     "user": {
      "displayName": "Kaushik B",
      "photoUrl": "https://lh3.googleusercontent.com/a-/AOh14Gj9b1zsclt5cgGjbVjcm4VuoI0pqcVpK-30JLst=s64",
      "userId": "07146570031648308753"
     },
     "user_tz": -330
    },
    "id": "K7M9JsWrfC3I",
    "outputId": "bc20fd4e-3523-4eb1-b316-dc9144844f99"
   },
   "outputs": [
    {
     "data": {
      "text/plain": [
       "110523"
      ]
     },
     "execution_count": 30,
     "metadata": {
      "tags": []
     },
     "output_type": "execute_result"
    }
   ],
   "source": [
    "# filter - apply filter on column\n",
    "train.filter(train.Purchase > 15000).count()"
   ]
  },
  {
   "cell_type": "code",
   "execution_count": 31,
   "metadata": {
    "colab": {
     "base_uri": "https://localhost:8080/",
     "height": 221
    },
    "colab_type": "code",
    "executionInfo": {
     "elapsed": 3829,
     "status": "ok",
     "timestamp": 1593055330342,
     "user": {
      "displayName": "Kaushik B",
      "photoUrl": "https://lh3.googleusercontent.com/a-/AOh14Gj9b1zsclt5cgGjbVjcm4VuoI0pqcVpK-30JLst=s64",
      "userId": "07146570031648308753"
     },
     "user_tz": -330
    },
    "id": "tZW-nc6KfDDb",
    "outputId": "946c8a78-4875-4b3c-f7c5-4907753c4518"
   },
   "outputs": [
    {
     "name": "stdout",
     "output_type": "stream",
     "text": [
      "+-----+-----------------+\n",
      "|  Age|    avg(Purchase)|\n",
      "+-----+-----------------+\n",
      "|18-25|9169.663606261289|\n",
      "|26-35|9252.690632869888|\n",
      "| 0-17|8933.464640444974|\n",
      "|46-50|9208.625697468327|\n",
      "|51-55|9534.808030960236|\n",
      "|36-45|9331.350694917874|\n",
      "|  55+|9336.280459449405|\n",
      "+-----+-----------------+\n",
      "\n"
     ]
    }
   ],
   "source": [
    "# groupby - operation can be used here to find the mean\n",
    "train.groupby('Age').agg({'Purchase': 'mean'}).show()"
   ]
  },
  {
   "cell_type": "code",
   "execution_count": 32,
   "metadata": {
    "colab": {
     "base_uri": "https://localhost:8080/",
     "height": 221
    },
    "colab_type": "code",
    "executionInfo": {
     "elapsed": 2873,
     "status": "ok",
     "timestamp": 1593055346198,
     "user": {
      "displayName": "Kaushik B",
      "photoUrl": "https://lh3.googleusercontent.com/a-/AOh14Gj9b1zsclt5cgGjbVjcm4VuoI0pqcVpK-30JLst=s64",
      "userId": "07146570031648308753"
     },
     "user_tz": -330
    },
    "id": "-PmJMQRPfDJY",
    "outputId": "05ed8ad3-0426-4eeb-d833-66ce2ca2f55c"
   },
   "outputs": [
    {
     "name": "stdout",
     "output_type": "stream",
     "text": [
      "+-----+------+\n",
      "|  Age| count|\n",
      "+-----+------+\n",
      "|18-25| 99660|\n",
      "|26-35|219587|\n",
      "| 0-17| 15102|\n",
      "|46-50| 45701|\n",
      "|51-55| 38501|\n",
      "|36-45|110013|\n",
      "|  55+| 21504|\n",
      "+-----+------+\n",
      "\n"
     ]
    }
   ],
   "source": [
    "# using group by and count \n",
    "train.groupby('Age').count().show()"
   ]
  },
  {
   "cell_type": "code",
   "execution_count": 33,
   "metadata": {
    "colab": {
     "base_uri": "https://localhost:8080/",
     "height": 34
    },
    "colab_type": "code",
    "executionInfo": {
     "elapsed": 1959,
     "status": "ok",
     "timestamp": 1593055362279,
     "user": {
      "displayName": "Kaushik B",
      "photoUrl": "https://lh3.googleusercontent.com/a-/AOh14Gj9b1zsclt5cgGjbVjcm4VuoI0pqcVpK-30JLst=s64",
      "userId": "07146570031648308753"
     },
     "user_tz": -330
    },
    "id": "3yXLdYAufDGo",
    "outputId": "406d535c-896a-439f-c0b6-40bd96a13662"
   },
   "outputs": [
    {
     "data": {
      "text/plain": [
       "(109839, 109861)"
      ]
     },
     "execution_count": 33,
     "metadata": {
      "tags": []
     },
     "output_type": "execute_result"
    }
   ],
   "source": [
    "# sample - for sampling from the dataframe - withReplacement, fraction, seed\n",
    "t1 = train.sample(False, 0.2, 42)\n",
    "t2 = train.sample(False, 0.2, 43)\n",
    "t1.count(),t2.count()"
   ]
  },
  {
   "cell_type": "code",
   "execution_count": 34,
   "metadata": {
    "colab": {
     "base_uri": "https://localhost:8080/",
     "height": 299
    },
    "colab_type": "code",
    "executionInfo": {
     "elapsed": 1276,
     "status": "error",
     "timestamp": 1593055378663,
     "user": {
      "displayName": "Kaushik B",
      "photoUrl": "https://lh3.googleusercontent.com/a-/AOh14Gj9b1zsclt5cgGjbVjcm4VuoI0pqcVpK-30JLst=s64",
      "userId": "07146570031648308753"
     },
     "user_tz": -330
    },
    "id": "xbYD9TkdfDA-",
    "outputId": "20de634e-2606-4f5b-f1a9-0f0a3bbef133"
   },
   "outputs": [
    {
     "ename": "AttributeError",
     "evalue": "ignored",
     "output_type": "error",
     "traceback": [
      "\u001b[0;31m---------------------------------------------------------------------------\u001b[0m",
      "\u001b[0;31mAttributeError\u001b[0m                            Traceback (most recent call last)",
      "\u001b[0;32m<ipython-input-34-f31d1ac67598>\u001b[0m in \u001b[0;36m<module>\u001b[0;34m()\u001b[0m\n\u001b[1;32m      1\u001b[0m \u001b[0;31m# map - we can use this to apply a function to each row. after the function is applied the result id of type RDD\u001b[0m\u001b[0;34m\u001b[0m\u001b[0;34m\u001b[0m\u001b[0;34m\u001b[0m\u001b[0m\n\u001b[0;32m----> 2\u001b[0;31m \u001b[0mtrain\u001b[0m\u001b[0;34m.\u001b[0m\u001b[0mselect\u001b[0m\u001b[0;34m(\u001b[0m\u001b[0;34m'User_ID'\u001b[0m\u001b[0;34m)\u001b[0m\u001b[0;34m.\u001b[0m\u001b[0mmap\u001b[0m\u001b[0;34m(\u001b[0m\u001b[0;32mlambda\u001b[0m \u001b[0mx\u001b[0m\u001b[0;34m:\u001b[0m\u001b[0;34m(\u001b[0m\u001b[0mx\u001b[0m\u001b[0;34m,\u001b[0m\u001b[0;36m1\u001b[0m\u001b[0;34m)\u001b[0m\u001b[0;34m)\u001b[0m\u001b[0;34m.\u001b[0m\u001b[0mtake\u001b[0m\u001b[0;34m(\u001b[0m\u001b[0;36m5\u001b[0m\u001b[0;34m)\u001b[0m\u001b[0;34m\u001b[0m\u001b[0;34m\u001b[0m\u001b[0m\n\u001b[0m",
      "\u001b[0;32m/content/spark-2.4.5-bin-hadoop2.7/python/pyspark/sql/dataframe.py\u001b[0m in \u001b[0;36m__getattr__\u001b[0;34m(self, name)\u001b[0m\n\u001b[1;32m   1302\u001b[0m         \u001b[0;32mif\u001b[0m \u001b[0mname\u001b[0m \u001b[0;32mnot\u001b[0m \u001b[0;32min\u001b[0m \u001b[0mself\u001b[0m\u001b[0;34m.\u001b[0m\u001b[0mcolumns\u001b[0m\u001b[0;34m:\u001b[0m\u001b[0;34m\u001b[0m\u001b[0;34m\u001b[0m\u001b[0m\n\u001b[1;32m   1303\u001b[0m             raise AttributeError(\n\u001b[0;32m-> 1304\u001b[0;31m                 \"'%s' object has no attribute '%s'\" % (self.__class__.__name__, name))\n\u001b[0m\u001b[1;32m   1305\u001b[0m         \u001b[0mjc\u001b[0m \u001b[0;34m=\u001b[0m \u001b[0mself\u001b[0m\u001b[0;34m.\u001b[0m\u001b[0m_jdf\u001b[0m\u001b[0;34m.\u001b[0m\u001b[0mapply\u001b[0m\u001b[0;34m(\u001b[0m\u001b[0mname\u001b[0m\u001b[0;34m)\u001b[0m\u001b[0;34m\u001b[0m\u001b[0;34m\u001b[0m\u001b[0m\n\u001b[1;32m   1306\u001b[0m         \u001b[0;32mreturn\u001b[0m \u001b[0mColumn\u001b[0m\u001b[0;34m(\u001b[0m\u001b[0mjc\u001b[0m\u001b[0;34m)\u001b[0m\u001b[0;34m\u001b[0m\u001b[0;34m\u001b[0m\u001b[0m\n",
      "\u001b[0;31mAttributeError\u001b[0m: 'DataFrame' object has no attribute 'map'"
     ]
    }
   ],
   "source": [
    "# map - we can use this to apply a function to each row. after the function is applied the result id of type RDD\n",
    "train.select('User_ID').map(lambda x:(x,1)).take(5)"
   ]
  },
  {
   "cell_type": "code",
   "execution_count": 35,
   "metadata": {
    "colab": {
     "base_uri": "https://localhost:8080/",
     "height": 224
    },
    "colab_type": "code",
    "executionInfo": {
     "elapsed": 3081,
     "status": "ok",
     "timestamp": 1593055399171,
     "user": {
      "displayName": "Kaushik B",
      "photoUrl": "https://lh3.googleusercontent.com/a-/AOh14Gj9b1zsclt5cgGjbVjcm4VuoI0pqcVpK-30JLst=s64",
      "userId": "07146570031648308753"
     },
     "user_tz": -330
    },
    "id": "-y0Pb08vfC-v",
    "outputId": "b70641ae-276f-4525-809e-e9521ca3e834"
   },
   "outputs": [
    {
     "name": "stdout",
     "output_type": "stream",
     "text": [
      "+-------+----------+------+-----+----------+-------------+--------------------------+--------------+------------------+------------------+------------------+--------+\n",
      "|User_ID|Product_ID|Gender|  Age|Occupation|City_Category|Stay_In_Current_City_Years|Marital_Status|Product_Category_1|Product_Category_2|Product_Category_3|Purchase|\n",
      "+-------+----------+------+-----+----------+-------------+--------------------------+--------------+------------------+------------------+------------------+--------+\n",
      "|1003160| P00052842|     M|26-35|        17|            C|                         3|             0|                10|                15|              null|   23961|\n",
      "|1002272| P00052842|     M|26-35|         0|            C|                         1|             0|                10|                15|              null|   23961|\n",
      "|1001474| P00052842|     M|26-35|         4|            A|                         2|             1|                10|                15|              null|   23961|\n",
      "|1003045| P00052842|     M|46-50|         1|            B|                         2|             1|                10|                15|              null|   23960|\n",
      "|1005596| P00117642|     M|36-45|        12|            B|                         1|             0|                10|                16|              null|   23960|\n",
      "+-------+----------+------+-----+----------+-------------+--------------------------+--------------+------------------+------------------+------------------+--------+\n",
      "only showing top 5 rows\n",
      "\n"
     ]
    }
   ],
   "source": [
    "# orderby - used to sort - listofcolumns, ascending=True\n",
    "train.orderBy(train.Purchase.desc()).show(5)"
   ]
  },
  {
   "cell_type": "code",
   "execution_count": 36,
   "metadata": {
    "colab": {
     "base_uri": "https://localhost:8080/",
     "height": 204
    },
    "colab_type": "code",
    "executionInfo": {
     "elapsed": 1440,
     "status": "ok",
     "timestamp": 1593055411843,
     "user": {
      "displayName": "Kaushik B",
      "photoUrl": "https://lh3.googleusercontent.com/a-/AOh14Gj9b1zsclt5cgGjbVjcm4VuoI0pqcVpK-30JLst=s64",
      "userId": "07146570031648308753"
     },
     "user_tz": -330
    },
    "id": "dDqORXQOfC81",
    "outputId": "98a98462-682a-42eb-a16c-a930aa2b0234"
   },
   "outputs": [
    {
     "name": "stdout",
     "output_type": "stream",
     "text": [
      "+--------+------------+\n",
      "|Purchase|Purchase_new|\n",
      "+--------+------------+\n",
      "|    8370|      4185.0|\n",
      "|   15200|      7600.0|\n",
      "|    1422|       711.0|\n",
      "|    1057|       528.5|\n",
      "|    7969|      3984.5|\n",
      "+--------+------------+\n",
      "only showing top 5 rows\n",
      "\n"
     ]
    }
   ],
   "source": [
    "# withColumn - used to add new column also to replace - columnName, Expression\n",
    "\n",
    "train.withColumn('Purchase_new', train.Purchase /2.0).select('Purchase','Purchase_new').show(5)"
   ]
  },
  {
   "cell_type": "code",
   "execution_count": 37,
   "metadata": {
    "colab": {
     "base_uri": "https://localhost:8080/",
     "height": 204
    },
    "colab_type": "code",
    "executionInfo": {
     "elapsed": 1266,
     "status": "ok",
     "timestamp": 1593055427943,
     "user": {
      "displayName": "Kaushik B",
      "photoUrl": "https://lh3.googleusercontent.com/a-/AOh14Gj9b1zsclt5cgGjbVjcm4VuoI0pqcVpK-30JLst=s64",
      "userId": "07146570031648308753"
     },
     "user_tz": -330
    },
    "id": "SsP4J0J4fC6z",
    "outputId": "3a75d8a8-4ecc-428f-b699-17989f6fb8f8"
   },
   "outputs": [
    {
     "data": {
      "text/plain": [
       "['User_ID',\n",
       " 'Product_ID',\n",
       " 'Gender',\n",
       " 'Age',\n",
       " 'Occupation',\n",
       " 'City_Category',\n",
       " 'Stay_In_Current_City_Years',\n",
       " 'Marital_Status',\n",
       " 'Product_Category_1',\n",
       " 'Product_Category_2',\n",
       " 'Product_Category_3']"
      ]
     },
     "execution_count": 37,
     "metadata": {
      "tags": []
     },
     "output_type": "execute_result"
    }
   ],
   "source": [
    "# drop - to drop columns\n",
    "test.drop('Comb').columns"
   ]
  },
  {
   "cell_type": "code",
   "execution_count": 38,
   "metadata": {
    "colab": {
     "base_uri": "https://localhost:8080/",
     "height": 34
    },
    "colab_type": "code",
    "executionInfo": {
     "elapsed": 4429,
     "status": "ok",
     "timestamp": 1593055446080,
     "user": {
      "displayName": "Kaushik B",
      "photoUrl": "https://lh3.googleusercontent.com/a-/AOh14Gj9b1zsclt5cgGjbVjcm4VuoI0pqcVpK-30JLst=s64",
      "userId": "07146570031648308753"
     },
     "user_tz": -330
    },
    "id": "dBoZsCQ9fC01",
    "outputId": "774f32aa-f3fb-491d-8186-d4c1f5c6b60f"
   },
   "outputs": [
    {
     "data": {
      "text/plain": [
       "46"
      ]
     },
     "execution_count": 38,
     "metadata": {
      "tags": []
     },
     "output_type": "execute_result"
    }
   ],
   "source": [
    "# using user defind functions \n",
    "diff_cat_in_train_test=test.select('Product_ID').subtract(train.select('Product_ID'))\n",
    "diff_cat_in_train_test.distinct().count()# For distict count"
   ]
  },
  {
   "cell_type": "code",
   "execution_count": 39,
   "metadata": {
    "colab": {
     "base_uri": "https://localhost:8080/",
     "height": 34
    },
    "colab_type": "code",
    "executionInfo": {
     "elapsed": 8433,
     "status": "ok",
     "timestamp": 1593055465144,
     "user": {
      "displayName": "Kaushik B",
      "photoUrl": "https://lh3.googleusercontent.com/a-/AOh14Gj9b1zsclt5cgGjbVjcm4VuoI0pqcVpK-30JLst=s64",
      "userId": "07146570031648308753"
     },
     "user_tz": -330
    },
    "id": "NRBnsXIbfCzJ",
    "outputId": "c522378c-026d-4851-edaa-2fc13c07ce23"
   },
   "outputs": [
    {
     "data": {
      "text/plain": [
       "46"
      ]
     },
     "execution_count": 39,
     "metadata": {
      "tags": []
     },
     "output_type": "execute_result"
    }
   ],
   "source": [
    "not_found_cat = diff_cat_in_train_test.distinct().rdd.map(lambda x: x[0]).collect()\n",
    "len(not_found_cat)"
   ]
  },
  {
   "cell_type": "code",
   "execution_count": 40,
   "metadata": {
    "colab": {},
    "colab_type": "code",
    "executionInfo": {
     "elapsed": 1749,
     "status": "ok",
     "timestamp": 1593055473722,
     "user": {
      "displayName": "Kaushik B",
      "photoUrl": "https://lh3.googleusercontent.com/a-/AOh14Gj9b1zsclt5cgGjbVjcm4VuoI0pqcVpK-30JLst=s64",
      "userId": "07146570031648308753"
     },
     "user_tz": -330
    },
    "id": "GejPaaiEfCtA"
   },
   "outputs": [],
   "source": [
    "from pyspark.sql.types import StringType\n",
    "from pyspark.sql.functions import udf\n",
    "F1 = udf(lambda x: '-1' if x in not_found_cat else x, StringType())"
   ]
  },
  {
   "cell_type": "code",
   "execution_count": 41,
   "metadata": {
    "colab": {},
    "colab_type": "code",
    "executionInfo": {
     "elapsed": 1716,
     "status": "ok",
     "timestamp": 1593055487909,
     "user": {
      "displayName": "Kaushik B",
      "photoUrl": "https://lh3.googleusercontent.com/a-/AOh14Gj9b1zsclt5cgGjbVjcm4VuoI0pqcVpK-30JLst=s64",
      "userId": "07146570031648308753"
     },
     "user_tz": -330
    },
    "id": "Zf-K4E51fCrL"
   },
   "outputs": [],
   "source": [
    "k = test.withColumn(\"NEW_Product_ID\",F1(test[\"Product_ID\"])).select('NEW_Product_ID')"
   ]
  },
  {
   "cell_type": "code",
   "execution_count": 42,
   "metadata": {
    "colab": {
     "base_uri": "https://localhost:8080/",
     "height": 34
    },
    "colab_type": "code",
    "executionInfo": {
     "elapsed": 8209,
     "status": "ok",
     "timestamp": 1593055507713,
     "user": {
      "displayName": "Kaushik B",
      "photoUrl": "https://lh3.googleusercontent.com/a-/AOh14Gj9b1zsclt5cgGjbVjcm4VuoI0pqcVpK-30JLst=s64",
      "userId": "07146570031648308753"
     },
     "user_tz": -330
    },
    "id": "eFi60WIUfCpZ",
    "outputId": "acfe6f5a-f59e-4fee-9dbf-a3e701aa4ec9"
   },
   "outputs": [
    {
     "data": {
      "text/plain": [
       "1"
      ]
     },
     "execution_count": 42,
     "metadata": {
      "tags": []
     },
     "output_type": "execute_result"
    }
   ],
   "source": [
    "diff_cat_in_train_test=k.select('NEW_Product_ID').subtract(train.select('Product_ID'))\n",
    "diff_cat_in_train_test.distinct().count()# For distinct count"
   ]
  },
  {
   "cell_type": "code",
   "execution_count": 43,
   "metadata": {
    "colab": {
     "base_uri": "https://localhost:8080/",
     "height": 34
    },
    "colab_type": "code",
    "executionInfo": {
     "elapsed": 4540,
     "status": "ok",
     "timestamp": 1593055515115,
     "user": {
      "displayName": "Kaushik B",
      "photoUrl": "https://lh3.googleusercontent.com/a-/AOh14Gj9b1zsclt5cgGjbVjcm4VuoI0pqcVpK-30JLst=s64",
      "userId": "07146570031648308753"
     },
     "user_tz": -330
    },
    "id": "YfA7vBBefCi9",
    "outputId": "70988914-b4b7-4039-da67-2433cc444691"
   },
   "outputs": [
    {
     "data": {
      "text/plain": [
       "[Row(NEW_Product_ID='-1')]"
      ]
     },
     "execution_count": 43,
     "metadata": {
      "tags": []
     },
     "output_type": "execute_result"
    }
   ],
   "source": [
    "diff_cat_in_train_test.distinct().collect()"
   ]
  },
  {
   "cell_type": "code",
   "execution_count": 44,
   "metadata": {
    "colab": {
     "base_uri": "https://localhost:8080/",
     "height": 204
    },
    "colab_type": "code",
    "executionInfo": {
     "elapsed": 1370,
     "status": "ok",
     "timestamp": 1593055544763,
     "user": {
      "displayName": "Kaushik B",
      "photoUrl": "https://lh3.googleusercontent.com/a-/AOh14Gj9b1zsclt5cgGjbVjcm4VuoI0pqcVpK-30JLst=s64",
      "userId": "07146570031648308753"
     },
     "user_tz": -330
    },
    "id": "uZQfAWLrfCg0",
    "outputId": "51730291-3b6e-4a5a-d9a0-4074b9276175"
   },
   "outputs": [
    {
     "name": "stdout",
     "output_type": "stream",
     "text": [
      "+----------+\n",
      "|Product_ID|\n",
      "+----------+\n",
      "| P00069042|\n",
      "| P00248942|\n",
      "| P00087842|\n",
      "| P00085442|\n",
      "| P00285442|\n",
      "+----------+\n",
      "only showing top 5 rows\n",
      "\n"
     ]
    }
   ],
   "source": [
    "# apply sql queries to df\n",
    "\n",
    "train.registerTempTable('train_table')\n",
    "sqlContext.sql('select Product_ID from train_table').show(5)"
   ]
  },
  {
   "cell_type": "code",
   "execution_count": 45,
   "metadata": {
    "colab": {
     "base_uri": "https://localhost:8080/",
     "height": 221
    },
    "colab_type": "code",
    "executionInfo": {
     "elapsed": 3857,
     "status": "ok",
     "timestamp": 1593055564017,
     "user": {
      "displayName": "Kaushik B",
      "photoUrl": "https://lh3.googleusercontent.com/a-/AOh14Gj9b1zsclt5cgGjbVjcm4VuoI0pqcVpK-30JLst=s64",
      "userId": "07146570031648308753"
     },
     "user_tz": -330
    },
    "id": "B5R6yGuVfCa9",
    "outputId": "7cfb49ae-322e-4666-ecf8-db8d4a45a75f"
   },
   "outputs": [
    {
     "name": "stdout",
     "output_type": "stream",
     "text": [
      "+-----+-------------+\n",
      "|  Age|max(Purchase)|\n",
      "+-----+-------------+\n",
      "|18-25|        23958|\n",
      "|26-35|        23961|\n",
      "| 0-17|        23955|\n",
      "|46-50|        23960|\n",
      "|51-55|        23960|\n",
      "|36-45|        23960|\n",
      "|  55+|        23960|\n",
      "+-----+-------------+\n",
      "\n"
     ]
    }
   ],
   "source": [
    "sqlContext.sql('select Age, max(Purchase) from train_table group by Age').show()"
   ]
  },
  {
   "cell_type": "code",
   "execution_count": null,
   "metadata": {
    "colab": {},
    "colab_type": "code",
    "id": "gaeBzYplfCX9"
   },
   "outputs": [],
   "source": []
  },
  {
   "cell_type": "code",
   "execution_count": null,
   "metadata": {
    "colab": {},
    "colab_type": "code",
    "id": "TwMhQxKwfCVd"
   },
   "outputs": [],
   "source": []
  },
  {
   "cell_type": "code",
   "execution_count": null,
   "metadata": {
    "colab": {},
    "colab_type": "code",
    "id": "G_uabvNkfCQc"
   },
   "outputs": [],
   "source": []
  }
 ],
 "metadata": {
  "colab": {
   "authorship_tag": "ABX9TyPJ/7GyBS4WVCP8LApJHRyr",
   "collapsed_sections": [],
   "name": "BDS_DataManip_Assignment_C20032_Kaushik_B.ipynb",
   "provenance": [],
   "toc_visible": true
  },
  "kernelspec": {
   "display_name": "Python 3",
   "language": "python",
   "name": "python3"
  },
  "language_info": {
   "codemirror_mode": {
    "name": "ipython",
    "version": 3
   },
   "file_extension": ".py",
   "mimetype": "text/x-python",
   "name": "python",
   "nbconvert_exporter": "python",
   "pygments_lexer": "ipython3",
   "version": "3.7.4"
  }
 },
 "nbformat": 4,
 "nbformat_minor": 1
}
