{
 "cells": [
  {
   "cell_type": "markdown",
   "metadata": {
    "colab_type": "text",
    "id": "_YFbl3rHBNcv"
   },
   "source": [
    "**MAP REDUCE ASSIGNMENT**"
   ]
  },
  {
   "cell_type": "code",
   "execution_count": 1,
   "metadata": {
    "colab": {
     "base_uri": "https://localhost:8080/",
     "height": 85
    },
    "colab_type": "code",
    "executionInfo": {
     "elapsed": 2065,
     "status": "ok",
     "timestamp": 1591939963571,
     "user": {
      "displayName": "Kaushik B",
      "photoUrl": "https://lh3.googleusercontent.com/a-/AOh14Gj9b1zsclt5cgGjbVjcm4VuoI0pqcVpK-30JLst=s64",
      "userId": "07146570031648308753"
     },
     "user_tz": -330
    },
    "id": "b7QoVGr6G0Xt",
    "outputId": "b9ca81de-bd4f-4c0e-e05b-47709f3d354f"
   },
   "outputs": [
    {
     "name": "stdout",
     "output_type": "stream",
     "text": [
      "32\n",
      "9.9495\n",
      "hi\n",
      "0\n"
     ]
    }
   ],
   "source": [
    "# list of ints\n",
    "int_list = [32, 58, 83, 10]\n",
    "\n",
    "# list of floats\n",
    "float_list = [11.22876, 9.9495, 78.34098, 12.08765]\n",
    "\n",
    "# list of strings\n",
    "str_list = [\"hello\", \"world\", \"hi\", \"bye\"]\n",
    "\n",
    "# list of int, float and strings\n",
    "mix_list = [1.13, 2, 5, \"beginnersbook\", 100, \"hi\"]\n",
    "\n",
    "# an empty list\n",
    "nodata_list = []\n",
    "\n",
    "\n",
    "print(int_list[0])\n",
    "print(float_list[1])\n",
    "print(str_list[2])\n",
    "print(len(nodata_list))"
   ]
  },
  {
   "cell_type": "code",
   "execution_count": 2,
   "metadata": {
    "colab": {
     "base_uri": "https://localhost:8080/",
     "height": 34
    },
    "colab_type": "code",
    "executionInfo": {
     "elapsed": 1036,
     "status": "ok",
     "timestamp": 1591939968951,
     "user": {
      "displayName": "Kaushik B",
      "photoUrl": "https://lh3.googleusercontent.com/a-/AOh14Gj9b1zsclt5cgGjbVjcm4VuoI0pqcVpK-30JLst=s64",
      "userId": "07146570031648308753"
     },
     "user_tz": -330
    },
    "id": "8y_s7Kb0txOE",
    "outputId": "7230129b-fbee-4a62-d133-a0a1873fdee7"
   },
   "outputs": [
    {
     "name": "stdout",
     "output_type": "stream",
     "text": [
      "['HELLO', 'WORLD', 'HI', 'BYE']\n"
     ]
    }
   ],
   "source": [
    "# Map 1\n",
    "\n",
    "\n",
    "uppered_pets = list(map(str.upper, str_list))\n",
    "\n",
    "print(uppered_pets)"
   ]
  },
  {
   "cell_type": "code",
   "execution_count": 3,
   "metadata": {
    "colab": {
     "base_uri": "https://localhost:8080/",
     "height": 34
    },
    "colab_type": "code",
    "executionInfo": {
     "elapsed": 964,
     "status": "ok",
     "timestamp": 1591939973316,
     "user": {
      "displayName": "Kaushik B",
      "photoUrl": "https://lh3.googleusercontent.com/a-/AOh14Gj9b1zsclt5cgGjbVjcm4VuoI0pqcVpK-30JLst=s64",
      "userId": "07146570031648308753"
     },
     "user_tz": -330
    },
    "id": "yNs4lpWRvK0u",
    "outputId": "1ab8caea-769e-40d8-cd5c-a4eb449ae114"
   },
   "outputs": [
    {
     "name": "stdout",
     "output_type": "stream",
     "text": [
      "[11.2, 9.95, 78.341, 12.0877]\n"
     ]
    }
   ],
   "source": [
    "# Map 2\n",
    "\n",
    "result = list(map(round, float_list, range(1,5)))\n",
    "\n",
    "print(result)"
   ]
  },
  {
   "cell_type": "code",
   "execution_count": 4,
   "metadata": {
    "colab": {
     "base_uri": "https://localhost:8080/",
     "height": 34
    },
    "colab_type": "code",
    "executionInfo": {
     "elapsed": 945,
     "status": "ok",
     "timestamp": 1591939976025,
     "user": {
      "displayName": "Kaushik B",
      "photoUrl": "https://lh3.googleusercontent.com/a-/AOh14Gj9b1zsclt5cgGjbVjcm4VuoI0pqcVpK-30JLst=s64",
      "userId": "07146570031648308753"
     },
     "user_tz": -330
    },
    "id": "m0kXuhBh0iyY",
    "outputId": "eb88898c-6ef9-4b2f-b0e6-450156c0c4c1"
   },
   "outputs": [
    {
     "name": "stdout",
     "output_type": "stream",
     "text": [
      "[('hello', 32), ('world', 58), ('hi', 83), ('bye', 10)]\n"
     ]
    }
   ],
   "source": [
    "# Map 3\n",
    "\n",
    "#results = list(zip(str_list, int_list))\n",
    "results = list(map(lambda x, y: (x, y), str_list, int_list))\n",
    "\n",
    "print(results)"
   ]
  },
  {
   "cell_type": "code",
   "execution_count": 5,
   "metadata": {
    "colab": {
     "base_uri": "https://localhost:8080/",
     "height": 34
    },
    "colab_type": "code",
    "executionInfo": {
     "elapsed": 986,
     "status": "ok",
     "timestamp": 1591939979606,
     "user": {
      "displayName": "Kaushik B",
      "photoUrl": "https://lh3.googleusercontent.com/a-/AOh14Gj9b1zsclt5cgGjbVjcm4VuoI0pqcVpK-30JLst=s64",
      "userId": "07146570031648308753"
     },
     "user_tz": -330
    },
    "id": "RCL9eo161Xa8",
    "outputId": "4d791310-bd6d-47e7-e726-d158a6cebcc0"
   },
   "outputs": [
    {
     "name": "stdout",
     "output_type": "stream",
     "text": [
      "[66, 90, 68, 76, 88, 74, 81]\n"
     ]
    }
   ],
   "source": [
    "# Filter 1\n",
    "\n",
    "scores = [66, 90, 68, 59, 76, 60, 88, 74, 81, 65]\n",
    "\n",
    "def is_A_student(score):\n",
    "    return score > 65\n",
    "\n",
    "result = list(filter(is_A_student, scores))\n",
    "\n",
    "print(result)"
   ]
  },
  {
   "cell_type": "code",
   "execution_count": 6,
   "metadata": {
    "colab": {
     "base_uri": "https://localhost:8080/",
     "height": 34
    },
    "colab_type": "code",
    "executionInfo": {
     "elapsed": 1021,
     "status": "ok",
     "timestamp": 1591939982362,
     "user": {
      "displayName": "Kaushik B",
      "photoUrl": "https://lh3.googleusercontent.com/a-/AOh14Gj9b1zsclt5cgGjbVjcm4VuoI0pqcVpK-30JLst=s64",
      "userId": "07146570031648308753"
     },
     "user_tz": -330
    },
    "id": "N2kN13Is6NdX",
    "outputId": "56cdbeef-690a-40ec-c4d3-04c437bf72b7"
   },
   "outputs": [
    {
     "name": "stdout",
     "output_type": "stream",
     "text": [
      "[66, 90, 68, 76, 60, 88, 74]\n"
     ]
    }
   ],
   "source": [
    "# Filter 2\n",
    "\n",
    "even_numbers = list(filter(lambda x: x % 2 == 0, scores))\n",
    "print(even_numbers)"
   ]
  },
  {
   "cell_type": "code",
   "execution_count": 7,
   "metadata": {
    "colab": {
     "base_uri": "https://localhost:8080/",
     "height": 34
    },
    "colab_type": "code",
    "executionInfo": {
     "elapsed": 983,
     "status": "ok",
     "timestamp": 1591939985925,
     "user": {
      "displayName": "Kaushik B",
      "photoUrl": "https://lh3.googleusercontent.com/a-/AOh14Gj9b1zsclt5cgGjbVjcm4VuoI0pqcVpK-30JLst=s64",
      "userId": "07146570031648308753"
     },
     "user_tz": -330
    },
    "id": "Uu3_gGbt26PH",
    "outputId": "72aad92d-60aa-4c26-8590-5e95e59d2b89"
   },
   "outputs": [
    {
     "name": "stdout",
     "output_type": "stream",
     "text": [
      "111.60688999999999\n"
     ]
    }
   ],
   "source": [
    "# Reduce 1\n",
    "from functools import reduce\n",
    "\n",
    "\n",
    "def sum(first, second):\n",
    "    return first + second\n",
    "\n",
    "result = reduce(sum, float_list)\n",
    "print(result)"
   ]
  },
  {
   "cell_type": "code",
   "execution_count": 8,
   "metadata": {
    "colab": {
     "base_uri": "https://localhost:8080/",
     "height": 34
    },
    "colab_type": "code",
    "executionInfo": {
     "elapsed": 960,
     "status": "ok",
     "timestamp": 1591939991336,
     "user": {
      "displayName": "Kaushik B",
      "photoUrl": "https://lh3.googleusercontent.com/a-/AOh14Gj9b1zsclt5cgGjbVjcm4VuoI0pqcVpK-30JLst=s64",
      "userId": "07146570031648308753"
     },
     "user_tz": -330
    },
    "id": "vQyQPfEL5oaN",
    "outputId": "0f77c0ef-65c2-40c2-a275-e8b4cf6fc1d7"
   },
   "outputs": [
    {
     "data": {
      "text/plain": [
       "102"
      ]
     },
     "execution_count": 8,
     "metadata": {
      "tags": []
     },
     "output_type": "execute_result"
    }
   ],
   "source": [
    "# Reduce 2\n",
    "\n",
    "from functools import reduce\n",
    "f = lambda a,b: a if (a > b) else b\n",
    "reduce(f, [47,11,42,102,13])"
   ]
  },
  {
   "cell_type": "code",
   "execution_count": 9,
   "metadata": {
    "colab": {
     "base_uri": "https://localhost:8080/",
     "height": 34
    },
    "colab_type": "code",
    "executionInfo": {
     "elapsed": 956,
     "status": "ok",
     "timestamp": 1591939995296,
     "user": {
      "displayName": "Kaushik B",
      "photoUrl": "https://lh3.googleusercontent.com/a-/AOh14Gj9b1zsclt5cgGjbVjcm4VuoI0pqcVpK-30JLst=s64",
      "userId": "07146570031648308753"
     },
     "user_tz": -330
    },
    "id": "ZrS2hzUH586B",
    "outputId": "7b66ae8b-50c0-4a85-c49e-34d317333c2f"
   },
   "outputs": [
    {
     "data": {
      "text/plain": [
       "5050"
      ]
     },
     "execution_count": 9,
     "metadata": {
      "tags": []
     },
     "output_type": "execute_result"
    }
   ],
   "source": [
    "# Reduce 3\n",
    "\n",
    "from functools import reduce\n",
    "reduce(lambda x, y: x+y, range(1,101))"
   ]
  }
 ],
 "metadata": {
  "colab": {
   "authorship_tag": "ABX9TyPnEMv/0Hril1mANWxZk4DC",
   "name": "C20032_BDS_Assignment_2_MapReduce.ipynb",
   "provenance": []
  },
  "kernelspec": {
   "display_name": "Python 3",
   "language": "python",
   "name": "python3"
  },
  "language_info": {
   "codemirror_mode": {
    "name": "ipython",
    "version": 3
   },
   "file_extension": ".py",
   "mimetype": "text/x-python",
   "name": "python",
   "nbconvert_exporter": "python",
   "pygments_lexer": "ipython3",
   "version": "3.7.4"
  }
 },
 "nbformat": 4,
 "nbformat_minor": 1
}
