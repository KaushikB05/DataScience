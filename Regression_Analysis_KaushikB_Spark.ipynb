{
 "cells": [
  {
   "cell_type": "markdown",
   "metadata": {
    "colab_type": "text",
    "id": "_LEg5lZB4uHU"
   },
   "source": [
    "## Regression_BigDataSpark"
   ]
  },
  {
   "cell_type": "code",
   "execution_count": 1,
   "metadata": {
    "colab": {
     "base_uri": "https://localhost:8080/",
     "height": 425
    },
    "colab_type": "code",
    "executionInfo": {
     "elapsed": 11755,
     "status": "ok",
     "timestamp": 1596896894566,
     "user": {
      "displayName": "Kaushik B",
      "photoUrl": "https://lh3.googleusercontent.com/a-/AOh14Gj9b1zsclt5cgGjbVjcm4VuoI0pqcVpK-30JLst=s64",
      "userId": "07146570031648308753"
     },
     "user_tz": -330
    },
    "id": "Q8x_2ZaU42n-",
    "outputId": "52f8642d-ed7f-4481-9834-27eb0c1dfd99"
   },
   "outputs": [
    {
     "name": "stdout",
     "output_type": "stream",
     "text": [
      "\r",
      "0% [Working]\r",
      "            \r",
      "Ign:1 https://developer.download.nvidia.com/compute/cuda/repos/ubuntu1804/x86_64  InRelease\n",
      "\r",
      "0% [Connecting to archive.ubuntu.com (91.189.88.142)] [Waiting for headers] [Co\r",
      "                                                                               \r",
      "Ign:2 https://developer.download.nvidia.com/compute/machine-learning/repos/ubuntu1804/x86_64  InRelease\n",
      "\r",
      "0% [Connecting to archive.ubuntu.com (91.189.88.142)] [Waiting for headers] [Co\r",
      "                                                                               \r",
      "Get:3 https://developer.download.nvidia.com/compute/cuda/repos/ubuntu1804/x86_64  Release [697 B]\n",
      "\r",
      "0% [Waiting for headers] [Waiting for headers] [Connecting to cloud.r-project.o\r",
      "0% [Waiting for headers] [Waiting for headers] [Connecting to cloud.r-project.o\r",
      "                                                                               \r",
      "Hit:4 https://developer.download.nvidia.com/compute/machine-learning/repos/ubuntu1804/x86_64  Release\n",
      "\r",
      "0% [Waiting for headers] [Waiting for headers] [Connecting to cloud.r-project.o\r",
      "                                                                               \r",
      "Get:5 http://security.ubuntu.com/ubuntu bionic-security InRelease [88.7 kB]\n",
      "\r",
      "                                                                               \r",
      "Hit:6 http://ppa.launchpad.net/graphics-drivers/ppa/ubuntu bionic InRelease\n",
      "\r",
      "0% [Waiting for headers] [5 InRelease 14.2 kB/88.7 kB 16%] [Connecting to cloud\r",
      "0% [Release.gpg gpgv 564 B] [Waiting for headers] [5 InRelease 14.2 kB/88.7 kB \r",
      "                                                                               \r",
      "Get:7 https://developer.download.nvidia.com/compute/cuda/repos/ubuntu1804/x86_64  Release.gpg [836 B]\n",
      "Hit:8 http://archive.ubuntu.com/ubuntu bionic InRelease\n",
      "Get:10 http://archive.ubuntu.com/ubuntu bionic-updates InRelease [88.7 kB]\n",
      "Get:11 http://ppa.launchpad.net/marutter/c2d4u3.5/ubuntu bionic InRelease [15.4 kB]\n",
      "Get:12 https://cloud.r-project.org/bin/linux/ubuntu bionic-cran35/ InRelease [3,626 B]\n",
      "Ign:13 https://developer.download.nvidia.com/compute/cuda/repos/ubuntu1804/x86_64  Packages\n",
      "Get:13 https://developer.download.nvidia.com/compute/cuda/repos/ubuntu1804/x86_64  Packages [255 kB]\n",
      "Get:14 http://archive.ubuntu.com/ubuntu bionic-backports InRelease [74.6 kB]\n",
      "Get:15 http://ppa.launchpad.net/marutter/c2d4u3.5/ubuntu bionic/main Sources [1,855 kB]\n",
      "Get:16 http://security.ubuntu.com/ubuntu bionic-security/universe amd64 Packages [882 kB]\n",
      "Get:17 http://archive.ubuntu.com/ubuntu bionic-updates/multiverse amd64 Packages [27.1 kB]\n",
      "Get:18 http://archive.ubuntu.com/ubuntu bionic-updates/restricted amd64 Packages [116 kB]\n",
      "Get:19 http://archive.ubuntu.com/ubuntu bionic-updates/universe amd64 Packages [1,413 kB]\n",
      "Get:20 http://security.ubuntu.com/ubuntu bionic-security/main amd64 Packages [1,037 kB]\n",
      "Get:21 http://archive.ubuntu.com/ubuntu bionic-updates/main amd64 Packages [1,334 kB]\n",
      "Get:22 http://ppa.launchpad.net/marutter/c2d4u3.5/ubuntu bionic/main amd64 Packages [895 kB]\n",
      "Fetched 8,087 kB in 6s (1,411 kB/s)\n",
      "Reading package lists... Done\n"
     ]
    }
   ],
   "source": [
    "!apt-get update"
   ]
  },
  {
   "cell_type": "code",
   "execution_count": 2,
   "metadata": {
    "colab": {},
    "colab_type": "code",
    "executionInfo": {
     "elapsed": 20452,
     "status": "ok",
     "timestamp": 1596896968164,
     "user": {
      "displayName": "Kaushik B",
      "photoUrl": "https://lh3.googleusercontent.com/a-/AOh14Gj9b1zsclt5cgGjbVjcm4VuoI0pqcVpK-30JLst=s64",
      "userId": "07146570031648308753"
     },
     "user_tz": -330
    },
    "id": "ad88uw3Q5Gxw"
   },
   "outputs": [],
   "source": [
    "!apt-get install openjdk-8-jdk-headless -qq > /dev/null"
   ]
  },
  {
   "cell_type": "code",
   "execution_count": 3,
   "metadata": {
    "colab": {},
    "colab_type": "code",
    "executionInfo": {
     "elapsed": 30511,
     "status": "ok",
     "timestamp": 1596897005066,
     "user": {
      "displayName": "Kaushik B",
      "photoUrl": "https://lh3.googleusercontent.com/a-/AOh14Gj9b1zsclt5cgGjbVjcm4VuoI0pqcVpK-30JLst=s64",
      "userId": "07146570031648308753"
     },
     "user_tz": -330
    },
    "id": "kwDBAMbL5KyM"
   },
   "outputs": [],
   "source": [
    "!wget -q http://apache.osuosl.org/spark/spark-2.4.6/spark-2.4.6-bin-hadoop2.7.tgz"
   ]
  },
  {
   "cell_type": "code",
   "execution_count": 4,
   "metadata": {
    "colab": {},
    "colab_type": "code",
    "executionInfo": {
     "elapsed": 11223,
     "status": "ok",
     "timestamp": 1596897043806,
     "user": {
      "displayName": "Kaushik B",
      "photoUrl": "https://lh3.googleusercontent.com/a-/AOh14Gj9b1zsclt5cgGjbVjcm4VuoI0pqcVpK-30JLst=s64",
      "userId": "07146570031648308753"
     },
     "user_tz": -330
    },
    "id": "f6M_x9ni5PTi"
   },
   "outputs": [],
   "source": [
    "!tar xf spark-2.4.6-bin-hadoop2.7.tgz\n",
    "!pip install -q findspark"
   ]
  },
  {
   "cell_type": "code",
   "execution_count": 5,
   "metadata": {
    "colab": {},
    "colab_type": "code",
    "executionInfo": {
     "elapsed": 1386,
     "status": "ok",
     "timestamp": 1596897050402,
     "user": {
      "displayName": "Kaushik B",
      "photoUrl": "https://lh3.googleusercontent.com/a-/AOh14Gj9b1zsclt5cgGjbVjcm4VuoI0pqcVpK-30JLst=s64",
      "userId": "07146570031648308753"
     },
     "user_tz": -330
    },
    "id": "iS6GvHWk5SDu"
   },
   "outputs": [],
   "source": [
    "import os\n",
    "os.environ[\"JAVA_HOME\"] = \"/usr/lib/jvm/java-8-openjdk-amd64\"\n",
    "os.environ[\"SPARK_HOME\"] = \"/content/spark-2.4.6-bin-hadoop2.7\""
   ]
  },
  {
   "cell_type": "code",
   "execution_count": 6,
   "metadata": {
    "colab": {},
    "colab_type": "code",
    "executionInfo": {
     "elapsed": 6420,
     "status": "ok",
     "timestamp": 1596897058951,
     "user": {
      "displayName": "Kaushik B",
      "photoUrl": "https://lh3.googleusercontent.com/a-/AOh14Gj9b1zsclt5cgGjbVjcm4VuoI0pqcVpK-30JLst=s64",
      "userId": "07146570031648308753"
     },
     "user_tz": -330
    },
    "id": "gW_cXBAd5VAv"
   },
   "outputs": [],
   "source": [
    "import findspark\n",
    "findspark.init()\n",
    "from pyspark.sql import SparkSession\n",
    "spark = SparkSession.builder.master(\"local[*]\").getOrCreate()"
   ]
  },
  {
   "cell_type": "code",
   "execution_count": 7,
   "metadata": {
    "colab": {},
    "colab_type": "code",
    "executionInfo": {
     "elapsed": 1574,
     "status": "ok",
     "timestamp": 1596897063199,
     "user": {
      "displayName": "Kaushik B",
      "photoUrl": "https://lh3.googleusercontent.com/a-/AOh14Gj9b1zsclt5cgGjbVjcm4VuoI0pqcVpK-30JLst=s64",
      "userId": "07146570031648308753"
     },
     "user_tz": -330
    },
    "id": "TMj-un475Xrm"
   },
   "outputs": [],
   "source": [
    "sc = spark.sparkContext"
   ]
  },
  {
   "cell_type": "code",
   "execution_count": 8,
   "metadata": {
    "colab": {},
    "colab_type": "code",
    "executionInfo": {
     "elapsed": 3802,
     "status": "ok",
     "timestamp": 1596897069295,
     "user": {
      "displayName": "Kaushik B",
      "photoUrl": "https://lh3.googleusercontent.com/a-/AOh14Gj9b1zsclt5cgGjbVjcm4VuoI0pqcVpK-30JLst=s64",
      "userId": "07146570031648308753"
     },
     "user_tz": -330
    },
    "id": "lTqVnl7c5Z9e"
   },
   "outputs": [],
   "source": [
    "import urllib.request\n",
    "f = urllib.request.urlretrieve(\"http://kdd.ics.uci.edu/databases/kddcup99/kddcup.data.gz\", \"kddcup.data.gz\")"
   ]
  },
  {
   "cell_type": "markdown",
   "metadata": {
    "colab_type": "text",
    "id": "3aKN25198ipg"
   },
   "source": [
    "# Logistic Regression "
   ]
  },
  {
   "cell_type": "code",
   "execution_count": 60,
   "metadata": {
    "colab": {
     "base_uri": "https://localhost:8080/",
     "height": 34
    },
    "colab_type": "code",
    "executionInfo": {
     "elapsed": 10557,
     "status": "ok",
     "timestamp": 1596906603538,
     "user": {
      "displayName": "Kaushik B",
      "photoUrl": "https://lh3.googleusercontent.com/a-/AOh14Gj9b1zsclt5cgGjbVjcm4VuoI0pqcVpK-30JLst=s64",
      "userId": "07146570031648308753"
     },
     "user_tz": -330
    },
    "id": "WHMZ-xOU578D",
    "outputId": "250cfb1f-333e-41c4-d1f8-d3d338111560"
   },
   "outputs": [
    {
     "name": "stdout",
     "output_type": "stream",
     "text": [
      "Train data size is 4898431\n"
     ]
    }
   ],
   "source": [
    "data_file = \"./kddcup.data.gz\"\n",
    "raw_data = sc.textFile(data_file)\n",
    "\n",
    "print(\"Train data size is \"+str(raw_data.count()))"
   ]
  },
  {
   "cell_type": "code",
   "execution_count": 10,
   "metadata": {
    "colab": {},
    "colab_type": "code",
    "executionInfo": {
     "elapsed": 2734,
     "status": "ok",
     "timestamp": 1596897091694,
     "user": {
      "displayName": "Kaushik B",
      "photoUrl": "https://lh3.googleusercontent.com/a-/AOh14Gj9b1zsclt5cgGjbVjcm4VuoI0pqcVpK-30JLst=s64",
      "userId": "07146570031648308753"
     },
     "user_tz": -330
    },
    "id": "DpKTXrK28TLO"
   },
   "outputs": [],
   "source": [
    "ft = urllib.request.urlretrieve(\"http://kdd.ics.uci.edu/databases/kddcup99/corrected.gz\", \"corrected.gz\")"
   ]
  },
  {
   "cell_type": "code",
   "execution_count": 11,
   "metadata": {
    "colab": {
     "base_uri": "https://localhost:8080/",
     "height": 34
    },
    "colab_type": "code",
    "executionInfo": {
     "elapsed": 2323,
     "status": "ok",
     "timestamp": 1596897099378,
     "user": {
      "displayName": "Kaushik B",
      "photoUrl": "https://lh3.googleusercontent.com/a-/AOh14Gj9b1zsclt5cgGjbVjcm4VuoI0pqcVpK-30JLst=s64",
      "userId": "07146570031648308753"
     },
     "user_tz": -330
    },
    "id": "xBthgcPD8xyh",
    "outputId": "99858902-6e6d-4797-8d06-aef1800eb3fc"
   },
   "outputs": [
    {
     "name": "stdout",
     "output_type": "stream",
     "text": [
      "Test data size is 311029\n"
     ]
    }
   ],
   "source": [
    "test_data_file = \"./corrected.gz\"\n",
    "test_raw_data = sc.textFile(test_data_file)\n",
    "\n",
    "print(\"Test data size is \"+str(test_raw_data.count()))"
   ]
  },
  {
   "cell_type": "code",
   "execution_count": 13,
   "metadata": {
    "colab": {},
    "colab_type": "code",
    "executionInfo": {
     "elapsed": 1502,
     "status": "ok",
     "timestamp": 1596897121135,
     "user": {
      "displayName": "Kaushik B",
      "photoUrl": "https://lh3.googleusercontent.com/a-/AOh14Gj9b1zsclt5cgGjbVjcm4VuoI0pqcVpK-30JLst=s64",
      "userId": "07146570031648308753"
     },
     "user_tz": -330
    },
    "id": "72jG3y7w88Fq"
   },
   "outputs": [],
   "source": [
    "from pyspark.mllib.regression import LabeledPoint\n",
    "from numpy import array\n",
    "\n",
    "def parse_interaction(line):\n",
    "    line_split = line.split(\",\")\n",
    "    clean_line_split = line_split[0:1]+line_split[4:41]\n",
    "    attack = 1.0\n",
    "    if line_split[41]=='normal.':\n",
    "        attack = 0.0\n",
    "    return LabeledPoint(attack, array([float(x) for x in clean_line_split]))\n",
    "\n",
    "training_data = raw_data.map(parse_interaction)"
   ]
  },
  {
   "cell_type": "code",
   "execution_count": 14,
   "metadata": {
    "colab": {},
    "colab_type": "code",
    "executionInfo": {
     "elapsed": 1665,
     "status": "ok",
     "timestamp": 1596897124333,
     "user": {
      "displayName": "Kaushik B",
      "photoUrl": "https://lh3.googleusercontent.com/a-/AOh14Gj9b1zsclt5cgGjbVjcm4VuoI0pqcVpK-30JLst=s64",
      "userId": "07146570031648308753"
     },
     "user_tz": -330
    },
    "id": "ss0T7B0A9DYS"
   },
   "outputs": [],
   "source": [
    "test_data = test_raw_data.map(parse_interaction)"
   ]
  },
  {
   "cell_type": "code",
   "execution_count": 15,
   "metadata": {
    "colab": {
     "base_uri": "https://localhost:8080/",
     "height": 34
    },
    "colab_type": "code",
    "executionInfo": {
     "elapsed": 1629836,
     "status": "ok",
     "timestamp": 1596898757533,
     "user": {
      "displayName": "Kaushik B",
      "photoUrl": "https://lh3.googleusercontent.com/a-/AOh14Gj9b1zsclt5cgGjbVjcm4VuoI0pqcVpK-30JLst=s64",
      "userId": "07146570031648308753"
     },
     "user_tz": -330
    },
    "id": "QE_u2tHc9JJR",
    "outputId": "b24061d4-bf83-45ba-b498-5c4edb7e8e6c"
   },
   "outputs": [
    {
     "name": "stdout",
     "output_type": "stream",
     "text": [
      "Classifier trained in 1628.327 seconds\n"
     ]
    }
   ],
   "source": [
    "from pyspark.mllib.classification import LogisticRegressionWithLBFGS\n",
    "from time import time\n",
    "\n",
    "t0 = time()\n",
    "logit_model = LogisticRegressionWithLBFGS.train(training_data)\n",
    "tt = time() - t0\n",
    "\n",
    "print(\"Classifier trained in \" + str(round(tt,3)) + \" seconds\")"
   ]
  },
  {
   "cell_type": "code",
   "execution_count": 16,
   "metadata": {
    "colab": {},
    "colab_type": "code",
    "executionInfo": {
     "elapsed": 1757,
     "status": "ok",
     "timestamp": 1596899330472,
     "user": {
      "displayName": "Kaushik B",
      "photoUrl": "https://lh3.googleusercontent.com/a-/AOh14Gj9b1zsclt5cgGjbVjcm4VuoI0pqcVpK-30JLst=s64",
      "userId": "07146570031648308753"
     },
     "user_tz": -330
    },
    "id": "_LdEnyhi9bQL"
   },
   "outputs": [],
   "source": [
    "labels_and_preds = test_data.map(lambda p: (p.label, logit_model.predict(p.features)))"
   ]
  },
  {
   "cell_type": "code",
   "execution_count": 17,
   "metadata": {
    "colab": {
     "base_uri": "https://localhost:8080/",
     "height": 34
    },
    "colab_type": "code",
    "executionInfo": {
     "elapsed": 13259,
     "status": "ok",
     "timestamp": 1596899346241,
     "user": {
      "displayName": "Kaushik B",
      "photoUrl": "https://lh3.googleusercontent.com/a-/AOh14Gj9b1zsclt5cgGjbVjcm4VuoI0pqcVpK-30JLst=s64",
      "userId": "07146570031648308753"
     },
     "user_tz": -330
    },
    "id": "fG-DfmS7_D9g",
    "outputId": "5b950324-bd59-4f10-c4e2-866e75e38a07"
   },
   "outputs": [
    {
     "name": "stdout",
     "output_type": "stream",
     "text": [
      "Prediction made in 11.833 seconds. Test accuracy is 0.8626\n"
     ]
    }
   ],
   "source": [
    "t0 = time()\n",
    "test_accuracy = labels_and_preds.filter(lambda v: v[0] == v[1]).count() / float(test_data.count())\n",
    "tt = time() - t0\n",
    "\n",
    "print(\"Prediction made in \" + str(round(tt,3)) + \" seconds. Test accuracy is \" + str(round(test_accuracy,4)))"
   ]
  },
  {
   "cell_type": "code",
   "execution_count": 18,
   "metadata": {
    "colab": {},
    "colab_type": "code",
    "executionInfo": {
     "elapsed": 1598,
     "status": "ok",
     "timestamp": 1596899351638,
     "user": {
      "displayName": "Kaushik B",
      "photoUrl": "https://lh3.googleusercontent.com/a-/AOh14Gj9b1zsclt5cgGjbVjcm4VuoI0pqcVpK-30JLst=s64",
      "userId": "07146570031648308753"
     },
     "user_tz": -330
    },
    "id": "2SWPOiyK_tHv"
   },
   "outputs": [],
   "source": [
    "def parse_interaction_corr(line):\n",
    "    line_split = line.split(\",\")\n",
    "    clean_line_split = line_split[0:1]+line_split[4:25]+line_split[26:27]+line_split[28:35]+line_split[36:38]+line_split[39:40]\n",
    "    attack = 1.0\n",
    "    if line_split[41]=='normal.':\n",
    "        attack = 0.0\n",
    "    return LabeledPoint(attack, array([float(x) for x in clean_line_split]))\n",
    "\n",
    "corr_reduced_training_data = raw_data.map(parse_interaction_corr)\n",
    "corr_reduced_test_data = test_raw_data.map(parse_interaction_corr)"
   ]
  },
  {
   "cell_type": "code",
   "execution_count": 19,
   "metadata": {
    "colab": {
     "base_uri": "https://localhost:8080/",
     "height": 34
    },
    "colab_type": "code",
    "executionInfo": {
     "elapsed": 1594001,
     "status": "ok",
     "timestamp": 1596900954352,
     "user": {
      "displayName": "Kaushik B",
      "photoUrl": "https://lh3.googleusercontent.com/a-/AOh14Gj9b1zsclt5cgGjbVjcm4VuoI0pqcVpK-30JLst=s64",
      "userId": "07146570031648308753"
     },
     "user_tz": -330
    },
    "id": "7KQ60Me4_xII",
    "outputId": "f7239851-14b1-4d31-f7af-0dffb8382fa8"
   },
   "outputs": [
    {
     "name": "stdout",
     "output_type": "stream",
     "text": [
      "Classifier trained in 1592.237 seconds\n"
     ]
    }
   ],
   "source": [
    "t0 = time()\n",
    "logit_model_2 = LogisticRegressionWithLBFGS.train(corr_reduced_training_data)\n",
    "tt = time() - t0\n",
    "\n",
    "print(\"Classifier trained in \" + str(round(tt,3)) + \" seconds\")"
   ]
  },
  {
   "cell_type": "code",
   "execution_count": 20,
   "metadata": {
    "colab": {
     "base_uri": "https://localhost:8080/",
     "height": 34
    },
    "colab_type": "code",
    "executionInfo": {
     "elapsed": 13018,
     "status": "ok",
     "timestamp": 1596901007434,
     "user": {
      "displayName": "Kaushik B",
      "photoUrl": "https://lh3.googleusercontent.com/a-/AOh14Gj9b1zsclt5cgGjbVjcm4VuoI0pqcVpK-30JLst=s64",
      "userId": "07146570031648308753"
     },
     "user_tz": -330
    },
    "id": "8mPDj_kQAFcY",
    "outputId": "936cbfbc-75b4-40bd-bd2d-5688a725e8ab"
   },
   "outputs": [
    {
     "name": "stdout",
     "output_type": "stream",
     "text": [
      "Prediction made in 11.454 seconds. Test accuracy is 0.8134\n"
     ]
    }
   ],
   "source": [
    "labels_and_preds = corr_reduced_test_data.map(lambda p: (p.label, logit_model_2.predict(p.features)))\n",
    "t0 = time()\n",
    "test_accuracy = labels_and_preds.filter(lambda v: v[0] == v[1]).count() / float(corr_reduced_test_data.count())\n",
    "tt = time() - t0\n",
    "\n",
    "print(\"Prediction made in \" + str(round(tt,3)) + \" seconds. Test accuracy is \" + str(round(test_accuracy,4)))"
   ]
  },
  {
   "cell_type": "code",
   "execution_count": 21,
   "metadata": {
    "colab": {},
    "colab_type": "code",
    "executionInfo": {
     "elapsed": 1618,
     "status": "ok",
     "timestamp": 1596901046146,
     "user": {
      "displayName": "Kaushik B",
      "photoUrl": "https://lh3.googleusercontent.com/a-/AOh14Gj9b1zsclt5cgGjbVjcm4VuoI0pqcVpK-30JLst=s64",
      "userId": "07146570031648308753"
     },
     "user_tz": -330
    },
    "id": "aZEAi5RTAalN"
   },
   "outputs": [],
   "source": [
    "feature_names = [\"land\",\"wrong_fragment\",\n",
    "             \"urgent\",\"hot\",\"num_failed_logins\",\"logged_in\",\"num_compromised\",\n",
    "             \"root_shell\",\"su_attempted\",\"num_root\",\"num_file_creations\",\n",
    "             \"num_shells\",\"num_access_files\",\"num_outbound_cmds\",\n",
    "             \"is_hot_login\",\"is_guest_login\",\"count\",\"srv_count\",\"serror_rate\",\n",
    "             \"srv_serror_rate\",\"rerror_rate\",\"srv_rerror_rate\",\"same_srv_rate\",\n",
    "             \"diff_srv_rate\",\"srv_diff_host_rate\",\"dst_host_count\",\"dst_host_srv_count\",\n",
    "             \"dst_host_same_srv_rate\",\"dst_host_diff_srv_rate\",\"dst_host_same_src_port_rate\",\n",
    "             \"dst_host_srv_diff_host_rate\",\"dst_host_serror_rate\",\"dst_host_srv_serror_rate\",\n",
    "             \"dst_host_rerror_rate\",\"dst_host_srv_rerror_rate\"]"
   ]
  },
  {
   "cell_type": "code",
   "execution_count": 22,
   "metadata": {
    "colab": {},
    "colab_type": "code",
    "executionInfo": {
     "elapsed": 1992,
     "status": "ok",
     "timestamp": 1596901070208,
     "user": {
      "displayName": "Kaushik B",
      "photoUrl": "https://lh3.googleusercontent.com/a-/AOh14Gj9b1zsclt5cgGjbVjcm4VuoI0pqcVpK-30JLst=s64",
      "userId": "07146570031648308753"
     },
     "user_tz": -330
    },
    "id": "2-cI70NZAfeC"
   },
   "outputs": [],
   "source": [
    "def parse_interaction_categorical(line):\n",
    "    line_split = line.split(\",\")\n",
    "    clean_line_split = line_split[6:41]\n",
    "    attack = 1.0\n",
    "    if line_split[41]=='normal.':\n",
    "        attack = 0.0\n",
    "    return LabeledPoint(attack, array([float(x) for x in clean_line_split]))\n",
    "\n",
    "training_data_categorical = raw_data.map(parse_interaction_categorical)"
   ]
  },
  {
   "cell_type": "code",
   "execution_count": 23,
   "metadata": {
    "colab": {},
    "colab_type": "code",
    "executionInfo": {
     "elapsed": 131981,
     "status": "ok",
     "timestamp": 1596901204898,
     "user": {
      "displayName": "Kaushik B",
      "photoUrl": "https://lh3.googleusercontent.com/a-/AOh14Gj9b1zsclt5cgGjbVjcm4VuoI0pqcVpK-30JLst=s64",
      "userId": "07146570031648308753"
     },
     "user_tz": -330
    },
    "id": "J_haseieAmye"
   },
   "outputs": [],
   "source": [
    "from pyspark.mllib.stat import Statistics\n",
    "\n",
    "chi = Statistics.chiSqTest(training_data_categorical)"
   ]
  },
  {
   "cell_type": "code",
   "execution_count": 24,
   "metadata": {
    "colab": {
     "base_uri": "https://localhost:8080/",
     "height": 1000
    },
    "colab_type": "code",
    "executionInfo": {
     "elapsed": 1491,
     "status": "ok",
     "timestamp": 1596901226000,
     "user": {
      "displayName": "Kaushik B",
      "photoUrl": "https://lh3.googleusercontent.com/a-/AOh14Gj9b1zsclt5cgGjbVjcm4VuoI0pqcVpK-30JLst=s64",
      "userId": "07146570031648308753"
     },
     "user_tz": -330
    },
    "id": "cIbTAmBTAvN6",
    "outputId": "be8c8fad-ae50-431d-bc43-e9815d9a0b9e"
   },
   "outputs": [
    {
     "data": {
      "text/html": [
       "<div>\n",
       "<style scoped>\n",
       "    .dataframe tbody tr th:only-of-type {\n",
       "        vertical-align: middle;\n",
       "    }\n",
       "\n",
       "    .dataframe tbody tr th {\n",
       "        vertical-align: top;\n",
       "    }\n",
       "\n",
       "    .dataframe thead th {\n",
       "        text-align: right;\n",
       "    }\n",
       "</style>\n",
       "<table border=\"1\" class=\"dataframe\">\n",
       "  <thead>\n",
       "    <tr style=\"text-align: right;\">\n",
       "      <th></th>\n",
       "      <th>Statistic</th>\n",
       "      <th>p-value</th>\n",
       "    </tr>\n",
       "  </thead>\n",
       "  <tbody>\n",
       "    <tr>\n",
       "      <th>land</th>\n",
       "      <td>4.649835e-01</td>\n",
       "      <td>4.953041e-01</td>\n",
       "    </tr>\n",
       "    <tr>\n",
       "      <th>wrong_fragment</th>\n",
       "      <td>3.068555e+02</td>\n",
       "      <td>0.000000e+00</td>\n",
       "    </tr>\n",
       "    <tr>\n",
       "      <th>urgent</th>\n",
       "      <td>3.871844e+01</td>\n",
       "      <td>2.705761e-07</td>\n",
       "    </tr>\n",
       "    <tr>\n",
       "      <th>hot</th>\n",
       "      <td>1.946331e+04</td>\n",
       "      <td>0.000000e+00</td>\n",
       "    </tr>\n",
       "    <tr>\n",
       "      <th>num_failed_logins</th>\n",
       "      <td>1.277691e+02</td>\n",
       "      <td>0.000000e+00</td>\n",
       "    </tr>\n",
       "    <tr>\n",
       "      <th>logged_in</th>\n",
       "      <td>3.273098e+06</td>\n",
       "      <td>0.000000e+00</td>\n",
       "    </tr>\n",
       "    <tr>\n",
       "      <th>num_compromised</th>\n",
       "      <td>2.011863e+03</td>\n",
       "      <td>0.000000e+00</td>\n",
       "    </tr>\n",
       "    <tr>\n",
       "      <th>root_shell</th>\n",
       "      <td>1.044918e+03</td>\n",
       "      <td>0.000000e+00</td>\n",
       "    </tr>\n",
       "    <tr>\n",
       "      <th>su_attempted</th>\n",
       "      <td>4.340000e+02</td>\n",
       "      <td>0.000000e+00</td>\n",
       "    </tr>\n",
       "    <tr>\n",
       "      <th>num_root</th>\n",
       "      <td>2.287168e+04</td>\n",
       "      <td>0.000000e+00</td>\n",
       "    </tr>\n",
       "    <tr>\n",
       "      <th>num_file_creations</th>\n",
       "      <td>9.179739e+03</td>\n",
       "      <td>0.000000e+00</td>\n",
       "    </tr>\n",
       "    <tr>\n",
       "      <th>num_shells</th>\n",
       "      <td>1.380028e+03</td>\n",
       "      <td>0.000000e+00</td>\n",
       "    </tr>\n",
       "    <tr>\n",
       "      <th>num_access_files</th>\n",
       "      <td>1.873477e+04</td>\n",
       "      <td>0.000000e+00</td>\n",
       "    </tr>\n",
       "    <tr>\n",
       "      <th>num_outbound_cmds</th>\n",
       "      <td>0.000000e+00</td>\n",
       "      <td>1.000000e+00</td>\n",
       "    </tr>\n",
       "    <tr>\n",
       "      <th>is_hot_login</th>\n",
       "      <td>8.070987e+00</td>\n",
       "      <td>4.497960e-03</td>\n",
       "    </tr>\n",
       "    <tr>\n",
       "      <th>is_guest_login</th>\n",
       "      <td>1.350051e+04</td>\n",
       "      <td>0.000000e+00</td>\n",
       "    </tr>\n",
       "    <tr>\n",
       "      <th>count</th>\n",
       "      <td>4.546398e+06</td>\n",
       "      <td>0.000000e+00</td>\n",
       "    </tr>\n",
       "    <tr>\n",
       "      <th>srv_count</th>\n",
       "      <td>2.296060e+06</td>\n",
       "      <td>0.000000e+00</td>\n",
       "    </tr>\n",
       "    <tr>\n",
       "      <th>serror_rate</th>\n",
       "      <td>2.684199e+05</td>\n",
       "      <td>0.000000e+00</td>\n",
       "    </tr>\n",
       "    <tr>\n",
       "      <th>srv_serror_rate</th>\n",
       "      <td>3.026270e+05</td>\n",
       "      <td>0.000000e+00</td>\n",
       "    </tr>\n",
       "    <tr>\n",
       "      <th>rerror_rate</th>\n",
       "      <td>9.860453e+03</td>\n",
       "      <td>0.000000e+00</td>\n",
       "    </tr>\n",
       "    <tr>\n",
       "      <th>srv_rerror_rate</th>\n",
       "      <td>3.247639e+04</td>\n",
       "      <td>0.000000e+00</td>\n",
       "    </tr>\n",
       "    <tr>\n",
       "      <th>same_srv_rate</th>\n",
       "      <td>3.999124e+05</td>\n",
       "      <td>0.000000e+00</td>\n",
       "    </tr>\n",
       "    <tr>\n",
       "      <th>diff_srv_rate</th>\n",
       "      <td>3.909998e+05</td>\n",
       "      <td>0.000000e+00</td>\n",
       "    </tr>\n",
       "    <tr>\n",
       "      <th>srv_diff_host_rate</th>\n",
       "      <td>1.365459e+06</td>\n",
       "      <td>0.000000e+00</td>\n",
       "    </tr>\n",
       "    <tr>\n",
       "      <th>dst_host_count</th>\n",
       "      <td>2.520479e+06</td>\n",
       "      <td>0.000000e+00</td>\n",
       "    </tr>\n",
       "    <tr>\n",
       "      <th>dst_host_srv_count</th>\n",
       "      <td>1.439086e+06</td>\n",
       "      <td>0.000000e+00</td>\n",
       "    </tr>\n",
       "    <tr>\n",
       "      <th>dst_host_same_srv_rate</th>\n",
       "      <td>1.237932e+06</td>\n",
       "      <td>0.000000e+00</td>\n",
       "    </tr>\n",
       "    <tr>\n",
       "      <th>dst_host_diff_srv_rate</th>\n",
       "      <td>1.339002e+06</td>\n",
       "      <td>0.000000e+00</td>\n",
       "    </tr>\n",
       "    <tr>\n",
       "      <th>dst_host_same_src_port_rate</th>\n",
       "      <td>2.915195e+06</td>\n",
       "      <td>0.000000e+00</td>\n",
       "    </tr>\n",
       "    <tr>\n",
       "      <th>dst_host_srv_diff_host_rate</th>\n",
       "      <td>2.226291e+06</td>\n",
       "      <td>0.000000e+00</td>\n",
       "    </tr>\n",
       "    <tr>\n",
       "      <th>dst_host_serror_rate</th>\n",
       "      <td>4.074546e+05</td>\n",
       "      <td>0.000000e+00</td>\n",
       "    </tr>\n",
       "    <tr>\n",
       "      <th>dst_host_srv_serror_rate</th>\n",
       "      <td>4.550990e+05</td>\n",
       "      <td>0.000000e+00</td>\n",
       "    </tr>\n",
       "    <tr>\n",
       "      <th>dst_host_rerror_rate</th>\n",
       "      <td>1.364790e+05</td>\n",
       "      <td>0.000000e+00</td>\n",
       "    </tr>\n",
       "    <tr>\n",
       "      <th>dst_host_srv_rerror_rate</th>\n",
       "      <td>2.545474e+05</td>\n",
       "      <td>0.000000e+00</td>\n",
       "    </tr>\n",
       "  </tbody>\n",
       "</table>\n",
       "</div>"
      ],
      "text/plain": [
       "                                Statistic       p-value\n",
       "land                         4.649835e-01  4.953041e-01\n",
       "wrong_fragment               3.068555e+02  0.000000e+00\n",
       "urgent                       3.871844e+01  2.705761e-07\n",
       "hot                          1.946331e+04  0.000000e+00\n",
       "num_failed_logins            1.277691e+02  0.000000e+00\n",
       "logged_in                    3.273098e+06  0.000000e+00\n",
       "num_compromised              2.011863e+03  0.000000e+00\n",
       "root_shell                   1.044918e+03  0.000000e+00\n",
       "su_attempted                 4.340000e+02  0.000000e+00\n",
       "num_root                     2.287168e+04  0.000000e+00\n",
       "num_file_creations           9.179739e+03  0.000000e+00\n",
       "num_shells                   1.380028e+03  0.000000e+00\n",
       "num_access_files             1.873477e+04  0.000000e+00\n",
       "num_outbound_cmds            0.000000e+00  1.000000e+00\n",
       "is_hot_login                 8.070987e+00  4.497960e-03\n",
       "is_guest_login               1.350051e+04  0.000000e+00\n",
       "count                        4.546398e+06  0.000000e+00\n",
       "srv_count                    2.296060e+06  0.000000e+00\n",
       "serror_rate                  2.684199e+05  0.000000e+00\n",
       "srv_serror_rate              3.026270e+05  0.000000e+00\n",
       "rerror_rate                  9.860453e+03  0.000000e+00\n",
       "srv_rerror_rate              3.247639e+04  0.000000e+00\n",
       "same_srv_rate                3.999124e+05  0.000000e+00\n",
       "diff_srv_rate                3.909998e+05  0.000000e+00\n",
       "srv_diff_host_rate           1.365459e+06  0.000000e+00\n",
       "dst_host_count               2.520479e+06  0.000000e+00\n",
       "dst_host_srv_count           1.439086e+06  0.000000e+00\n",
       "dst_host_same_srv_rate       1.237932e+06  0.000000e+00\n",
       "dst_host_diff_srv_rate       1.339002e+06  0.000000e+00\n",
       "dst_host_same_src_port_rate  2.915195e+06  0.000000e+00\n",
       "dst_host_srv_diff_host_rate  2.226291e+06  0.000000e+00\n",
       "dst_host_serror_rate         4.074546e+05  0.000000e+00\n",
       "dst_host_srv_serror_rate     4.550990e+05  0.000000e+00\n",
       "dst_host_rerror_rate         1.364790e+05  0.000000e+00\n",
       "dst_host_srv_rerror_rate     2.545474e+05  0.000000e+00"
      ]
     },
     "execution_count": 24,
     "metadata": {
      "tags": []
     },
     "output_type": "execute_result"
    }
   ],
   "source": [
    "import pandas as pd\n",
    "pd.set_option('display.max_colwidth', 30)\n",
    "\n",
    "records = [(result.statistic, result.pValue) for result in chi]\n",
    "\n",
    "chi_df = pd.DataFrame(data=records, index= feature_names, columns=[\"Statistic\",\"p-value\"])\n",
    "\n",
    "chi_df"
   ]
  },
  {
   "cell_type": "code",
   "execution_count": 25,
   "metadata": {
    "colab": {},
    "colab_type": "code",
    "executionInfo": {
     "elapsed": 1478,
     "status": "ok",
     "timestamp": 1596901233030,
     "user": {
      "displayName": "Kaushik B",
      "photoUrl": "https://lh3.googleusercontent.com/a-/AOh14Gj9b1zsclt5cgGjbVjcm4VuoI0pqcVpK-30JLst=s64",
      "userId": "07146570031648308753"
     },
     "user_tz": -330
    },
    "id": "ZM3JdA3-A0OE"
   },
   "outputs": [],
   "source": [
    "def parse_interaction_chi(line):\n",
    "    line_split = line.split(\",\")\n",
    "    clean_line_split = line_split[0:1] + line_split[4:6] + line_split[7:19] + line_split[20:41]\n",
    "    attack = 1.0\n",
    "    if line_split[41]=='normal.':\n",
    "        attack = 0.0\n",
    "    return LabeledPoint(attack, array([float(x) for x in clean_line_split]))\n",
    "\n",
    "training_data_chi = raw_data.map(parse_interaction_chi)\n",
    "test_data_chi = test_raw_data.map(parse_interaction_chi)"
   ]
  },
  {
   "cell_type": "code",
   "execution_count": 26,
   "metadata": {
    "colab": {
     "base_uri": "https://localhost:8080/",
     "height": 34
    },
    "colab_type": "code",
    "executionInfo": {
     "elapsed": 1592342,
     "status": "ok",
     "timestamp": 1596902829214,
     "user": {
      "displayName": "Kaushik B",
      "photoUrl": "https://lh3.googleusercontent.com/a-/AOh14Gj9b1zsclt5cgGjbVjcm4VuoI0pqcVpK-30JLst=s64",
      "userId": "07146570031648308753"
     },
     "user_tz": -330
    },
    "id": "LXogZlnlA-EO",
    "outputId": "5a3f6af0-a2b6-41ad-a1dc-6f15a62b7cf5"
   },
   "outputs": [
    {
     "name": "stdout",
     "output_type": "stream",
     "text": [
      "Classifier trained in 1590.943 seconds\n"
     ]
    }
   ],
   "source": [
    "t0 = time()\n",
    "logit_model_chi = LogisticRegressionWithLBFGS.train(training_data_chi)\n",
    "tt = time() - t0\n",
    "\n",
    "print(\"Classifier trained in \" + str(round(tt,3)) + \" seconds\")"
   ]
  },
  {
   "cell_type": "code",
   "execution_count": 28,
   "metadata": {
    "colab": {
     "base_uri": "https://localhost:8080/",
     "height": 34
    },
    "colab_type": "code",
    "executionInfo": {
     "elapsed": 12931,
     "status": "ok",
     "timestamp": 1596903308264,
     "user": {
      "displayName": "Kaushik B",
      "photoUrl": "https://lh3.googleusercontent.com/a-/AOh14Gj9b1zsclt5cgGjbVjcm4VuoI0pqcVpK-30JLst=s64",
      "userId": "07146570031648308753"
     },
     "user_tz": -330
    },
    "id": "QtFOwDqcBJo-",
    "outputId": "24ec9e40-35cd-40e7-cd5c-4d81e1e6129a"
   },
   "outputs": [
    {
     "name": "stdout",
     "output_type": "stream",
     "text": [
      "Prediction made in 11.272 seconds. Test accuracy is 1.0\n"
     ]
    }
   ],
   "source": [
    "labels_and_preds = test_data_chi.map(lambda p: (p.label, logit_model_chi.predict(p.features)))\n",
    "t0 = time()\n",
    "test_accuracy = labels_and_preds.filter(lambda v: v[0] == v[0]).count() / float(test_data_chi.count())\n",
    "tt = time() - t0\n",
    "\n",
    "print(\"Prediction made in \" + str(round(tt,3)) + \" seconds. Test accuracy is \" + str(round(test_accuracy,4)))"
   ]
  },
  {
   "cell_type": "markdown",
   "metadata": {
    "colab_type": "text",
    "id": "HOr3HoViBfa-"
   },
   "source": [
    "# Linear Regression "
   ]
  },
  {
   "cell_type": "code",
   "execution_count": 32,
   "metadata": {
    "colab": {},
    "colab_type": "code",
    "executionInfo": {
     "elapsed": 1677,
     "status": "ok",
     "timestamp": 1596903493834,
     "user": {
      "displayName": "Kaushik B",
      "photoUrl": "https://lh3.googleusercontent.com/a-/AOh14Gj9b1zsclt5cgGjbVjcm4VuoI0pqcVpK-30JLst=s64",
      "userId": "07146570031648308753"
     },
     "user_tz": -330
    },
    "id": "oAoGjPkrBjSC"
   },
   "outputs": [],
   "source": [
    "rdd = sc.textFile('/content/cal_housing.data')"
   ]
  },
  {
   "cell_type": "code",
   "execution_count": 33,
   "metadata": {
    "colab": {},
    "colab_type": "code",
    "executionInfo": {
     "elapsed": 1719,
     "status": "ok",
     "timestamp": 1596903497352,
     "user": {
      "displayName": "Kaushik B",
      "photoUrl": "https://lh3.googleusercontent.com/a-/AOh14Gj9b1zsclt5cgGjbVjcm4VuoI0pqcVpK-30JLst=s64",
      "userId": "07146570031648308753"
     },
     "user_tz": -330
    },
    "id": "5qSswEkUrbvX"
   },
   "outputs": [],
   "source": [
    "header = sc.textFile('/content/cal_housing.domain')"
   ]
  },
  {
   "cell_type": "code",
   "execution_count": 34,
   "metadata": {
    "colab": {
     "base_uri": "https://localhost:8080/",
     "height": 170
    },
    "colab_type": "code",
    "executionInfo": {
     "elapsed": 1743,
     "status": "ok",
     "timestamp": 1596903500876,
     "user": {
      "displayName": "Kaushik B",
      "photoUrl": "https://lh3.googleusercontent.com/a-/AOh14Gj9b1zsclt5cgGjbVjcm4VuoI0pqcVpK-30JLst=s64",
      "userId": "07146570031648308753"
     },
     "user_tz": -330
    },
    "id": "k0BZjdNSm9BS",
    "outputId": "45b492cf-1dd7-4c3f-8156-4cea06b84fee"
   },
   "outputs": [
    {
     "data": {
      "text/plain": [
       "['longitude: continuous.',\n",
       " 'latitude: continuous.',\n",
       " 'housingMedianAge: continuous. ',\n",
       " 'totalRooms: continuous. ',\n",
       " 'totalBedrooms: continuous. ',\n",
       " 'population: continuous. ',\n",
       " 'households: continuous. ',\n",
       " 'medianIncome: continuous. ',\n",
       " 'medianHouseValue: continuous. ']"
      ]
     },
     "execution_count": 34,
     "metadata": {
      "tags": []
     },
     "output_type": "execute_result"
    }
   ],
   "source": [
    "header.collect()"
   ]
  },
  {
   "cell_type": "code",
   "execution_count": 35,
   "metadata": {
    "colab": {
     "base_uri": "https://localhost:8080/",
     "height": 51
    },
    "colab_type": "code",
    "executionInfo": {
     "elapsed": 1514,
     "status": "ok",
     "timestamp": 1596903509833,
     "user": {
      "displayName": "Kaushik B",
      "photoUrl": "https://lh3.googleusercontent.com/a-/AOh14Gj9b1zsclt5cgGjbVjcm4VuoI0pqcVpK-30JLst=s64",
      "userId": "07146570031648308753"
     },
     "user_tz": -330
    },
    "id": "4ONy73cNt6WF",
    "outputId": "beb29fd7-09fc-47a1-bedd-3e367bb534d8"
   },
   "outputs": [
    {
     "data": {
      "text/plain": [
       "['-122.230000,37.880000,41.000000,880.000000,129.000000,322.000000,126.000000,8.325200,452600.000000',\n",
       " '-122.220000,37.860000,21.000000,7099.000000,1106.000000,2401.000000,1138.000000,8.301400,358500.000000']"
      ]
     },
     "execution_count": 35,
     "metadata": {
      "tags": []
     },
     "output_type": "execute_result"
    }
   ],
   "source": [
    "rdd.take(2)"
   ]
  },
  {
   "cell_type": "code",
   "execution_count": 36,
   "metadata": {
    "colab": {},
    "colab_type": "code",
    "executionInfo": {
     "elapsed": 2373,
     "status": "ok",
     "timestamp": 1596903514965,
     "user": {
      "displayName": "Kaushik B",
      "photoUrl": "https://lh3.googleusercontent.com/a-/AOh14Gj9b1zsclt5cgGjbVjcm4VuoI0pqcVpK-30JLst=s64",
      "userId": "07146570031648308753"
     },
     "user_tz": -330
    },
    "id": "KFt0YZ0euF4a"
   },
   "outputs": [],
   "source": [
    "rdd = rdd.map(lambda line: line.split(\",\"))"
   ]
  },
  {
   "cell_type": "code",
   "execution_count": 37,
   "metadata": {
    "colab": {
     "base_uri": "https://localhost:8080/",
     "height": 323
    },
    "colab_type": "code",
    "executionInfo": {
     "elapsed": 2447,
     "status": "ok",
     "timestamp": 1596903519128,
     "user": {
      "displayName": "Kaushik B",
      "photoUrl": "https://lh3.googleusercontent.com/a-/AOh14Gj9b1zsclt5cgGjbVjcm4VuoI0pqcVpK-30JLst=s64",
      "userId": "07146570031648308753"
     },
     "user_tz": -330
    },
    "id": "KBnJB3zdtbEH",
    "outputId": "26e2108c-fe03-4cbf-d881-3fa4ac70c62e"
   },
   "outputs": [
    {
     "data": {
      "text/plain": [
       "[['-122.230000',\n",
       "  '37.880000',\n",
       "  '41.000000',\n",
       "  '880.000000',\n",
       "  '129.000000',\n",
       "  '322.000000',\n",
       "  '126.000000',\n",
       "  '8.325200',\n",
       "  '452600.000000'],\n",
       " ['-122.220000',\n",
       "  '37.860000',\n",
       "  '21.000000',\n",
       "  '7099.000000',\n",
       "  '1106.000000',\n",
       "  '2401.000000',\n",
       "  '1138.000000',\n",
       "  '8.301400',\n",
       "  '358500.000000']]"
      ]
     },
     "execution_count": 37,
     "metadata": {
      "tags": []
     },
     "output_type": "execute_result"
    }
   ],
   "source": [
    "rdd.take(2)"
   ]
  },
  {
   "cell_type": "code",
   "execution_count": 38,
   "metadata": {
    "colab": {
     "base_uri": "https://localhost:8080/",
     "height": 170
    },
    "colab_type": "code",
    "executionInfo": {
     "elapsed": 2273,
     "status": "ok",
     "timestamp": 1596903566071,
     "user": {
      "displayName": "Kaushik B",
      "photoUrl": "https://lh3.googleusercontent.com/a-/AOh14Gj9b1zsclt5cgGjbVjcm4VuoI0pqcVpK-30JLst=s64",
      "userId": "07146570031648308753"
     },
     "user_tz": -330
    },
    "id": "2CGkjzwStdPR",
    "outputId": "4b230290-ce66-4371-e885-452b1eba5d14"
   },
   "outputs": [
    {
     "data": {
      "text/plain": [
       "['-122.230000',\n",
       " '37.880000',\n",
       " '41.000000',\n",
       " '880.000000',\n",
       " '129.000000',\n",
       " '322.000000',\n",
       " '126.000000',\n",
       " '8.325200',\n",
       " '452600.000000']"
      ]
     },
     "execution_count": 38,
     "metadata": {
      "tags": []
     },
     "output_type": "execute_result"
    }
   ],
   "source": [
    "rdd.first()"
   ]
  },
  {
   "cell_type": "code",
   "execution_count": 39,
   "metadata": {
    "colab": {
     "base_uri": "https://localhost:8080/",
     "height": 323
    },
    "colab_type": "code",
    "executionInfo": {
     "elapsed": 2221,
     "status": "ok",
     "timestamp": 1596903575315,
     "user": {
      "displayName": "Kaushik B",
      "photoUrl": "https://lh3.googleusercontent.com/a-/AOh14Gj9b1zsclt5cgGjbVjcm4VuoI0pqcVpK-30JLst=s64",
      "userId": "07146570031648308753"
     },
     "user_tz": -330
    },
    "id": "-59iCzT2tgc2",
    "outputId": "20a2ec1c-1d3f-462a-c965-17d40f2753da"
   },
   "outputs": [
    {
     "data": {
      "text/plain": [
       "[['-124.350000',\n",
       "  '40.540000',\n",
       "  '52.000000',\n",
       "  '1820.000000',\n",
       "  '300.000000',\n",
       "  '806.000000',\n",
       "  '270.000000',\n",
       "  '3.014700',\n",
       "  '94600.000000'],\n",
       " ['-124.300000',\n",
       "  '41.840000',\n",
       "  '17.000000',\n",
       "  '2677.000000',\n",
       "  '531.000000',\n",
       "  '1244.000000',\n",
       "  '456.000000',\n",
       "  '3.031300',\n",
       "  '103600.000000']]"
      ]
     },
     "execution_count": 39,
     "metadata": {
      "tags": []
     },
     "output_type": "execute_result"
    }
   ],
   "source": [
    "rdd.top(2)"
   ]
  },
  {
   "cell_type": "code",
   "execution_count": 40,
   "metadata": {
    "colab": {},
    "colab_type": "code",
    "executionInfo": {
     "elapsed": 734,
     "status": "ok",
     "timestamp": 1596903582242,
     "user": {
      "displayName": "Kaushik B",
      "photoUrl": "https://lh3.googleusercontent.com/a-/AOh14Gj9b1zsclt5cgGjbVjcm4VuoI0pqcVpK-30JLst=s64",
      "userId": "07146570031648308753"
     },
     "user_tz": -330
    },
    "id": "Xx9TwEkJtimK"
   },
   "outputs": [],
   "source": [
    "from pyspark.sql import Row"
   ]
  },
  {
   "cell_type": "code",
   "execution_count": 41,
   "metadata": {
    "colab": {},
    "colab_type": "code",
    "executionInfo": {
     "elapsed": 1967,
     "status": "ok",
     "timestamp": 1596903587736,
     "user": {
      "displayName": "Kaushik B",
      "photoUrl": "https://lh3.googleusercontent.com/a-/AOh14Gj9b1zsclt5cgGjbVjcm4VuoI0pqcVpK-30JLst=s64",
      "userId": "07146570031648308753"
     },
     "user_tz": -330
    },
    "id": "nULlAQsZtltB"
   },
   "outputs": [],
   "source": [
    "df = rdd.map(lambda line: Row(longitude=line[0], \n",
    "                              latitude=line[1], \n",
    "                              housingMedianAge=line[2],\n",
    "                              totalRooms=line[3],\n",
    "                              totalBedRooms=line[4],\n",
    "                              population=line[5], \n",
    "                              households=line[6],\n",
    "                              medianIncome=line[7],\n",
    "                              medianHouseValue=line[8])).toDF()"
   ]
  },
  {
   "cell_type": "code",
   "execution_count": 42,
   "metadata": {
    "colab": {
     "base_uri": "https://localhost:8080/",
     "height": 459
    },
    "colab_type": "code",
    "executionInfo": {
     "elapsed": 1318,
     "status": "ok",
     "timestamp": 1596903590792,
     "user": {
      "displayName": "Kaushik B",
      "photoUrl": "https://lh3.googleusercontent.com/a-/AOh14Gj9b1zsclt5cgGjbVjcm4VuoI0pqcVpK-30JLst=s64",
      "userId": "07146570031648308753"
     },
     "user_tz": -330
    },
    "id": "pySUz5bLtoJd",
    "outputId": "b20aed1f-9186-438e-e54d-3a9b658594dc"
   },
   "outputs": [
    {
     "name": "stdout",
     "output_type": "stream",
     "text": [
      "+-----------+----------------+---------+-----------+----------------+------------+-----------+-------------+-----------+\n",
      "| households|housingMedianAge| latitude|  longitude|medianHouseValue|medianIncome| population|totalBedRooms| totalRooms|\n",
      "+-----------+----------------+---------+-----------+----------------+------------+-----------+-------------+-----------+\n",
      "| 126.000000|       41.000000|37.880000|-122.230000|   452600.000000|    8.325200| 322.000000|   129.000000| 880.000000|\n",
      "|1138.000000|       21.000000|37.860000|-122.220000|   358500.000000|    8.301400|2401.000000|  1106.000000|7099.000000|\n",
      "| 177.000000|       52.000000|37.850000|-122.240000|   352100.000000|    7.257400| 496.000000|   190.000000|1467.000000|\n",
      "| 219.000000|       52.000000|37.850000|-122.250000|   341300.000000|    5.643100| 558.000000|   235.000000|1274.000000|\n",
      "| 259.000000|       52.000000|37.850000|-122.250000|   342200.000000|    3.846200| 565.000000|   280.000000|1627.000000|\n",
      "| 193.000000|       52.000000|37.850000|-122.250000|   269700.000000|    4.036800| 413.000000|   213.000000| 919.000000|\n",
      "| 514.000000|       52.000000|37.840000|-122.250000|   299200.000000|    3.659100|1094.000000|   489.000000|2535.000000|\n",
      "| 647.000000|       52.000000|37.840000|-122.250000|   241400.000000|    3.120000|1157.000000|   687.000000|3104.000000|\n",
      "| 595.000000|       42.000000|37.840000|-122.260000|   226700.000000|    2.080400|1206.000000|   665.000000|2555.000000|\n",
      "| 714.000000|       52.000000|37.840000|-122.250000|   261100.000000|    3.691200|1551.000000|   707.000000|3549.000000|\n",
      "| 402.000000|       52.000000|37.850000|-122.260000|   281500.000000|    3.203100| 910.000000|   434.000000|2202.000000|\n",
      "| 734.000000|       52.000000|37.850000|-122.260000|   241800.000000|    3.270500|1504.000000|   752.000000|3503.000000|\n",
      "| 468.000000|       52.000000|37.850000|-122.260000|   213500.000000|    3.075000|1098.000000|   474.000000|2491.000000|\n",
      "| 174.000000|       52.000000|37.840000|-122.260000|   191300.000000|    2.673600| 345.000000|   191.000000| 696.000000|\n",
      "| 620.000000|       52.000000|37.850000|-122.260000|   159200.000000|    1.916700|1212.000000|   626.000000|2643.000000|\n",
      "| 264.000000|       50.000000|37.850000|-122.260000|   140000.000000|    2.125000| 697.000000|   283.000000|1120.000000|\n",
      "| 331.000000|       52.000000|37.850000|-122.270000|   152500.000000|    2.775000| 793.000000|   347.000000|1966.000000|\n",
      "| 303.000000|       52.000000|37.850000|-122.270000|   155500.000000|    2.120200| 648.000000|   293.000000|1228.000000|\n",
      "| 419.000000|       50.000000|37.840000|-122.260000|   158700.000000|    1.991100| 990.000000|   455.000000|2239.000000|\n",
      "| 275.000000|       52.000000|37.840000|-122.270000|   162900.000000|    2.603300| 690.000000|   298.000000|1503.000000|\n",
      "+-----------+----------------+---------+-----------+----------------+------------+-----------+-------------+-----------+\n",
      "only showing top 20 rows\n",
      "\n"
     ]
    }
   ],
   "source": [
    "df.show()"
   ]
  },
  {
   "cell_type": "code",
   "execution_count": 43,
   "metadata": {
    "colab": {
     "base_uri": "https://localhost:8080/",
     "height": 204
    },
    "colab_type": "code",
    "executionInfo": {
     "elapsed": 1419,
     "status": "ok",
     "timestamp": 1596903596717,
     "user": {
      "displayName": "Kaushik B",
      "photoUrl": "https://lh3.googleusercontent.com/a-/AOh14Gj9b1zsclt5cgGjbVjcm4VuoI0pqcVpK-30JLst=s64",
      "userId": "07146570031648308753"
     },
     "user_tz": -330
    },
    "id": "ugugE7sQtqjq",
    "outputId": "905f5d76-c30d-4d09-979f-568a19ae9f8c"
   },
   "outputs": [
    {
     "name": "stdout",
     "output_type": "stream",
     "text": [
      "root\n",
      " |-- households: string (nullable = true)\n",
      " |-- housingMedianAge: string (nullable = true)\n",
      " |-- latitude: string (nullable = true)\n",
      " |-- longitude: string (nullable = true)\n",
      " |-- medianHouseValue: string (nullable = true)\n",
      " |-- medianIncome: string (nullable = true)\n",
      " |-- population: string (nullable = true)\n",
      " |-- totalBedRooms: string (nullable = true)\n",
      " |-- totalRooms: string (nullable = true)\n",
      "\n"
     ]
    }
   ],
   "source": [
    "df.printSchema()"
   ]
  },
  {
   "cell_type": "code",
   "execution_count": 44,
   "metadata": {
    "colab": {},
    "colab_type": "code",
    "executionInfo": {
     "elapsed": 1601,
     "status": "ok",
     "timestamp": 1596903600336,
     "user": {
      "displayName": "Kaushik B",
      "photoUrl": "https://lh3.googleusercontent.com/a-/AOh14Gj9b1zsclt5cgGjbVjcm4VuoI0pqcVpK-30JLst=s64",
      "userId": "07146570031648308753"
     },
     "user_tz": -330
    },
    "id": "h-ctSjUottKB"
   },
   "outputs": [],
   "source": [
    "from pyspark.sql.types import *\n",
    "\n",
    "df = df.withColumn(\"longitude\", df[\"longitude\"].cast(FloatType())).withColumn(\"latitude\", df[\"latitude\"].cast(FloatType())).withColumn(\"housingMedianAge\",df[\"housingMedianAge\"].cast(FloatType())).withColumn(\"totalRooms\", df[\"totalRooms\"].cast(FloatType())).withColumn(\"totalBedRooms\", df[\"totalBedRooms\"].cast(FloatType())).withColumn(\"population\", df[\"population\"].cast(FloatType())).withColumn(\"households\", df[\"households\"].cast(FloatType())).withColumn(\"medianIncome\", df[\"medianIncome\"].cast(FloatType())).withColumn(\"medianHouseValue\", df[\"medianHouseValue\"].cast(FloatType()))"
   ]
  },
  {
   "cell_type": "code",
   "execution_count": 45,
   "metadata": {
    "colab": {},
    "colab_type": "code",
    "executionInfo": {
     "elapsed": 1404,
     "status": "ok",
     "timestamp": 1596903608994,
     "user": {
      "displayName": "Kaushik B",
      "photoUrl": "https://lh3.googleusercontent.com/a-/AOh14Gj9b1zsclt5cgGjbVjcm4VuoI0pqcVpK-30JLst=s64",
      "userId": "07146570031648308753"
     },
     "user_tz": -330
    },
    "id": "CvaMWwTCtwAV"
   },
   "outputs": [],
   "source": [
    "def convertColumn(df, names, newType):\n",
    "  for name in names: \n",
    "     df = df.withColumn(name, df[name].cast(newType))\n",
    "  return df \n",
    "\n",
    "columns = ['households', 'housingMedianAge', 'latitude', 'longitude', 'medianHouseValue', 'medianIncome', 'population', 'totalBedRooms', 'totalRooms']\n",
    "df = convertColumn(df, columns, FloatType())"
   ]
  },
  {
   "cell_type": "code",
   "execution_count": 46,
   "metadata": {
    "colab": {
     "base_uri": "https://localhost:8080/",
     "height": 289
    },
    "colab_type": "code",
    "executionInfo": {
     "elapsed": 1278,
     "status": "ok",
     "timestamp": 1596903613409,
     "user": {
      "displayName": "Kaushik B",
      "photoUrl": "https://lh3.googleusercontent.com/a-/AOh14Gj9b1zsclt5cgGjbVjcm4VuoI0pqcVpK-30JLst=s64",
      "userId": "07146570031648308753"
     },
     "user_tz": -330
    },
    "id": "e0yGfImOuXZu",
    "outputId": "e3cec2f8-e749-4d3a-a013-9f4135a9752b"
   },
   "outputs": [
    {
     "name": "stdout",
     "output_type": "stream",
     "text": [
      "+----------+-------------+\n",
      "|population|totalBedRooms|\n",
      "+----------+-------------+\n",
      "|     322.0|        129.0|\n",
      "|    2401.0|       1106.0|\n",
      "|     496.0|        190.0|\n",
      "|     558.0|        235.0|\n",
      "|     565.0|        280.0|\n",
      "|     413.0|        213.0|\n",
      "|    1094.0|        489.0|\n",
      "|    1157.0|        687.0|\n",
      "|    1206.0|        665.0|\n",
      "|    1551.0|        707.0|\n",
      "+----------+-------------+\n",
      "only showing top 10 rows\n",
      "\n"
     ]
    }
   ],
   "source": [
    "df.select('population','totalBedRooms').show(10)"
   ]
  },
  {
   "cell_type": "code",
   "execution_count": 47,
   "metadata": {
    "colab": {
     "base_uri": "https://localhost:8080/",
     "height": 459
    },
    "colab_type": "code",
    "executionInfo": {
     "elapsed": 4756,
     "status": "ok",
     "timestamp": 1596903621777,
     "user": {
      "displayName": "Kaushik B",
      "photoUrl": "https://lh3.googleusercontent.com/a-/AOh14Gj9b1zsclt5cgGjbVjcm4VuoI0pqcVpK-30JLst=s64",
      "userId": "07146570031648308753"
     },
     "user_tz": -330
    },
    "id": "g7xXAKC_uhr9",
    "outputId": "c095b57a-cb94-413e-eecd-ed6fc9b0c7d9"
   },
   "outputs": [
    {
     "name": "stdout",
     "output_type": "stream",
     "text": [
      "+----------------+-----+\n",
      "|housingMedianAge|count|\n",
      "+----------------+-----+\n",
      "|            52.0| 1273|\n",
      "|            51.0|   48|\n",
      "|            50.0|  136|\n",
      "|            49.0|  134|\n",
      "|            48.0|  177|\n",
      "|            47.0|  198|\n",
      "|            46.0|  245|\n",
      "|            45.0|  294|\n",
      "|            44.0|  356|\n",
      "|            43.0|  353|\n",
      "|            42.0|  368|\n",
      "|            41.0|  296|\n",
      "|            40.0|  304|\n",
      "|            39.0|  369|\n",
      "|            38.0|  394|\n",
      "|            37.0|  537|\n",
      "|            36.0|  862|\n",
      "|            35.0|  824|\n",
      "|            34.0|  689|\n",
      "|            33.0|  615|\n",
      "+----------------+-----+\n",
      "only showing top 20 rows\n",
      "\n"
     ]
    }
   ],
   "source": [
    "df.groupBy(\"housingMedianAge\").count().sort(\"housingMedianAge\",ascending=False).show()"
   ]
  },
  {
   "cell_type": "code",
   "execution_count": 48,
   "metadata": {
    "colab": {
     "base_uri": "https://localhost:8080/",
     "height": 207
    },
    "colab_type": "code",
    "executionInfo": {
     "elapsed": 3211,
     "status": "ok",
     "timestamp": 1596903629205,
     "user": {
      "displayName": "Kaushik B",
      "photoUrl": "https://lh3.googleusercontent.com/a-/AOh14Gj9b1zsclt5cgGjbVjcm4VuoI0pqcVpK-30JLst=s64",
      "userId": "07146570031648308753"
     },
     "user_tz": -330
    },
    "id": "tpAl-bDlukWN",
    "outputId": "0b51f0a0-0f48-4c61-9193-c91459ed0d5d"
   },
   "outputs": [
    {
     "name": "stdout",
     "output_type": "stream",
     "text": [
      "+-------+------------------+------------------+------------------+-------------------+------------------+------------------+------------------+-----------------+------------------+\n",
      "|summary|        households|  housingMedianAge|          latitude|          longitude|  medianHouseValue|      medianIncome|        population|    totalBedRooms|        totalRooms|\n",
      "+-------+------------------+------------------+------------------+-------------------+------------------+------------------+------------------+-----------------+------------------+\n",
      "|  count|             20640|             20640|             20640|              20640|             20640|             20640|             20640|            20640|             20640|\n",
      "|   mean| 499.5396802325581|28.639486434108527| 35.63186143109965|-119.56970444871473|206855.81690891474|3.8706710030346416|1425.4767441860465|537.8980135658915|2635.7630813953488|\n",
      "| stddev|382.32975283161136|12.585557612111613|2.1359523806029554| 2.0035317429328914|115395.61587441381|1.8998217183639672|1132.4621217653385|421.2479059431315|2181.6152515827994|\n",
      "|    min|               1.0|               1.0|             32.54|            -124.35|           14999.0|            0.4999|               3.0|              1.0|               2.0|\n",
      "|    max|            6082.0|              52.0|             41.95|            -114.31|          500001.0|           15.0001|           35682.0|           6445.0|           39320.0|\n",
      "+-------+------------------+------------------+------------------+-------------------+------------------+------------------+------------------+-----------------+------------------+\n",
      "\n"
     ]
    }
   ],
   "source": [
    "df.describe().show()\n"
   ]
  },
  {
   "cell_type": "code",
   "execution_count": 49,
   "metadata": {
    "colab": {
     "base_uri": "https://localhost:8080/",
     "height": 71
    },
    "colab_type": "code",
    "executionInfo": {
     "elapsed": 3429,
     "status": "ok",
     "timestamp": 1596903635545,
     "user": {
      "displayName": "Kaushik B",
      "photoUrl": "https://lh3.googleusercontent.com/a-/AOh14Gj9b1zsclt5cgGjbVjcm4VuoI0pqcVpK-30JLst=s64",
      "userId": "07146570031648308753"
     },
     "user_tz": -330
    },
    "id": "yVJzTJtfunAR",
    "outputId": "20a44829-5182-4fc1-a22f-85d342213d11"
   },
   "outputs": [
    {
     "data": {
      "text/plain": [
       "[Row(households=126.0, housingMedianAge=41.0, latitude=37.880001068115234, longitude=-122.2300033569336, medianHouseValue=4.526, medianIncome=8.325200080871582, population=322.0, totalBedRooms=129.0, totalRooms=880.0),\n",
       " Row(households=1138.0, housingMedianAge=21.0, latitude=37.86000061035156, longitude=-122.22000122070312, medianHouseValue=3.585, medianIncome=8.301400184631348, population=2401.0, totalBedRooms=1106.0, totalRooms=7099.0)]"
      ]
     },
     "execution_count": 49,
     "metadata": {
      "tags": []
     },
     "output_type": "execute_result"
    }
   ],
   "source": [
    "from pyspark.sql.functions import *\n",
    "\n",
    "df = df.withColumn(\"medianHouseValue\", col(\"medianHouseValue\")/100000)\n",
    "\n",
    "df.take(2)"
   ]
  },
  {
   "cell_type": "code",
   "execution_count": 50,
   "metadata": {
    "colab": {
     "base_uri": "https://localhost:8080/",
     "height": 54
    },
    "colab_type": "code",
    "executionInfo": {
     "elapsed": 2478,
     "status": "ok",
     "timestamp": 1596903640055,
     "user": {
      "displayName": "Kaushik B",
      "photoUrl": "https://lh3.googleusercontent.com/a-/AOh14Gj9b1zsclt5cgGjbVjcm4VuoI0pqcVpK-30JLst=s64",
      "userId": "07146570031648308753"
     },
     "user_tz": -330
    },
    "id": "UYECPih1uqEU",
    "outputId": "6001a783-8703-4913-94a5-8cf58a2ae461"
   },
   "outputs": [
    {
     "data": {
      "text/plain": [
       "Row(households=126.0, housingMedianAge=41.0, latitude=37.880001068115234, longitude=-122.2300033569336, medianHouseValue=4.526, medianIncome=8.325200080871582, population=322.0, totalBedRooms=129.0, totalRooms=880.0, roomsPerHousehold=6.984126984126984, populationPerHousehold=2.5555555555555554, bedroomsPerRoom=0.14659090909090908)"
      ]
     },
     "execution_count": 50,
     "metadata": {
      "tags": []
     },
     "output_type": "execute_result"
    }
   ],
   "source": [
    "roomsPerHousehold = df.select(col(\"totalRooms\")/col(\"households\"))\n",
    "\n",
    "populationPerHousehold = df.select(col(\"population\")/col(\"households\"))\n",
    "\n",
    "bedroomsPerRoom = df.select(col(\"totalBedRooms\")/col(\"totalRooms\"))\n",
    "\n",
    "df = df.withColumn(\"roomsPerHousehold\", col(\"totalRooms\")/col(\"households\")).withColumn(\"populationPerHousehold\", col(\"population\")/col(\"households\")).withColumn(\"bedroomsPerRoom\", col(\"totalBedRooms\")/col(\"totalRooms\"))\n",
    "\n",
    "df.first()"
   ]
  },
  {
   "cell_type": "code",
   "execution_count": 51,
   "metadata": {
    "colab": {},
    "colab_type": "code",
    "executionInfo": {
     "elapsed": 2800,
     "status": "ok",
     "timestamp": 1596903648678,
     "user": {
      "displayName": "Kaushik B",
      "photoUrl": "https://lh3.googleusercontent.com/a-/AOh14Gj9b1zsclt5cgGjbVjcm4VuoI0pqcVpK-30JLst=s64",
      "userId": "07146570031648308753"
     },
     "user_tz": -330
    },
    "id": "mjRCaDBwvIuY"
   },
   "outputs": [],
   "source": [
    "df = df.select(\"medianHouseValue\", \n",
    "              \"totalBedRooms\", \n",
    "              \"population\", \n",
    "              \"households\", \n",
    "              \"medianIncome\", \n",
    "              \"roomsPerHousehold\", \n",
    "              \"populationPerHousehold\", \n",
    "              \"bedroomsPerRoom\")"
   ]
  },
  {
   "cell_type": "code",
   "execution_count": 52,
   "metadata": {
    "colab": {},
    "colab_type": "code",
    "executionInfo": {
     "elapsed": 2931,
     "status": "ok",
     "timestamp": 1596903653833,
     "user": {
      "displayName": "Kaushik B",
      "photoUrl": "https://lh3.googleusercontent.com/a-/AOh14Gj9b1zsclt5cgGjbVjcm4VuoI0pqcVpK-30JLst=s64",
      "userId": "07146570031648308753"
     },
     "user_tz": -330
    },
    "id": "i9YCnjxEvLjs"
   },
   "outputs": [],
   "source": [
    "from pyspark.ml.linalg import DenseVector\n",
    "\n",
    "input_data = df.rdd.map(lambda x: (x[0], DenseVector(x[1:])))\n",
    "\n",
    "df = spark.createDataFrame(input_data, [\"label\", \"features\"])"
   ]
  },
  {
   "cell_type": "code",
   "execution_count": 53,
   "metadata": {
    "colab": {
     "base_uri": "https://localhost:8080/",
     "height": 71
    },
    "colab_type": "code",
    "executionInfo": {
     "elapsed": 3920,
     "status": "ok",
     "timestamp": 1596903660076,
     "user": {
      "displayName": "Kaushik B",
      "photoUrl": "https://lh3.googleusercontent.com/a-/AOh14Gj9b1zsclt5cgGjbVjcm4VuoI0pqcVpK-30JLst=s64",
      "userId": "07146570031648308753"
     },
     "user_tz": -330
    },
    "id": "MpgmALpgvOgd",
    "outputId": "4ad4a3c2-7577-494e-acf4-3ab211d40b27"
   },
   "outputs": [
    {
     "data": {
      "text/plain": [
       "[Row(label=4.526, features=DenseVector([129.0, 322.0, 126.0, 8.3252, 6.9841, 2.5556, 0.1466]), features_scaled=DenseVector([0.3062, 0.2843, 0.3296, 4.3821, 2.8228, 0.2461, 2.5264])),\n",
       " Row(label=3.585, features=DenseVector([1106.0, 2401.0, 1138.0, 8.3014, 6.2381, 2.1098, 0.1558]), features_scaled=DenseVector([2.6255, 2.1202, 2.9765, 4.3696, 2.5213, 0.2031, 2.6851]))]"
      ]
     },
     "execution_count": 53,
     "metadata": {
      "tags": []
     },
     "output_type": "execute_result"
    }
   ],
   "source": [
    "from pyspark.ml.feature import StandardScaler\n",
    "\n",
    "standardScaler = StandardScaler(inputCol=\"features\", outputCol=\"features_scaled\")\n",
    "\n",
    "scaler = standardScaler.fit(df)\n",
    "\n",
    "scaled_df = scaler.transform(df)\n",
    "\n",
    "scaled_df.take(2)"
   ]
  },
  {
   "cell_type": "code",
   "execution_count": 54,
   "metadata": {
    "colab": {},
    "colab_type": "code",
    "executionInfo": {
     "elapsed": 1296,
     "status": "ok",
     "timestamp": 1596903669839,
     "user": {
      "displayName": "Kaushik B",
      "photoUrl": "https://lh3.googleusercontent.com/a-/AOh14Gj9b1zsclt5cgGjbVjcm4VuoI0pqcVpK-30JLst=s64",
      "userId": "07146570031648308753"
     },
     "user_tz": -330
    },
    "id": "afZmctC6vfd4"
   },
   "outputs": [],
   "source": [
    "train_data, test_data = scaled_df.randomSplit([.8,.2],seed=1234)"
   ]
  },
  {
   "cell_type": "code",
   "execution_count": 55,
   "metadata": {
    "colab": {
     "base_uri": "https://localhost:8080/",
     "height": 102
    },
    "colab_type": "code",
    "executionInfo": {
     "elapsed": 11524,
     "status": "ok",
     "timestamp": 1596903684677,
     "user": {
      "displayName": "Kaushik B",
      "photoUrl": "https://lh3.googleusercontent.com/a-/AOh14Gj9b1zsclt5cgGjbVjcm4VuoI0pqcVpK-30JLst=s64",
      "userId": "07146570031648308753"
     },
     "user_tz": -330
    },
    "id": "ZKnjiF6pvhY8",
    "outputId": "63a64899-f8cd-4ddf-9054-aa6a380c7f8c"
   },
   "outputs": [
    {
     "data": {
      "text/plain": [
       "[(1.4491508524918457, 0.14999),\n",
       " (1.5705029404692372, 0.14999),\n",
       " (2.148727956912464, 0.14999),\n",
       " (1.5831547768979277, 0.344),\n",
       " (1.5182107797955968, 0.398)]"
      ]
     },
     "execution_count": 55,
     "metadata": {
      "tags": []
     },
     "output_type": "execute_result"
    }
   ],
   "source": [
    "from pyspark.ml.regression import LinearRegression\n",
    "\n",
    "lr = LinearRegression(labelCol=\"label\", maxIter=10, regParam=0.3, elasticNetParam=0.8)\n",
    "\n",
    "linearModel = lr.fit(train_data)\n",
    "\n",
    "predicted = linearModel.transform(test_data)\n",
    "\n",
    "predictions = predicted.select(\"prediction\").rdd.map(lambda x: x[0])\n",
    "labels = predicted.select(\"label\").rdd.map(lambda x: x[0])\n",
    "\n",
    "predictionAndLabel = predictions.zip(labels).collect()\n",
    "\n",
    "predictionAndLabel[:5]"
   ]
  },
  {
   "cell_type": "code",
   "execution_count": 56,
   "metadata": {
    "colab": {
     "base_uri": "https://localhost:8080/",
     "height": 34
    },
    "colab_type": "code",
    "executionInfo": {
     "elapsed": 1436,
     "status": "ok",
     "timestamp": 1596903692229,
     "user": {
      "displayName": "Kaushik B",
      "photoUrl": "https://lh3.googleusercontent.com/a-/AOh14Gj9b1zsclt5cgGjbVjcm4VuoI0pqcVpK-30JLst=s64",
      "userId": "07146570031648308753"
     },
     "user_tz": -330
    },
    "id": "Tqvsn_uXvjYk",
    "outputId": "4697a461-5d44-48d6-836d-aab19c49699a"
   },
   "outputs": [
    {
     "data": {
      "text/plain": [
       "DenseVector([0.0, 0.0, 0.0, 0.2762, 0.0, 0.0, 0.0])"
      ]
     },
     "execution_count": 56,
     "metadata": {
      "tags": []
     },
     "output_type": "execute_result"
    }
   ],
   "source": [
    "linearModel.coefficients"
   ]
  },
  {
   "cell_type": "code",
   "execution_count": 57,
   "metadata": {
    "colab": {
     "base_uri": "https://localhost:8080/",
     "height": 34
    },
    "colab_type": "code",
    "executionInfo": {
     "elapsed": 1257,
     "status": "ok",
     "timestamp": 1596903695748,
     "user": {
      "displayName": "Kaushik B",
      "photoUrl": "https://lh3.googleusercontent.com/a-/AOh14Gj9b1zsclt5cgGjbVjcm4VuoI0pqcVpK-30JLst=s64",
      "userId": "07146570031648308753"
     },
     "user_tz": -330
    },
    "id": "1lLk8Qh0v0SM",
    "outputId": "1b52e683-412c-4b2c-9831-587c9c8bf4d7"
   },
   "outputs": [
    {
     "data": {
      "text/plain": [
       "0.9903995774620005"
      ]
     },
     "execution_count": 57,
     "metadata": {
      "tags": []
     },
     "output_type": "execute_result"
    }
   ],
   "source": [
    "linearModel.intercept"
   ]
  },
  {
   "cell_type": "code",
   "execution_count": 58,
   "metadata": {
    "colab": {
     "base_uri": "https://localhost:8080/",
     "height": 34
    },
    "colab_type": "code",
    "executionInfo": {
     "elapsed": 1414,
     "status": "ok",
     "timestamp": 1596903699272,
     "user": {
      "displayName": "Kaushik B",
      "photoUrl": "https://lh3.googleusercontent.com/a-/AOh14Gj9b1zsclt5cgGjbVjcm4VuoI0pqcVpK-30JLst=s64",
      "userId": "07146570031648308753"
     },
     "user_tz": -330
    },
    "id": "Vx2ovIiVv0qs",
    "outputId": "da0cf8ee-54de-4d00-95aa-eb24aed91b4a"
   },
   "outputs": [
    {
     "data": {
      "text/plain": [
       "0.8692118678997669"
      ]
     },
     "execution_count": 58,
     "metadata": {
      "tags": []
     },
     "output_type": "execute_result"
    }
   ],
   "source": [
    "linearModel.summary.rootMeanSquaredError"
   ]
  },
  {
   "cell_type": "code",
   "execution_count": 59,
   "metadata": {
    "colab": {
     "base_uri": "https://localhost:8080/",
     "height": 34
    },
    "colab_type": "code",
    "executionInfo": {
     "elapsed": 1587,
     "status": "ok",
     "timestamp": 1596903702794,
     "user": {
      "displayName": "Kaushik B",
      "photoUrl": "https://lh3.googleusercontent.com/a-/AOh14Gj9b1zsclt5cgGjbVjcm4VuoI0pqcVpK-30JLst=s64",
      "userId": "07146570031648308753"
     },
     "user_tz": -330
    },
    "id": "3D283W3fv27Y",
    "outputId": "91729388-d175-4a6e-c849-8bf1876caac6"
   },
   "outputs": [
    {
     "data": {
      "text/plain": [
       "0.4240895287218379"
      ]
     },
     "execution_count": 59,
     "metadata": {
      "tags": []
     },
     "output_type": "execute_result"
    }
   ],
   "source": [
    "linearModel.summary.r2"
   ]
  }
 ],
 "metadata": {
  "colab": {
   "authorship_tag": "ABX9TyO9nuWc/aRL2vjsm8if3VeX",
   "collapsed_sections": [],
   "name": "Regression_Analysis_KaushikB_C20032.ipynb",
   "provenance": []
  },
  "kernelspec": {
   "display_name": "Python 3",
   "language": "python",
   "name": "python3"
  },
  "language_info": {
   "codemirror_mode": {
    "name": "ipython",
    "version": 3
   },
   "file_extension": ".py",
   "mimetype": "text/x-python",
   "name": "python",
   "nbconvert_exporter": "python",
   "pygments_lexer": "ipython3",
   "version": "3.7.4"
  }
 },
 "nbformat": 4,
 "nbformat_minor": 1
}
